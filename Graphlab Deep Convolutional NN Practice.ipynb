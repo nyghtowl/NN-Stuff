{
 "metadata": {
  "name": "",
  "signature": "sha256:915e506a8bde635e3eb82a2bd7ef1fcf3ba2046679388f73d621884a27124bc1"
 },
 "nbformat": 3,
 "nbformat_minor": 0,
 "worksheets": [
  {
   "cells": [
    {
     "cell_type": "raw",
     "metadata": {},
     "source": [
      "Layered neural net example from graphlab without hyperparameter tuning. Running on mnst and animal pictures. All tests below are based on labeled/supervised data."
     ]
    },
    {
     "cell_type": "code",
     "collapsed": false,
     "input": [
      "import graphlab\n",
      "import os\n",
      "import tarfile"
     ],
     "language": "python",
     "metadata": {},
     "outputs": [],
     "prompt_number": 5
    },
    {
     "cell_type": "raw",
     "metadata": {},
     "source": [
      "Load Data"
     ]
    },
    {
     "cell_type": "code",
     "collapsed": false,
     "input": [
      "WORKING_DIR = '/data/imagenet'\n",
      "os.listdir(WORKING_DIR + '/raw/')"
     ],
     "language": "python",
     "metadata": {},
     "outputs": [
      {
       "ename": "OSError",
       "evalue": "[Errno 2] No such file or directory: '/data/imagenet/raw/'",
       "output_type": "pyerr",
       "traceback": [
        "\u001b[0;31m---------------------------------------------------------------------------\u001b[0m\n\u001b[0;31mOSError\u001b[0m                                   Traceback (most recent call last)",
        "\u001b[0;32m<ipython-input-3-a1cdeb59c7b0>\u001b[0m in \u001b[0;36m<module>\u001b[0;34m()\u001b[0m\n\u001b[1;32m      1\u001b[0m \u001b[0mWORKING_DIR\u001b[0m \u001b[0;34m=\u001b[0m \u001b[0;34m'/data/imagenet'\u001b[0m\u001b[0;34m\u001b[0m\u001b[0m\n\u001b[0;32m----> 2\u001b[0;31m \u001b[0mos\u001b[0m\u001b[0;34m.\u001b[0m\u001b[0mlistdir\u001b[0m\u001b[0;34m(\u001b[0m\u001b[0mWORKING_DIR\u001b[0m \u001b[0;34m+\u001b[0m \u001b[0;34m'/raw/'\u001b[0m\u001b[0;34m)\u001b[0m\u001b[0;34m\u001b[0m\u001b[0m\n\u001b[0m",
        "\u001b[0;31mOSError\u001b[0m: [Errno 2] No such file or directory: '/data/imagenet/raw/'"
       ]
      }
     ],
     "prompt_number": 3
    },
    {
     "cell_type": "markdown",
     "metadata": {},
     "source": [
      "###MNST Example\n",
      "\n",
      "Took ~4 min  to build model based on size and type of data"
     ]
    },
    {
     "cell_type": "code",
     "collapsed": false,
     "input": [
      "data = graphlab.SFrame('http://s3.amazonaws.com/GraphLab-Datasets/mnist/sframe/train')"
     ],
     "language": "python",
     "metadata": {},
     "outputs": [
      {
       "output_type": "stream",
       "stream": "stderr",
       "text": [
        "[INFO] Start server at: ipc:///tmp/graphlab_server-6034 - Server binary: /usr/local/lib/python2.7/site-packages/graphlab/unity_server - Server log: /tmp/graphlab_server_1420938648.log\n"
       ]
      },
      {
       "output_type": "stream",
       "stream": "stderr",
       "text": [
        "[INFO] GraphLab Server Version: 1.2.1\n"
       ]
      },
      {
       "html": [
        "<pre>PROGRESS: Downloading http://s3.amazonaws.com/GraphLab-Datasets/mnist/sframe/train/dir_archive.ini to /var/tmp/graphlab-mwarrick/6034/000000.ini</pre>"
       ],
       "metadata": {},
       "output_type": "display_data",
       "text": [
        "PROGRESS: Downloading http://s3.amazonaws.com/GraphLab-Datasets/mnist/sframe/train/dir_archive.ini to /var/tmp/graphlab-mwarrick/6034/000000.ini"
       ]
      },
      {
       "html": [
        "<pre>PROGRESS: Downloading http://s3.amazonaws.com/GraphLab-Datasets/mnist/sframe/train/objects.bin to /var/tmp/graphlab-mwarrick/6034/000001.bin</pre>"
       ],
       "metadata": {},
       "output_type": "display_data",
       "text": [
        "PROGRESS: Downloading http://s3.amazonaws.com/GraphLab-Datasets/mnist/sframe/train/objects.bin to /var/tmp/graphlab-mwarrick/6034/000001.bin"
       ]
      },
      {
       "html": [
        "<pre>PROGRESS: Downloading http://s3.amazonaws.com/GraphLab-Datasets/mnist/sframe/train/m_4558118e.frame_idx to /var/tmp/graphlab-mwarrick/6034/000002.frame_idx</pre>"
       ],
       "metadata": {},
       "output_type": "display_data",
       "text": [
        "PROGRESS: Downloading http://s3.amazonaws.com/GraphLab-Datasets/mnist/sframe/train/m_4558118e.frame_idx to /var/tmp/graphlab-mwarrick/6034/000002.frame_idx"
       ]
      },
      {
       "html": [
        "<pre>PROGRESS: Downloading http://s3.amazonaws.com/GraphLab-Datasets/mnist/sframe/train/m_4558118e.sidx to /var/tmp/graphlab-mwarrick/6034/000003.sidx</pre>"
       ],
       "metadata": {},
       "output_type": "display_data",
       "text": [
        "PROGRESS: Downloading http://s3.amazonaws.com/GraphLab-Datasets/mnist/sframe/train/m_4558118e.sidx to /var/tmp/graphlab-mwarrick/6034/000003.sidx"
       ]
      },
      {
       "html": [
        "<pre>PROGRESS: Downloading http://s3.amazonaws.com/GraphLab-Datasets/mnist/sframe/train/m_4558118e.0000 to /var/tmp/graphlab-mwarrick/6034/000004.0000</pre>"
       ],
       "metadata": {},
       "output_type": "display_data",
       "text": [
        "PROGRESS: Downloading http://s3.amazonaws.com/GraphLab-Datasets/mnist/sframe/train/m_4558118e.0000 to /var/tmp/graphlab-mwarrick/6034/000004.0000"
       ]
      },
      {
       "html": [
        "<pre>PROGRESS: Downloading http://s3.amazonaws.com/GraphLab-Datasets/mnist/sframe/train/m_4558118e.0001 to /var/tmp/graphlab-mwarrick/6034/000005.0001</pre>"
       ],
       "metadata": {},
       "output_type": "display_data",
       "text": [
        "PROGRESS: Downloading http://s3.amazonaws.com/GraphLab-Datasets/mnist/sframe/train/m_4558118e.0001 to /var/tmp/graphlab-mwarrick/6034/000005.0001"
       ]
      },
      {
       "html": [
        "<pre>PROGRESS: Downloading http://s3.amazonaws.com/GraphLab-Datasets/mnist/sframe/train/m_4558118e.0002 to /var/tmp/graphlab-mwarrick/6034/000006.0002</pre>"
       ],
       "metadata": {},
       "output_type": "display_data",
       "text": [
        "PROGRESS: Downloading http://s3.amazonaws.com/GraphLab-Datasets/mnist/sframe/train/m_4558118e.0002 to /var/tmp/graphlab-mwarrick/6034/000006.0002"
       ]
      },
      {
       "html": [
        "<pre>PROGRESS: Downloading http://s3.amazonaws.com/GraphLab-Datasets/mnist/sframe/train/m_4558118e.0003 to /var/tmp/graphlab-mwarrick/6034/000007.0003</pre>"
       ],
       "metadata": {},
       "output_type": "display_data",
       "text": [
        "PROGRESS: Downloading http://s3.amazonaws.com/GraphLab-Datasets/mnist/sframe/train/m_4558118e.0003 to /var/tmp/graphlab-mwarrick/6034/000007.0003"
       ]
      },
      {
       "html": [
        "<pre>PROGRESS: Downloading http://s3.amazonaws.com/GraphLab-Datasets/mnist/sframe/train/m_4558118e.0004 to /var/tmp/graphlab-mwarrick/6034/000008.0004</pre>"
       ],
       "metadata": {},
       "output_type": "display_data",
       "text": [
        "PROGRESS: Downloading http://s3.amazonaws.com/GraphLab-Datasets/mnist/sframe/train/m_4558118e.0004 to /var/tmp/graphlab-mwarrick/6034/000008.0004"
       ]
      },
      {
       "html": [
        "<pre>PROGRESS: Downloading http://s3.amazonaws.com/GraphLab-Datasets/mnist/sframe/train/m_4558118e.0005 to /var/tmp/graphlab-mwarrick/6034/000009.0005</pre>"
       ],
       "metadata": {},
       "output_type": "display_data",
       "text": [
        "PROGRESS: Downloading http://s3.amazonaws.com/GraphLab-Datasets/mnist/sframe/train/m_4558118e.0005 to /var/tmp/graphlab-mwarrick/6034/000009.0005"
       ]
      },
      {
       "html": [
        "<pre>PROGRESS: Downloading http://s3.amazonaws.com/GraphLab-Datasets/mnist/sframe/train/m_4558118e.0006 to /var/tmp/graphlab-mwarrick/6034/000010.0006</pre>"
       ],
       "metadata": {},
       "output_type": "display_data",
       "text": [
        "PROGRESS: Downloading http://s3.amazonaws.com/GraphLab-Datasets/mnist/sframe/train/m_4558118e.0006 to /var/tmp/graphlab-mwarrick/6034/000010.0006"
       ]
      },
      {
       "html": [
        "<pre>PROGRESS: Downloading http://s3.amazonaws.com/GraphLab-Datasets/mnist/sframe/train/m_4558118e.0007 to /var/tmp/graphlab-mwarrick/6034/000011.0007</pre>"
       ],
       "metadata": {},
       "output_type": "display_data",
       "text": [
        "PROGRESS: Downloading http://s3.amazonaws.com/GraphLab-Datasets/mnist/sframe/train/m_4558118e.0007 to /var/tmp/graphlab-mwarrick/6034/000011.0007"
       ]
      }
     ],
     "prompt_number": 6
    },
    {
     "cell_type": "code",
     "collapsed": false,
     "input": [
      "data.column_names"
     ],
     "language": "python",
     "metadata": {},
     "outputs": [
      {
       "metadata": {},
       "output_type": "pyout",
       "prompt_number": 8,
       "text": [
        "<bound method SFrame.column_names of Columns:\n",
        "\tlabel\tint\n",
        "\timage\tImage\n",
        "\n",
        "Rows: 60000\n",
        "\n",
        "Data:\n",
        "+-------+----------------------+\n",
        "| label |        image         |\n",
        "+-------+----------------------+\n",
        "|   5   | Height: 28 Width: 28 |\n",
        "|   8   | Height: 28 Width: 28 |\n",
        "|   1   | Height: 28 Width: 28 |\n",
        "|   4   | Height: 28 Width: 28 |\n",
        "|   2   | Height: 28 Width: 28 |\n",
        "|   7   | Height: 28 Width: 28 |\n",
        "|   0   | Height: 28 Width: 28 |\n",
        "|   2   | Height: 28 Width: 28 |\n",
        "|   5   | Height: 28 Width: 28 |\n",
        "|   9   | Height: 28 Width: 28 |\n",
        "+-------+----------------------+\n",
        "[60000 rows x 2 columns]\n",
        "Note: Only the head of the SFrame is printed.\n",
        "You can use print_rows(num_rows=m, num_columns=n) to print more rows and columns.>"
       ]
      }
     ],
     "prompt_number": 8
    },
    {
     "cell_type": "code",
     "collapsed": false,
     "input": [
      "model = graphlab.neuralnet_classifier.create(data, target='label')"
     ],
     "language": "python",
     "metadata": {},
     "outputs": [
      {
       "html": [
        "<pre>PROGRESS: Computing mean image...</pre>"
       ],
       "metadata": {},
       "output_type": "display_data",
       "text": [
        "PROGRESS: Computing mean image..."
       ]
      },
      {
       "html": [
        "<pre>PROGRESS: Done computing mean image.</pre>"
       ],
       "metadata": {},
       "output_type": "display_data",
       "text": [
        "PROGRESS: Done computing mean image."
       ]
      },
      {
       "html": [
        "<pre>PROGRESS: Creating neuralnet using device = cpu</pre>"
       ],
       "metadata": {},
       "output_type": "display_data",
       "text": [
        "PROGRESS: Creating neuralnet using device = cpu"
       ]
      },
      {
       "html": [
        "<pre>PROGRESS: +-----------+----------+--------------+-------------------+-----------------+</pre>"
       ],
       "metadata": {},
       "output_type": "display_data",
       "text": [
        "PROGRESS: +-----------+----------+--------------+-------------------+-----------------+"
       ]
      },
      {
       "html": [
        "<pre>PROGRESS: | Iteration | Examples | Elapsed Time | Training-accuracy | Examples/second |</pre>"
       ],
       "metadata": {},
       "output_type": "display_data",
       "text": [
        "PROGRESS: | Iteration | Examples | Elapsed Time | Training-accuracy | Examples/second |"
       ]
      },
      {
       "html": [
        "<pre>PROGRESS: +-----------+----------+--------------+-------------------+-----------------+</pre>"
       ],
       "metadata": {},
       "output_type": "display_data",
       "text": [
        "PROGRESS: +-----------+----------+--------------+-------------------+-----------------+"
       ]
      },
      {
       "html": [
        "<pre>PROGRESS: | 1         | 30000    | 10.030697    | 0.706333          | 2990.826172     |</pre>"
       ],
       "metadata": {},
       "output_type": "display_data",
       "text": [
        "PROGRESS: | 1         | 30000    | 10.030697    | 0.706333          | 2990.826172     |"
       ]
      },
      {
       "html": [
        "<pre>PROGRESS: | 1         | 60000    | 19.908210    | 0.806033          | 3037.194336     |</pre>"
       ],
       "metadata": {},
       "output_type": "display_data",
       "text": [
        "PROGRESS: | 1         | 60000    | 19.908210    | 0.806033          | 3037.194336     |"
       ]
      },
      {
       "html": [
        "<pre>PROGRESS: | 2         | 32500    | 29.929441    | 0.922462          | 3245.659180     |</pre>"
       ],
       "metadata": {},
       "output_type": "display_data",
       "text": [
        "PROGRESS: | 2         | 32500    | 29.929441    | 0.922462          | 3245.659180     |"
       ]
      },
      {
       "html": [
        "<pre>PROGRESS: | 2         | 60000    | 38.388423    | 0.930283          | 3250.979492     |</pre>"
       ],
       "metadata": {},
       "output_type": "display_data",
       "text": [
        "PROGRESS: | 2         | 60000    | 38.388423    | 0.930283          | 3250.979492     |"
       ]
      },
      {
       "html": [
        "<pre>PROGRESS: | 3         | 33500    | 48.390757    | 0.944925          | 3349.276611     |</pre>"
       ],
       "metadata": {},
       "output_type": "display_data",
       "text": [
        "PROGRESS: | 3         | 33500    | 48.390757    | 0.944925          | 3349.276611     |"
       ]
      },
      {
       "html": [
        "<pre>PROGRESS: | 3         | 60000    | 57.060205    | 0.947667          | 3056.709229     |</pre>"
       ],
       "metadata": {},
       "output_type": "display_data",
       "text": [
        "PROGRESS: | 3         | 60000    | 57.060205    | 0.947667          | 3056.709229     |"
       ]
      },
      {
       "html": [
        "<pre>PROGRESS: | 4         | 32500    | 67.073836    | 0.951785          | 3245.635986     |</pre>"
       ],
       "metadata": {},
       "output_type": "display_data",
       "text": [
        "PROGRESS: | 4         | 32500    | 67.073836    | 0.951785          | 3245.635986     |"
       ]
      },
      {
       "html": [
        "<pre>PROGRESS: | 4         | 60000    | 76.229765    | 0.954500          | 3003.515869     |</pre>"
       ],
       "metadata": {},
       "output_type": "display_data",
       "text": [
        "PROGRESS: | 4         | 60000    | 76.229765    | 0.954500          | 3003.515869     |"
       ]
      },
      {
       "html": [
        "<pre>PROGRESS: | 5         | 30400    | 86.248346    | 0.955592          | 3034.414795     |</pre>"
       ],
       "metadata": {},
       "output_type": "display_data",
       "text": [
        "PROGRESS: | 5         | 30400    | 86.248346    | 0.955592          | 3034.414795     |"
       ]
      },
      {
       "html": [
        "<pre>PROGRESS: | 5         | 60000    | 95.917685    | 0.956683          | 3061.220703     |</pre>"
       ],
       "metadata": {},
       "output_type": "display_data",
       "text": [
        "PROGRESS: | 5         | 60000    | 95.917685    | 0.956683          | 3061.220703     |"
       ]
      },
      {
       "html": [
        "<pre>PROGRESS: | 6         | 30000    | 105.948480   | 0.959367          | 2990.868896     |</pre>"
       ],
       "metadata": {},
       "output_type": "display_data",
       "text": [
        "PROGRESS: | 6         | 30000    | 105.948480   | 0.959367          | 2990.868896     |"
       ]
      },
      {
       "html": [
        "<pre>PROGRESS: | 6         | 60000    | 115.107277   | 0.960117          | 3275.536377     |</pre>"
       ],
       "metadata": {},
       "output_type": "display_data",
       "text": [
        "PROGRESS: | 6         | 60000    | 115.107277   | 0.960117          | 3275.536377     |"
       ]
      },
      {
       "html": [
        "<pre>PROGRESS: | 7         | 33300    | 125.112521   | 0.961622          | 3328.330566     |</pre>"
       ],
       "metadata": {},
       "output_type": "display_data",
       "text": [
        "PROGRESS: | 7         | 33300    | 125.112521   | 0.961622          | 3328.330566     |"
       ]
      },
      {
       "html": [
        "<pre>PROGRESS: | 7         | 60000    | 133.278048   | 0.962550          | 3269.840820     |</pre>"
       ],
       "metadata": {},
       "output_type": "display_data",
       "text": [
        "PROGRESS: | 7         | 60000    | 133.278048   | 0.962550          | 3269.840820     |"
       ]
      },
      {
       "html": [
        "<pre>PROGRESS: | 8         | 33000    | 143.302216   | 0.965000          | 3292.102295     |</pre>"
       ],
       "metadata": {},
       "output_type": "display_data",
       "text": [
        "PROGRESS: | 8         | 33000    | 143.302216   | 0.965000          | 3292.102295     |"
       ]
      },
      {
       "html": [
        "<pre>PROGRESS: | 8         | 60000    | 151.217411   | 0.965017          | 3411.157471     |</pre>"
       ],
       "metadata": {},
       "output_type": "display_data",
       "text": [
        "PROGRESS: | 8         | 60000    | 151.217411   | 0.965017          | 3411.157471     |"
       ]
      },
      {
       "html": [
        "<pre>PROGRESS: | 9         | 34300    | 161.246780   | 0.965131          | 3420.018311     |</pre>"
       ],
       "metadata": {},
       "output_type": "display_data",
       "text": [
        "PROGRESS: | 9         | 34300    | 161.246780   | 0.965131          | 3420.018311     |"
       ]
      },
      {
       "html": [
        "<pre>PROGRESS: | 9         | 60000    | 168.887212   | 0.966133          | 3363.681396     |</pre>"
       ],
       "metadata": {},
       "output_type": "display_data",
       "text": [
        "PROGRESS: | 9         | 60000    | 168.887212   | 0.966133          | 3363.681396     |"
       ]
      },
      {
       "html": [
        "<pre>PROGRESS: | 10        | 33400    | 178.918940   | 0.965329          | 3329.495850     |</pre>"
       ],
       "metadata": {},
       "output_type": "display_data",
       "text": [
        "PROGRESS: | 10        | 33400    | 178.918940   | 0.965329          | 3329.495850     |"
       ]
      },
      {
       "html": [
        "<pre>PROGRESS: | 10        | 60000    | 187.242083   | 0.966900          | 3195.905518     |</pre>"
       ],
       "metadata": {},
       "output_type": "display_data",
       "text": [
        "PROGRESS: | 10        | 60000    | 187.242083   | 0.966900          | 3195.905518     |"
       ]
      }
     ],
     "prompt_number": 9
    },
    {
     "cell_type": "code",
     "collapsed": false,
     "input": [
      "testing_data = graphlab.SFrame('http://s3.amazonaws.com/GraphLab-Datasets/mnist/sframe/test')"
     ],
     "language": "python",
     "metadata": {},
     "outputs": [
      {
       "html": [
        "<pre>PROGRESS: Downloading http://s3.amazonaws.com/GraphLab-Datasets/mnist/sframe/test/dir_archive.ini to /var/tmp/graphlab-mwarrick/6034/000012.ini</pre>"
       ],
       "metadata": {},
       "output_type": "display_data",
       "text": [
        "PROGRESS: Downloading http://s3.amazonaws.com/GraphLab-Datasets/mnist/sframe/test/dir_archive.ini to /var/tmp/graphlab-mwarrick/6034/000012.ini"
       ]
      },
      {
       "html": [
        "<pre>PROGRESS: Downloading http://s3.amazonaws.com/GraphLab-Datasets/mnist/sframe/test/objects.bin to /var/tmp/graphlab-mwarrick/6034/000013.bin</pre>"
       ],
       "metadata": {},
       "output_type": "display_data",
       "text": [
        "PROGRESS: Downloading http://s3.amazonaws.com/GraphLab-Datasets/mnist/sframe/test/objects.bin to /var/tmp/graphlab-mwarrick/6034/000013.bin"
       ]
      },
      {
       "html": [
        "<pre>PROGRESS: Downloading http://s3.amazonaws.com/GraphLab-Datasets/mnist/sframe/test/m_310c50b3.frame_idx to /var/tmp/graphlab-mwarrick/6034/000014.frame_idx</pre>"
       ],
       "metadata": {},
       "output_type": "display_data",
       "text": [
        "PROGRESS: Downloading http://s3.amazonaws.com/GraphLab-Datasets/mnist/sframe/test/m_310c50b3.frame_idx to /var/tmp/graphlab-mwarrick/6034/000014.frame_idx"
       ]
      },
      {
       "html": [
        "<pre>PROGRESS: Downloading http://s3.amazonaws.com/GraphLab-Datasets/mnist/sframe/test/m_310c50b3.sidx to /var/tmp/graphlab-mwarrick/6034/000015.sidx</pre>"
       ],
       "metadata": {},
       "output_type": "display_data",
       "text": [
        "PROGRESS: Downloading http://s3.amazonaws.com/GraphLab-Datasets/mnist/sframe/test/m_310c50b3.sidx to /var/tmp/graphlab-mwarrick/6034/000015.sidx"
       ]
      },
      {
       "html": [
        "<pre>PROGRESS: Downloading http://s3.amazonaws.com/GraphLab-Datasets/mnist/sframe/test/m_310c50b3.0000 to /var/tmp/graphlab-mwarrick/6034/000016.0000</pre>"
       ],
       "metadata": {},
       "output_type": "display_data",
       "text": [
        "PROGRESS: Downloading http://s3.amazonaws.com/GraphLab-Datasets/mnist/sframe/test/m_310c50b3.0000 to /var/tmp/graphlab-mwarrick/6034/000016.0000"
       ]
      },
      {
       "html": [
        "<pre>PROGRESS: Downloading http://s3.amazonaws.com/GraphLab-Datasets/mnist/sframe/test/m_310c50b3.0001 to /var/tmp/graphlab-mwarrick/6034/000017.0001</pre>"
       ],
       "metadata": {},
       "output_type": "display_data",
       "text": [
        "PROGRESS: Downloading http://s3.amazonaws.com/GraphLab-Datasets/mnist/sframe/test/m_310c50b3.0001 to /var/tmp/graphlab-mwarrick/6034/000017.0001"
       ]
      },
      {
       "html": [
        "<pre>PROGRESS: Downloading http://s3.amazonaws.com/GraphLab-Datasets/mnist/sframe/test/m_310c50b3.0002 to /var/tmp/graphlab-mwarrick/6034/000018.0002</pre>"
       ],
       "metadata": {},
       "output_type": "display_data",
       "text": [
        "PROGRESS: Downloading http://s3.amazonaws.com/GraphLab-Datasets/mnist/sframe/test/m_310c50b3.0002 to /var/tmp/graphlab-mwarrick/6034/000018.0002"
       ]
      },
      {
       "html": [
        "<pre>PROGRESS: Downloading http://s3.amazonaws.com/GraphLab-Datasets/mnist/sframe/test/m_310c50b3.0003 to /var/tmp/graphlab-mwarrick/6034/000019.0003</pre>"
       ],
       "metadata": {},
       "output_type": "display_data",
       "text": [
        "PROGRESS: Downloading http://s3.amazonaws.com/GraphLab-Datasets/mnist/sframe/test/m_310c50b3.0003 to /var/tmp/graphlab-mwarrick/6034/000019.0003"
       ]
      },
      {
       "html": [
        "<pre>PROGRESS: Downloading http://s3.amazonaws.com/GraphLab-Datasets/mnist/sframe/test/m_310c50b3.0004 to /var/tmp/graphlab-mwarrick/6034/000020.0004</pre>"
       ],
       "metadata": {},
       "output_type": "display_data",
       "text": [
        "PROGRESS: Downloading http://s3.amazonaws.com/GraphLab-Datasets/mnist/sframe/test/m_310c50b3.0004 to /var/tmp/graphlab-mwarrick/6034/000020.0004"
       ]
      },
      {
       "html": [
        "<pre>PROGRESS: Downloading http://s3.amazonaws.com/GraphLab-Datasets/mnist/sframe/test/m_310c50b3.0005 to /var/tmp/graphlab-mwarrick/6034/000021.0005</pre>"
       ],
       "metadata": {},
       "output_type": "display_data",
       "text": [
        "PROGRESS: Downloading http://s3.amazonaws.com/GraphLab-Datasets/mnist/sframe/test/m_310c50b3.0005 to /var/tmp/graphlab-mwarrick/6034/000021.0005"
       ]
      },
      {
       "html": [
        "<pre>PROGRESS: Downloading http://s3.amazonaws.com/GraphLab-Datasets/mnist/sframe/test/m_310c50b3.0006 to /var/tmp/graphlab-mwarrick/6034/000022.0006</pre>"
       ],
       "metadata": {},
       "output_type": "display_data",
       "text": [
        "PROGRESS: Downloading http://s3.amazonaws.com/GraphLab-Datasets/mnist/sframe/test/m_310c50b3.0006 to /var/tmp/graphlab-mwarrick/6034/000022.0006"
       ]
      },
      {
       "html": [
        "<pre>PROGRESS: Downloading http://s3.amazonaws.com/GraphLab-Datasets/mnist/sframe/test/m_310c50b3.0007 to /var/tmp/graphlab-mwarrick/6034/000023.0007</pre>"
       ],
       "metadata": {},
       "output_type": "display_data",
       "text": [
        "PROGRESS: Downloading http://s3.amazonaws.com/GraphLab-Datasets/mnist/sframe/test/m_310c50b3.0007 to /var/tmp/graphlab-mwarrick/6034/000023.0007"
       ]
      }
     ],
     "prompt_number": 10
    },
    {
     "cell_type": "code",
     "collapsed": false,
     "input": [
      "model.evaluate(testing_data)"
     ],
     "language": "python",
     "metadata": {},
     "outputs": [
      {
       "metadata": {},
       "output_type": "pyout",
       "prompt_number": 11,
       "text": [
        "{'accuracy': 0.9789999723434448, 'confusion_matrix': Columns:\n",
        " \ttarget_label\tint\n",
        " \tpredicted_label\tint\n",
        " \tcount\tint\n",
        " \n",
        " Rows: 62\n",
        " \n",
        " Data:\n",
        " +--------------+-----------------+-------+\n",
        " | target_label | predicted_label | count |\n",
        " +--------------+-----------------+-------+\n",
        " |      5       |        5        |  879  |\n",
        " |      6       |        5        |   6   |\n",
        " |      3       |        5        |   4   |\n",
        " |      8       |        5        |   12  |\n",
        " |      0       |        5        |   2   |\n",
        " |      9       |        5        |   10  |\n",
        " |      5       |        6        |   2   |\n",
        " |      6       |        6        |  938  |\n",
        " |      8       |        6        |   5   |\n",
        " |      4       |        6        |   1   |\n",
        " |     ...      |       ...       |  ...  |\n",
        " +--------------+-----------------+-------+\n",
        " [62 rows x 3 columns]\n",
        " Note: Only the head of the SFrame is printed.\n",
        " You can use print_rows(num_rows=m, num_columns=n) to print more rows and columns.}"
       ]
      }
     ],
     "prompt_number": 11
    },
    {
     "cell_type": "markdown",
     "metadata": {},
     "source": [
      "###ImageNet\n",
      "using model already created and applying classifier to features extracted\n",
      "    * a couple minutes to load model\n",
      "    * 10-20 min to load data\n",
      "    * 4 hours to conduct feature extraction\n",
      "    * run on a consumer mac laptop 8GB memory and 4 cores"
     ]
    },
    {
     "cell_type": "code",
     "collapsed": false,
     "input": [
      "pretrained_model = graphlab.load_model('http://s3.amazonaws.com/GraphLab-Datasets/deeplearning/imagenet_model_iter45')"
     ],
     "language": "python",
     "metadata": {},
     "outputs": [
      {
       "html": [
        "<pre>PROGRESS: Downloading http://s3.amazonaws.com/GraphLab-Datasets/deeplearning/imagenet_model_iter45/dir_archive.ini to /var/tmp/graphlab-mwarrick/6034/000024.ini</pre>"
       ],
       "metadata": {},
       "output_type": "display_data",
       "text": [
        "PROGRESS: Downloading http://s3.amazonaws.com/GraphLab-Datasets/deeplearning/imagenet_model_iter45/dir_archive.ini to /var/tmp/graphlab-mwarrick/6034/000024.ini"
       ]
      },
      {
       "html": [
        "<pre>PROGRESS: Downloading http://s3.amazonaws.com/GraphLab-Datasets/deeplearning/imagenet_model_iter45/objects.bin to /var/tmp/graphlab-mwarrick/6034/000025.bin</pre>"
       ],
       "metadata": {},
       "output_type": "display_data",
       "text": [
        "PROGRESS: Downloading http://s3.amazonaws.com/GraphLab-Datasets/deeplearning/imagenet_model_iter45/objects.bin to /var/tmp/graphlab-mwarrick/6034/000025.bin"
       ]
      }
     ],
     "prompt_number": 12
    },
    {
     "cell_type": "code",
     "collapsed": false,
     "input": [
      "cats_dogs_sf = graphlab.SFrame('http://s3.amazonaws.com/GraphLab-Datasets/cats_vs_dogs/cats_dogs_sf')"
     ],
     "language": "python",
     "metadata": {},
     "outputs": [
      {
       "html": [
        "<pre>PROGRESS: Downloading http://s3.amazonaws.com/GraphLab-Datasets/cats_vs_dogs/cats_dogs_sf/dir_archive.ini to /var/tmp/graphlab-mwarrick/6034/000026.ini</pre>"
       ],
       "metadata": {},
       "output_type": "display_data",
       "text": [
        "PROGRESS: Downloading http://s3.amazonaws.com/GraphLab-Datasets/cats_vs_dogs/cats_dogs_sf/dir_archive.ini to /var/tmp/graphlab-mwarrick/6034/000026.ini"
       ]
      },
      {
       "html": [
        "<pre>PROGRESS: Downloading http://s3.amazonaws.com/GraphLab-Datasets/cats_vs_dogs/cats_dogs_sf/objects.bin to /var/tmp/graphlab-mwarrick/6034/000027.bin</pre>"
       ],
       "metadata": {},
       "output_type": "display_data",
       "text": [
        "PROGRESS: Downloading http://s3.amazonaws.com/GraphLab-Datasets/cats_vs_dogs/cats_dogs_sf/objects.bin to /var/tmp/graphlab-mwarrick/6034/000027.bin"
       ]
      },
      {
       "html": [
        "<pre>PROGRESS: Downloading http://s3.amazonaws.com/GraphLab-Datasets/cats_vs_dogs/cats_dogs_sf/m_52cd6bdc03ea9c46.frame_idx to /var/tmp/graphlab-mwarrick/6034/000028.frame_idx</pre>"
       ],
       "metadata": {},
       "output_type": "display_data",
       "text": [
        "PROGRESS: Downloading http://s3.amazonaws.com/GraphLab-Datasets/cats_vs_dogs/cats_dogs_sf/m_52cd6bdc03ea9c46.frame_idx to /var/tmp/graphlab-mwarrick/6034/000028.frame_idx"
       ]
      },
      {
       "html": [
        "<pre>PROGRESS: Downloading http://s3.amazonaws.com/GraphLab-Datasets/cats_vs_dogs/cats_dogs_sf/m_52cd6bdc03ea9c46.sidx to /var/tmp/graphlab-mwarrick/6034/000029.sidx</pre>"
       ],
       "metadata": {},
       "output_type": "display_data",
       "text": [
        "PROGRESS: Downloading http://s3.amazonaws.com/GraphLab-Datasets/cats_vs_dogs/cats_dogs_sf/m_52cd6bdc03ea9c46.sidx to /var/tmp/graphlab-mwarrick/6034/000029.sidx"
       ]
      },
      {
       "html": [
        "<pre>PROGRESS: Downloading http://s3.amazonaws.com/GraphLab-Datasets/cats_vs_dogs/cats_dogs_sf/m_52cd6bdc03ea9c46.0000 to /var/tmp/graphlab-mwarrick/6034/000030.0000</pre>"
       ],
       "metadata": {},
       "output_type": "display_data",
       "text": [
        "PROGRESS: Downloading http://s3.amazonaws.com/GraphLab-Datasets/cats_vs_dogs/cats_dogs_sf/m_52cd6bdc03ea9c46.0000 to /var/tmp/graphlab-mwarrick/6034/000030.0000"
       ]
      },
      {
       "html": [
        "<pre>PROGRESS: Downloading http://s3.amazonaws.com/GraphLab-Datasets/cats_vs_dogs/cats_dogs_sf/m_52cd6bdc03ea9c46.0001 to /var/tmp/graphlab-mwarrick/6034/000031.0001</pre>"
       ],
       "metadata": {},
       "output_type": "display_data",
       "text": [
        "PROGRESS: Downloading http://s3.amazonaws.com/GraphLab-Datasets/cats_vs_dogs/cats_dogs_sf/m_52cd6bdc03ea9c46.0001 to /var/tmp/graphlab-mwarrick/6034/000031.0001"
       ]
      },
      {
       "html": [
        "<pre>PROGRESS: Downloading http://s3.amazonaws.com/GraphLab-Datasets/cats_vs_dogs/cats_dogs_sf/m_52cd6bdc03ea9c46.0002 to /var/tmp/graphlab-mwarrick/6034/000032.0002</pre>"
       ],
       "metadata": {},
       "output_type": "display_data",
       "text": [
        "PROGRESS: Downloading http://s3.amazonaws.com/GraphLab-Datasets/cats_vs_dogs/cats_dogs_sf/m_52cd6bdc03ea9c46.0002 to /var/tmp/graphlab-mwarrick/6034/000032.0002"
       ]
      },
      {
       "html": [
        "<pre>PROGRESS: Downloading http://s3.amazonaws.com/GraphLab-Datasets/cats_vs_dogs/cats_dogs_sf/m_52cd6bdc03ea9c46.0003 to /var/tmp/graphlab-mwarrick/6034/000033.0003</pre>"
       ],
       "metadata": {},
       "output_type": "display_data",
       "text": [
        "PROGRESS: Downloading http://s3.amazonaws.com/GraphLab-Datasets/cats_vs_dogs/cats_dogs_sf/m_52cd6bdc03ea9c46.0003 to /var/tmp/graphlab-mwarrick/6034/000033.0003"
       ]
      }
     ],
     "prompt_number": 13
    },
    {
     "cell_type": "code",
     "collapsed": false,
     "input": [
      "cats_dogs_sf['image'] = graphlab.image_analysis.resize(cats_dogs_sf['image'], 256, 256, 3)"
     ],
     "language": "python",
     "metadata": {},
     "outputs": [],
     "prompt_number": 14
    },
    {
     "cell_type": "code",
     "collapsed": false,
     "input": [
      "pretrained_model.summary"
     ],
     "language": "python",
     "metadata": {},
     "outputs": [
      {
       "metadata": {},
       "output_type": "pyout",
       "prompt_number": 15,
       "text": [
        "<bound method NeuralNetClassifier.summary of Class               : NeuralNetClassifier\n",
        "\n",
        "Examples            : 1281166\n",
        "Features            : 1\n",
        "Target column       : label\n",
        "\n",
        "Training accuracy   : 0.625\n",
        "Validation accuracy : None\n",
        "Training recall@5   : 0.8512\n",
        "Validation recall@5 : None\n",
        "Training time (sec) : 288884.0298\n",
        ">"
       ]
      }
     ],
     "prompt_number": 15
    },
    {
     "cell_type": "code",
     "collapsed": false,
     "input": [
      "cats_dogs_sf['features'] = pretrained_model.extract_features(cats_dogs_sf)"
     ],
     "language": "python",
     "metadata": {},
     "outputs": [],
     "prompt_number": 17
    },
    {
     "cell_type": "code",
     "collapsed": false,
     "input": [
      "cats_dogs_sf.column_names"
     ],
     "language": "python",
     "metadata": {},
     "outputs": [
      {
       "metadata": {},
       "output_type": "pyout",
       "prompt_number": 18,
       "text": [
        "<bound method SFrame.column_names of Columns:\n",
        "\timage\tImage\n",
        "\tlabel\tint\n",
        "\tfeatures\tarray\n",
        "\n",
        "Rows: 25000\n",
        "\n",
        "Data:\n",
        "+------------------------+-------+--------------------------------+\n",
        "|         image          | label |            features            |\n",
        "+------------------------+-------+--------------------------------+\n",
        "| Height: 256 Width: 256 |   1   | array('d', [0.0, 0.0, 1.15 ... |\n",
        "| Height: 256 Width: 256 |   0   | array('d', [0.227572143077 ... |\n",
        "| Height: 256 Width: 256 |   1   | array('d', [2.829765319824 ... |\n",
        "| Height: 256 Width: 256 |   0   | array('d', [2.605452299118 ... |\n",
        "| Height: 256 Width: 256 |   1   | array('d', [0.0, 0.0, 0.0, ... |\n",
        "| Height: 256 Width: 256 |   1   | array('d', [0.0, 0.0, 0.96 ... |\n",
        "| Height: 256 Width: 256 |   0   | array('d', [0.0, 0.0, 4.31 ... |\n",
        "| Height: 256 Width: 256 |   1   | array('d', [1.047919869422 ... |\n",
        "| Height: 256 Width: 256 |   1   | array('d', [1.102424025535 ... |\n",
        "| Height: 256 Width: 256 |   0   | array('d', [0.0, 0.0, 1.56 ... |\n",
        "+------------------------+-------+--------------------------------+\n",
        "[25000 rows x 3 columns]\n",
        "Note: Only the head of the SFrame is printed.\n",
        "You can use print_rows(num_rows=m, num_columns=n) to print more rows and columns.>"
       ]
      }
     ],
     "prompt_number": 18
    },
    {
     "cell_type": "code",
     "collapsed": false,
     "input": [
      "cats_dogs_train, cats_dogs_test = cats_dogs_sf.random_split(0.8)"
     ],
     "language": "python",
     "metadata": {},
     "outputs": [],
     "prompt_number": 19
    },
    {
     "cell_type": "code",
     "collapsed": false,
     "input": [
      "simple_classifier = graphlab.classifier.create(cats_dogs_train, features = ['features'], target = 'label')"
     ],
     "language": "python",
     "metadata": {},
     "outputs": [
      {
       "html": [
        "<pre>PROGRESS: Logistic regression:</pre>"
       ],
       "metadata": {},
       "output_type": "display_data",
       "text": [
        "PROGRESS: Logistic regression:"
       ]
      },
      {
       "html": [
        "<pre>PROGRESS: --------------------------------------------------------</pre>"
       ],
       "metadata": {},
       "output_type": "display_data",
       "text": [
        "PROGRESS: --------------------------------------------------------"
       ]
      },
      {
       "html": [
        "<pre>PROGRESS: Number of examples          : 20084</pre>"
       ],
       "metadata": {},
       "output_type": "display_data",
       "text": [
        "PROGRESS: Number of examples          : 20084"
       ]
      },
      {
       "html": [
        "<pre>PROGRESS: Number of classes           : 2</pre>"
       ],
       "metadata": {},
       "output_type": "display_data",
       "text": [
        "PROGRESS: Number of classes           : 2"
       ]
      },
      {
       "html": [
        "<pre>PROGRESS: Number of feature columns   : 1</pre>"
       ],
       "metadata": {},
       "output_type": "display_data",
       "text": [
        "PROGRESS: Number of feature columns   : 1"
       ]
      },
      {
       "html": [
        "<pre>PROGRESS: Number of unpacked features : 4096</pre>"
       ],
       "metadata": {},
       "output_type": "display_data",
       "text": [
        "PROGRESS: Number of unpacked features : 4096"
       ]
      },
      {
       "html": [
        "<pre>PROGRESS: Number of coefficients    : 4097</pre>"
       ],
       "metadata": {},
       "output_type": "display_data",
       "text": [
        "PROGRESS: Number of coefficients    : 4097"
       ]
      },
      {
       "html": [
        "<pre>PROGRESS: Starting L-BFGS \n",
        "--------------------------------------------------------</pre>"
       ],
       "metadata": {},
       "output_type": "display_data",
       "text": [
        "PROGRESS: Starting L-BFGS \n",
        "--------------------------------------------------------"
       ]
      },
      {
       "html": [
        "<pre>PROGRESS:   Iter   Grad-Norm        Loss   Step size Elapsed time</pre>"
       ],
       "metadata": {},
       "output_type": "display_data",
       "text": [
        "PROGRESS:   Iter   Grad-Norm        Loss   Step size Elapsed time"
       ]
      },
      {
       "html": [
        "<pre>PROGRESS:      0   5.364e+03   1.392e+04   1.000e-06        4.92s</pre>"
       ],
       "metadata": {},
       "output_type": "display_data",
       "text": [
        "PROGRESS:      0   5.364e+03   1.392e+04   1.000e-06        4.92s"
       ]
      },
      {
       "html": [
        "<pre>PROGRESS:      1   2.532e+03   6.693e+03   1.000e+00       13.68s</pre>"
       ],
       "metadata": {},
       "output_type": "display_data",
       "text": [
        "PROGRESS:      1   2.532e+03   6.693e+03   1.000e+00       13.68s"
       ]
      },
      {
       "html": [
        "<pre>PROGRESS:      2   2.219e+03   4.955e+03   1.000e+00       21.69s</pre>"
       ],
       "metadata": {},
       "output_type": "display_data",
       "text": [
        "PROGRESS:      2   2.219e+03   4.955e+03   1.000e+00       21.69s"
       ]
      },
      {
       "html": [
        "<pre>PROGRESS:      3   8.737e+02   3.384e+03   1.000e+00       25.59s</pre>"
       ],
       "metadata": {},
       "output_type": "display_data",
       "text": [
        "PROGRESS:      3   8.737e+02   3.384e+03   1.000e+00       25.59s"
       ]
      },
      {
       "html": [
        "<pre>PROGRESS:      4   5.321e+02   2.768e+03   1.000e+00       29.52s</pre>"
       ],
       "metadata": {},
       "output_type": "display_data",
       "text": [
        "PROGRESS:      4   5.321e+02   2.768e+03   1.000e+00       29.52s"
       ]
      },
      {
       "html": [
        "<pre>PROGRESS:      5   3.986e+02   2.290e+03   1.000e+00       33.26s</pre>"
       ],
       "metadata": {},
       "output_type": "display_data",
       "text": [
        "PROGRESS:      5   3.986e+02   2.290e+03   1.000e+00       33.26s"
       ]
      },
      {
       "html": [
        "<pre>PROGRESS:      6   2.466e+03   6.515e+03   1.000e+00       37.04s</pre>"
       ],
       "metadata": {},
       "output_type": "display_data",
       "text": [
        "PROGRESS:      6   2.466e+03   6.515e+03   1.000e+00       37.04s"
       ]
      },
      {
       "html": [
        "<pre>PROGRESS:      7   4.292e+02   2.181e+03   1.000e+00       44.64s</pre>"
       ],
       "metadata": {},
       "output_type": "display_data",
       "text": [
        "PROGRESS:      7   4.292e+02   2.181e+03   1.000e+00       44.64s"
       ]
      },
      {
       "html": [
        "<pre>PROGRESS:      8   2.161e+02   2.121e+03   1.000e+00       48.77s</pre>"
       ],
       "metadata": {},
       "output_type": "display_data",
       "text": [
        "PROGRESS:      8   2.161e+02   2.121e+03   1.000e+00       48.77s"
       ]
      },
      {
       "html": [
        "<pre>PROGRESS:      9   2.029e+02   2.073e+03   1.000e+00       53.49s</pre>"
       ],
       "metadata": {},
       "output_type": "display_data",
       "text": [
        "PROGRESS:      9   2.029e+02   2.073e+03   1.000e+00       53.49s"
       ]
      },
      {
       "html": [
        "<pre>PROGRESS:     10   2.346e+02   1.998e+03   1.000e+00       57.98s</pre>"
       ],
       "metadata": {},
       "output_type": "display_data",
       "text": [
        "PROGRESS:     10   2.346e+02   1.998e+03   1.000e+00       57.98s"
       ]
      }
     ],
     "prompt_number": 20
    },
    {
     "cell_type": "code",
     "collapsed": false,
     "input": [
      " simple_classifier.evaluate(cats_dogs_test)"
     ],
     "language": "python",
     "metadata": {},
     "outputs": [
      {
       "metadata": {},
       "output_type": "pyout",
       "prompt_number": 21,
       "text": [
        "{'accuracy': 0.9580960130187144, 'confusion_matrix': Columns:\n",
        " \ttarget_label\tint\n",
        " \tpredicted_label\tint\n",
        " \tcount\tint\n",
        " \n",
        " Rows: 4\n",
        " \n",
        " Data:\n",
        " +--------------+-----------------+-------+\n",
        " | target_label | predicted_label | count |\n",
        " +--------------+-----------------+-------+\n",
        " |      0       |        0        |  2389 |\n",
        " |      0       |        1        |   68  |\n",
        " |      1       |        0        |  138  |\n",
        " |      1       |        1        |  2321 |\n",
        " +--------------+-----------------+-------+\n",
        " [4 rows x 3 columns]}"
       ]
      }
     ],
     "prompt_number": 21
    },
    {
     "cell_type": "markdown",
     "metadata": {},
     "source": [
      "### Neural Net \n",
      "    * straight without adjustment or feature extraction\n",
      "    * started at ~10 at least 12 hours"
     ]
    },
    {
     "cell_type": "code",
     "collapsed": false,
     "input": [
      "model = gl.neuralnet_classifier.create(cats_dogs_train, target='label', features = ['image'] )"
     ],
     "language": "python",
     "metadata": {},
     "outputs": [
      {
       "html": [
        "<pre>PROGRESS: Computing mean image...</pre>"
       ],
       "metadata": {},
       "output_type": "display_data",
       "text": [
        "PROGRESS: Computing mean image..."
       ]
      },
      {
       "html": [
        "<pre>PROGRESS: Done computing mean image.</pre>"
       ],
       "metadata": {},
       "output_type": "display_data",
       "text": [
        "PROGRESS: Done computing mean image."
       ]
      },
      {
       "html": [
        "<pre>PROGRESS: Creating neuralnet using device = cpu</pre>"
       ],
       "metadata": {},
       "output_type": "display_data",
       "text": [
        "PROGRESS: Creating neuralnet using device = cpu"
       ]
      },
      {
       "html": [
        "<pre>PROGRESS: +-----------+----------+--------------+-------------------+-----------------+</pre>"
       ],
       "metadata": {},
       "output_type": "display_data",
       "text": [
        "PROGRESS: +-----------+----------+--------------+-------------------+-----------------+"
       ]
      },
      {
       "html": [
        "<pre>PROGRESS: | Iteration | Examples | Elapsed Time | Training-accuracy | Examples/second |</pre>"
       ],
       "metadata": {},
       "output_type": "display_data",
       "text": [
        "PROGRESS: | Iteration | Examples | Elapsed Time | Training-accuracy | Examples/second |"
       ]
      },
      {
       "html": [
        "<pre>PROGRESS: +-----------+----------+--------------+-------------------+-----------------+</pre>"
       ],
       "metadata": {},
       "output_type": "display_data",
       "text": [
        "PROGRESS: +-----------+----------+--------------+-------------------+-----------------+"
       ]
      },
      {
       "html": [
        "<pre>PROGRESS: | 1         | 200      | 10.296383    | 0.460000          | 19.424990       |</pre>"
       ],
       "metadata": {},
       "output_type": "display_data",
       "text": [
        "PROGRESS: | 1         | 200      | 10.296383    | 0.460000          | 19.424990       |"
       ]
      },
      {
       "html": [
        "<pre>PROGRESS: | 1         | 400      | 21.094570    | 0.475000          | 18.521017       |</pre>"
       ],
       "metadata": {},
       "output_type": "display_data",
       "text": [
        "PROGRESS: | 1         | 400      | 21.094570    | 0.475000          | 18.521017       |"
       ]
      },
      {
       "html": [
        "<pre>PROGRESS: | 1         | 600      | 32.459818    | 0.485000          | 17.597502       |</pre>"
       ],
       "metadata": {},
       "output_type": "display_data",
       "text": [
        "PROGRESS: | 1         | 600      | 32.459818    | 0.485000          | 17.597502       |"
       ]
      },
      {
       "html": [
        "<pre>PROGRESS: | 1         | 800      | 43.354852    | 0.497500          | 18.356983       |</pre>"
       ],
       "metadata": {},
       "output_type": "display_data",
       "text": [
        "PROGRESS: | 1         | 800      | 43.354852    | 0.497500          | 18.356983       |"
       ]
      },
      {
       "html": [
        "<pre>PROGRESS: | 1         | 1100     | 58.781177    | 0.515455          | 19.447279       |</pre>"
       ],
       "metadata": {},
       "output_type": "display_data",
       "text": [
        "PROGRESS: | 1         | 1100     | 58.781177    | 0.515455          | 19.447279       |"
       ]
      },
      {
       "html": [
        "<pre>PROGRESS: | 1         | 1300     | 69.849059    | 0.519231          | 18.070307       |</pre>"
       ],
       "metadata": {},
       "output_type": "display_data",
       "text": [
        "PROGRESS: | 1         | 1300     | 69.849059    | 0.519231          | 18.070307       |"
       ]
      },
      {
       "html": [
        "<pre>PROGRESS: | 1         | 1500     | 80.190833    | 0.524000          | 19.339033       |</pre>"
       ],
       "metadata": {},
       "output_type": "display_data",
       "text": [
        "PROGRESS: | 1         | 1500     | 80.190833    | 0.524000          | 19.339033       |"
       ]
      },
      {
       "html": [
        "<pre>PROGRESS: | 1         | 1700     | 90.431146    | 0.524706          | 19.530657       |</pre>"
       ],
       "metadata": {},
       "output_type": "display_data",
       "text": [
        "PROGRESS: | 1         | 1700     | 90.431146    | 0.524706          | 19.530657       |"
       ]
      },
      {
       "html": [
        "<pre>PROGRESS: | 1         | 2000     | 105.484115   | 0.529500          | 19.929626       |</pre>"
       ],
       "metadata": {},
       "output_type": "display_data",
       "text": [
        "PROGRESS: | 1         | 2000     | 105.484115   | 0.529500          | 19.929626       |"
       ]
      },
      {
       "html": [
        "<pre>PROGRESS: | 1         | 2200     | 116.510785   | 0.531818          | 18.137838       |</pre>"
       ],
       "metadata": {},
       "output_type": "display_data",
       "text": [
        "PROGRESS: | 1         | 2200     | 116.510785   | 0.531818          | 18.137838       |"
       ]
      },
      {
       "html": [
        "<pre>PROGRESS: | 1         | 2400     | 128.399243   | 0.536667          | 16.823042       |</pre>"
       ],
       "metadata": {},
       "output_type": "display_data",
       "text": [
        "PROGRESS: | 1         | 2400     | 128.399243   | 0.536667          | 16.823042       |"
       ]
      },
      {
       "html": [
        "<pre>PROGRESS: | 1         | 2600     | 138.437835   | 0.536154          | 19.923105       |</pre>"
       ],
       "metadata": {},
       "output_type": "display_data",
       "text": [
        "PROGRESS: | 1         | 2600     | 138.437835   | 0.536154          | 19.923105       |"
       ]
      },
      {
       "html": [
        "<pre>PROGRESS: | 1         | 2800     | 148.932744   | 0.538571          | 19.056860       |</pre>"
       ],
       "metadata": {},
       "output_type": "display_data",
       "text": [
        "PROGRESS: | 1         | 2800     | 148.932744   | 0.538571          | 19.056860       |"
       ]
      },
      {
       "html": [
        "<pre>PROGRESS: | 1         | 3100     | 164.043214   | 0.541613          | 19.853788       |</pre>"
       ],
       "metadata": {},
       "output_type": "display_data",
       "text": [
        "PROGRESS: | 1         | 3100     | 164.043214   | 0.541613          | 19.853788       |"
       ]
      },
      {
       "html": [
        "<pre>PROGRESS: | 1         | 3400     | 179.121116   | 0.540882          | 19.896666       |</pre>"
       ],
       "metadata": {},
       "output_type": "display_data",
       "text": [
        "PROGRESS: | 1         | 3400     | 179.121116   | 0.540882          | 19.896666       |"
       ]
      },
      {
       "html": [
        "<pre>PROGRESS: | 1         | 3600     | 191.039597   | 0.541111          | 16.792723       |</pre>"
       ],
       "metadata": {},
       "output_type": "display_data",
       "text": [
        "PROGRESS: | 1         | 3600     | 191.039597   | 0.541111          | 16.792723       |"
       ]
      },
      {
       "html": [
        "<pre>PROGRESS: | 1         | 3800     | 201.031653   | 0.541842          | 19.998766       |</pre>"
       ],
       "metadata": {},
       "output_type": "display_data",
       "text": [
        "PROGRESS: | 1         | 3800     | 201.031653   | 0.541842          | 19.998766       |"
       ]
      },
      {
       "html": [
        "<pre>PROGRESS: | 1         | 4000     | 211.295272   | 0.542250          | 19.486301       |</pre>"
       ],
       "metadata": {},
       "output_type": "display_data",
       "text": [
        "PROGRESS: | 1         | 4000     | 211.295272   | 0.542250          | 19.486301       |"
       ]
      },
      {
       "html": [
        "<pre>PROGRESS: | 1         | 4300     | 225.317508   | 0.543488          | 21.394598       |</pre>"
       ],
       "metadata": {},
       "output_type": "display_data",
       "text": [
        "PROGRESS: | 1         | 4300     | 225.317508   | 0.543488          | 21.394598       |"
       ]
      },
      {
       "html": [
        "<pre>PROGRESS: | 1         | 4600     | 239.499537   | 0.540000          | 21.153524       |</pre>"
       ],
       "metadata": {},
       "output_type": "display_data",
       "text": [
        "PROGRESS: | 1         | 4600     | 239.499537   | 0.540000          | 21.153524       |"
       ]
      },
      {
       "html": [
        "<pre>PROGRESS: | 1         | 4800     | 250.302574   | 0.541875          | 18.513315       |</pre>"
       ],
       "metadata": {},
       "output_type": "display_data",
       "text": [
        "PROGRESS: | 1         | 4800     | 250.302574   | 0.541875          | 18.513315       |"
       ]
      },
      {
       "html": [
        "<pre>PROGRESS: | 1         | 5100     | 264.363582   | 0.544314          | 21.335598       |</pre>"
       ],
       "metadata": {},
       "output_type": "display_data",
       "text": [
        "PROGRESS: | 1         | 5100     | 264.363582   | 0.544314          | 21.335598       |"
       ]
      },
      {
       "html": [
        "<pre>PROGRESS: | 1         | 5300     | 274.378622   | 0.545849          | 19.969957       |</pre>"
       ],
       "metadata": {},
       "output_type": "display_data",
       "text": [
        "PROGRESS: | 1         | 5300     | 274.378622   | 0.545849          | 19.969957       |"
       ]
      },
      {
       "html": [
        "<pre>PROGRESS: | 1         | 5600     | 288.434954   | 0.546786          | 21.342695       |</pre>"
       ],
       "metadata": {},
       "output_type": "display_data",
       "text": [
        "PROGRESS: | 1         | 5600     | 288.434954   | 0.546786          | 21.342695       |"
       ]
      },
      {
       "html": [
        "<pre>PROGRESS: | 1         | 5900     | 303.102998   | 0.547627          | 20.452627       |</pre>"
       ],
       "metadata": {},
       "output_type": "display_data",
       "text": [
        "PROGRESS: | 1         | 5900     | 303.102998   | 0.547627          | 20.452627       |"
       ]
      },
      {
       "html": [
        "<pre>PROGRESS: | 1         | 6200     | 317.530105   | 0.549032          | 20.794191       |</pre>"
       ],
       "metadata": {},
       "output_type": "display_data",
       "text": [
        "PROGRESS: | 1         | 6200     | 317.530105   | 0.549032          | 20.794191       |"
       ]
      },
      {
       "html": [
        "<pre>PROGRESS: | 1         | 6500     | 331.651756   | 0.550615          | 21.243973       |</pre>"
       ],
       "metadata": {},
       "output_type": "display_data",
       "text": [
        "PROGRESS: | 1         | 6500     | 331.651756   | 0.550615          | 21.243973       |"
       ]
      },
      {
       "html": [
        "<pre>PROGRESS: | 1         | 6700     | 341.673762   | 0.551791          | 19.956087       |</pre>"
       ],
       "metadata": {},
       "output_type": "display_data",
       "text": [
        "PROGRESS: | 1         | 6700     | 341.673762   | 0.551791          | 19.956087       |"
       ]
      },
      {
       "html": [
        "<pre>PROGRESS: | 1         | 7000     | 356.568150   | 0.552286          | 20.141817       |</pre>"
       ],
       "metadata": {},
       "output_type": "display_data",
       "text": [
        "PROGRESS: | 1         | 7000     | 356.568150   | 0.552286          | 20.141817       |"
       ]
      },
      {
       "html": [
        "<pre>PROGRESS: | 1         | 7200     | 367.319519   | 0.552083          | 18.602278       |</pre>"
       ],
       "metadata": {},
       "output_type": "display_data",
       "text": [
        "PROGRESS: | 1         | 7200     | 367.319519   | 0.552083          | 18.602278       |"
       ]
      },
      {
       "html": [
        "<pre>PROGRESS: | 1         | 7500     | 382.063055   | 0.552800          | 20.347902       |</pre>"
       ],
       "metadata": {},
       "output_type": "display_data",
       "text": [
        "PROGRESS: | 1         | 7500     | 382.063055   | 0.552800          | 20.347902       |"
       ]
      },
      {
       "html": [
        "<pre>PROGRESS: | 1         | 7800     | 396.417635   | 0.554744          | 20.899248       |</pre>"
       ],
       "metadata": {},
       "output_type": "display_data",
       "text": [
        "PROGRESS: | 1         | 7800     | 396.417635   | 0.554744          | 20.899248       |"
       ]
      },
      {
       "html": [
        "<pre>PROGRESS: | 1         | 8000     | 406.475548   | 0.553875          | 19.884846       |</pre>"
       ],
       "metadata": {},
       "output_type": "display_data",
       "text": [
        "PROGRESS: | 1         | 8000     | 406.475548   | 0.553875          | 19.884846       |"
       ]
      },
      {
       "html": [
        "<pre>PROGRESS: | 1         | 8300     | 420.922335   | 0.554458          | 20.765860       |</pre>"
       ],
       "metadata": {},
       "output_type": "display_data",
       "text": [
        "PROGRESS: | 1         | 8300     | 420.922335   | 0.554458          | 20.765860       |"
       ]
      },
      {
       "html": [
        "<pre>PROGRESS: | 1         | 8600     | 435.846882   | 0.554302          | 20.101114       |</pre>"
       ],
       "metadata": {},
       "output_type": "display_data",
       "text": [
        "PROGRESS: | 1         | 8600     | 435.846882   | 0.554302          | 20.101114       |"
       ]
      },
      {
       "html": [
        "<pre>PROGRESS: | 1         | 8900     | 450.378648   | 0.555730          | 20.644430       |</pre>"
       ],
       "metadata": {},
       "output_type": "display_data",
       "text": [
        "PROGRESS: | 1         | 8900     | 450.378648   | 0.555730          | 20.644430       |"
       ]
      },
      {
       "html": [
        "<pre>PROGRESS: | 1         | 9100     | 460.498700   | 0.556374          | 19.762743       |</pre>"
       ],
       "metadata": {},
       "output_type": "display_data",
       "text": [
        "PROGRESS: | 1         | 9100     | 460.498700   | 0.556374          | 19.762743       |"
       ]
      },
      {
       "html": [
        "<pre>PROGRESS: | 1         | 9400     | 475.281685   | 0.556277          | 20.293602       |</pre>"
       ],
       "metadata": {},
       "output_type": "display_data",
       "text": [
        "PROGRESS: | 1         | 9400     | 475.281685   | 0.556277          | 20.293602       |"
       ]
      },
      {
       "html": [
        "<pre>PROGRESS: | 1         | 9700     | 489.816061   | 0.556186          | 20.640720       |</pre>"
       ],
       "metadata": {},
       "output_type": "display_data",
       "text": [
        "PROGRESS: | 1         | 9700     | 489.816061   | 0.556186          | 20.640720       |"
       ]
      },
      {
       "html": [
        "<pre>PROGRESS: | 1         | 9900     | 499.899361   | 0.556162          | 19.834778       |</pre>"
       ],
       "metadata": {},
       "output_type": "display_data",
       "text": [
        "PROGRESS: | 1         | 9900     | 499.899361   | 0.556162          | 19.834778       |"
       ]
      },
      {
       "html": [
        "<pre>PROGRESS: | 1         | 10200    | 514.379106   | 0.555980          | 20.718596       |</pre>"
       ],
       "metadata": {},
       "output_type": "display_data",
       "text": [
        "PROGRESS: | 1         | 10200    | 514.379106   | 0.555980          | 20.718596       |"
       ]
      },
      {
       "html": [
        "<pre>PROGRESS: | 1         | 10400    | 524.574192   | 0.555192          | 19.617300       |</pre>"
       ],
       "metadata": {},
       "output_type": "display_data",
       "text": [
        "PROGRESS: | 1         | 10400    | 524.574192   | 0.555192          | 19.617300       |"
       ]
      },
      {
       "html": [
        "<pre>PROGRESS: | 1         | 10700    | 539.293000   | 0.555234          | 20.382084       |</pre>"
       ],
       "metadata": {},
       "output_type": "display_data",
       "text": [
        "PROGRESS: | 1         | 10700    | 539.293000   | 0.555234          | 20.382084       |"
       ]
      },
      {
       "html": [
        "<pre>PROGRESS: | 1         | 11000    | 553.518338   | 0.555636          | 21.089130       |</pre>"
       ],
       "metadata": {},
       "output_type": "display_data",
       "text": [
        "PROGRESS: | 1         | 11000    | 553.518338   | 0.555636          | 21.089130       |"
       ]
      },
      {
       "html": [
        "<pre>PROGRESS: | 1         | 11200    | 563.522443   | 0.556964          | 19.991789       |</pre>"
       ],
       "metadata": {},
       "output_type": "display_data",
       "text": [
        "PROGRESS: | 1         | 11200    | 563.522443   | 0.556964          | 19.991789       |"
       ]
      },
      {
       "html": [
        "<pre>PROGRESS: | 1         | 11400    | 573.547556   | 0.556579          | 19.949903       |</pre>"
       ],
       "metadata": {},
       "output_type": "display_data",
       "text": [
        "PROGRESS: | 1         | 11400    | 573.547556   | 0.556579          | 19.949903       |"
       ]
      },
      {
       "html": [
        "<pre>PROGRESS: | 1         | 11700    | 587.747625   | 0.557350          | 21.126654       |</pre>"
       ],
       "metadata": {},
       "output_type": "display_data",
       "text": [
        "PROGRESS: | 1         | 11700    | 587.747625   | 0.557350          | 21.126654       |"
       ]
      },
      {
       "html": [
        "<pre>PROGRESS: | 1         | 11900    | 597.807409   | 0.557899          | 19.881138       |</pre>"
       ],
       "metadata": {},
       "output_type": "display_data",
       "text": [
        "PROGRESS: | 1         | 11900    | 597.807409   | 0.557899          | 19.881138       |"
       ]
      },
      {
       "html": [
        "<pre>PROGRESS: | 1         | 12200    | 612.767149   | 0.558361          | 20.053829       |</pre>"
       ],
       "metadata": {},
       "output_type": "display_data",
       "text": [
        "PROGRESS: | 1         | 12200    | 612.767149   | 0.558361          | 20.053829       |"
       ]
      },
      {
       "html": [
        "<pre>PROGRESS: | 1         | 12500    | 627.243944   | 0.558640          | 20.722815       |</pre>"
       ],
       "metadata": {},
       "output_type": "display_data",
       "text": [
        "PROGRESS: | 1         | 12500    | 627.243944   | 0.558640          | 20.722815       |"
       ]
      },
      {
       "html": [
        "<pre>PROGRESS: | 1         | 12700    | 639.102995   | 0.557638          | 16.864758       |</pre>"
       ],
       "metadata": {},
       "output_type": "display_data",
       "text": [
        "PROGRESS: | 1         | 12700    | 639.102995   | 0.557638          | 16.864758       |"
       ]
      },
      {
       "html": [
        "<pre>PROGRESS: | 1         | 13000    | 653.595671   | 0.557462          | 20.700108       |</pre>"
       ],
       "metadata": {},
       "output_type": "display_data",
       "text": [
        "PROGRESS: | 1         | 13000    | 653.595671   | 0.557462          | 20.700108       |"
       ]
      },
      {
       "html": [
        "<pre>PROGRESS: | 1         | 13200    | 663.935662   | 0.557576          | 19.342379       |</pre>"
       ],
       "metadata": {},
       "output_type": "display_data",
       "text": [
        "PROGRESS: | 1         | 13200    | 663.935662   | 0.557576          | 19.342379       |"
       ]
      },
      {
       "html": [
        "<pre>PROGRESS: | 1         | 13400    | 674.522447   | 0.558433          | 18.891479       |</pre>"
       ],
       "metadata": {},
       "output_type": "display_data",
       "text": [
        "PROGRESS: | 1         | 13400    | 674.522447   | 0.558433          | 18.891479       |"
       ]
      },
      {
       "html": [
        "<pre>PROGRESS: | 1         | 13600    | 686.197369   | 0.558824          | 17.130749       |</pre>"
       ],
       "metadata": {},
       "output_type": "display_data",
       "text": [
        "PROGRESS: | 1         | 13600    | 686.197369   | 0.558824          | 17.130749       |"
       ]
      },
      {
       "html": [
        "<pre>PROGRESS: | 1         | 13800    | 696.246632   | 0.559348          | 19.901934       |</pre>"
       ],
       "metadata": {},
       "output_type": "display_data",
       "text": [
        "PROGRESS: | 1         | 13800    | 696.246632   | 0.559348          | 19.901934       |"
       ]
      },
      {
       "html": [
        "<pre>PROGRESS: | 1         | 14000    | 706.656984   | 0.560286          | 19.211651       |</pre>"
       ],
       "metadata": {},
       "output_type": "display_data",
       "text": [
        "PROGRESS: | 1         | 14000    | 706.656984   | 0.560286          | 19.211651       |"
       ]
      },
      {
       "html": [
        "<pre>PROGRESS: | 1         | 14300    | 721.581564   | 0.561259          | 20.101065       |</pre>"
       ],
       "metadata": {},
       "output_type": "display_data",
       "text": [
        "PROGRESS: | 1         | 14300    | 721.581564   | 0.561259          | 20.101065       |"
       ]
      },
      {
       "html": [
        "<pre>PROGRESS: | 1         | 14600    | 736.606176   | 0.561164          | 19.967243       |</pre>"
       ],
       "metadata": {},
       "output_type": "display_data",
       "text": [
        "PROGRESS: | 1         | 14600    | 736.606176   | 0.561164          | 19.967243       |"
       ]
      },
      {
       "html": [
        "<pre>PROGRESS: | 1         | 14800    | 748.514527   | 0.561351          | 16.794935       |</pre>"
       ],
       "metadata": {},
       "output_type": "display_data",
       "text": [
        "PROGRESS: | 1         | 14800    | 748.514527   | 0.561351          | 16.794935       |"
       ]
      },
      {
       "html": [
        "<pre>PROGRESS: | 1         | 15000    | 764.032709   | 0.560800          | 12.888106       |</pre>"
       ],
       "metadata": {},
       "output_type": "display_data",
       "text": [
        "PROGRESS: | 1         | 15000    | 764.032709   | 0.560800          | 12.888106       |"
       ]
      },
      {
       "html": [
        "<pre>PROGRESS: | 1         | 15200    | 775.580337   | 0.561184          | 17.319576       |</pre>"
       ],
       "metadata": {},
       "output_type": "display_data",
       "text": [
        "PROGRESS: | 1         | 15200    | 775.580337   | 0.561184          | 17.319576       |"
       ]
      },
      {
       "html": [
        "<pre>PROGRESS: | 1         | 15400    | 786.863749   | 0.561429          | 17.725136       |</pre>"
       ],
       "metadata": {},
       "output_type": "display_data",
       "text": [
        "PROGRESS: | 1         | 15400    | 786.863749   | 0.561429          | 17.725136       |"
       ]
      },
      {
       "html": [
        "<pre>PROGRESS: | 1         | 15600    | 797.612001   | 0.561731          | 18.607670       |</pre>"
       ],
       "metadata": {},
       "output_type": "display_data",
       "text": [
        "PROGRESS: | 1         | 15600    | 797.612001   | 0.561731          | 18.607670       |"
       ]
      },
      {
       "html": [
        "<pre>PROGRESS: | 1         | 15800    | 807.691548   | 0.561582          | 19.842169       |</pre>"
       ],
       "metadata": {},
       "output_type": "display_data",
       "text": [
        "PROGRESS: | 1         | 15800    | 807.691548   | 0.561582          | 19.842169       |"
       ]
      },
      {
       "html": [
        "<pre>PROGRESS: | 1         | 16000    | 818.379819   | 0.561938          | 18.712095       |</pre>"
       ],
       "metadata": {},
       "output_type": "display_data",
       "text": [
        "PROGRESS: | 1         | 16000    | 818.379819   | 0.561938          | 18.712095       |"
       ]
      },
      {
       "html": [
        "<pre>PROGRESS: | 1         | 16200    | 829.165724   | 0.562222          | 18.542715       |</pre>"
       ],
       "metadata": {},
       "output_type": "display_data",
       "text": [
        "PROGRESS: | 1         | 16200    | 829.165724   | 0.562222          | 18.542715       |"
       ]
      },
      {
       "html": [
        "<pre>PROGRESS: | 1         | 16400    | 839.992329   | 0.562683          | 18.473017       |</pre>"
       ],
       "metadata": {},
       "output_type": "display_data",
       "text": [
        "PROGRESS: | 1         | 16400    | 839.992329   | 0.562683          | 18.473017       |"
       ]
      },
      {
       "html": [
        "<pre>PROGRESS: | 1         | 16700    | 855.879295   | 0.563533          | 18.883400       |</pre>"
       ],
       "metadata": {},
       "output_type": "display_data",
       "text": [
        "PROGRESS: | 1         | 16700    | 855.879295   | 0.563533          | 18.883400       |"
       ]
      },
      {
       "html": [
        "<pre>PROGRESS: | 1         | 17000    | 870.059348   | 0.564471          | 21.156483       |</pre>"
       ],
       "metadata": {},
       "output_type": "display_data",
       "text": [
        "PROGRESS: | 1         | 17000    | 870.059348   | 0.564471          | 21.156483       |"
       ]
      },
      {
       "html": [
        "<pre>PROGRESS: | 1         | 17300    | 884.939084   | 0.564220          | 20.161648       |</pre>"
       ],
       "metadata": {},
       "output_type": "display_data",
       "text": [
        "PROGRESS: | 1         | 17300    | 884.939084   | 0.564220          | 20.161648       |"
       ]
      },
      {
       "html": [
        "<pre>PROGRESS: | 1         | 17600    | 900.104927   | 0.564716          | 19.781305       |</pre>"
       ],
       "metadata": {},
       "output_type": "display_data",
       "text": [
        "PROGRESS: | 1         | 17600    | 900.104927   | 0.564716          | 19.781305       |"
       ]
      },
      {
       "html": [
        "<pre>PROGRESS: | 1         | 17800    | 911.058425   | 0.564831          | 18.258991       |</pre>"
       ],
       "metadata": {},
       "output_type": "display_data",
       "text": [
        "PROGRESS: | 1         | 17800    | 911.058425   | 0.564831          | 18.258991       |"
       ]
      },
      {
       "html": [
        "<pre>PROGRESS: | 1         | 18000    | 922.857408   | 0.564889          | 16.950617       |</pre>"
       ],
       "metadata": {},
       "output_type": "display_data",
       "text": [
        "PROGRESS: | 1         | 18000    | 922.857408   | 0.564889          | 16.950617       |"
       ]
      },
      {
       "html": [
        "<pre>PROGRESS: | 1         | 18200    | 935.447909   | 0.565055          | 15.884988       |</pre>"
       ],
       "metadata": {},
       "output_type": "display_data",
       "text": [
        "PROGRESS: | 1         | 18200    | 935.447909   | 0.565055          | 15.884988       |"
       ]
      },
      {
       "html": [
        "<pre>PROGRESS: | 1         | 18400    | 946.893268   | 0.564294          | 17.474329       |</pre>"
       ],
       "metadata": {},
       "output_type": "display_data",
       "text": [
        "PROGRESS: | 1         | 18400    | 946.893268   | 0.564294          | 17.474329       |"
       ]
      },
      {
       "html": [
        "<pre>PROGRESS: | 1         | 18600    | 957.131660   | 0.564140          | 19.534323       |</pre>"
       ],
       "metadata": {},
       "output_type": "display_data",
       "text": [
        "PROGRESS: | 1         | 18600    | 957.131660   | 0.564140          | 19.534323       |"
       ]
      },
      {
       "html": [
        "<pre>PROGRESS: | 1         | 18800    | 967.275580   | 0.563830          | 19.716242       |</pre>"
       ],
       "metadata": {},
       "output_type": "display_data",
       "text": [
        "PROGRESS: | 1         | 18800    | 967.275580   | 0.563830          | 19.716242       |"
       ]
      },
      {
       "html": [
        "<pre>PROGRESS: | 1         | 19000    | 978.014516   | 0.564211          | 18.623829       |</pre>"
       ],
       "metadata": {},
       "output_type": "display_data",
       "text": [
        "PROGRESS: | 1         | 19000    | 978.014516   | 0.564211          | 18.623829       |"
       ]
      },
      {
       "html": [
        "<pre>PROGRESS: | 1         | 19300    | 992.397155   | 0.564145          | 20.858473       |</pre>"
       ],
       "metadata": {},
       "output_type": "display_data",
       "text": [
        "PROGRESS: | 1         | 19300    | 992.397155   | 0.564145          | 20.858473       |"
       ]
      },
      {
       "html": [
        "<pre>PROGRESS: | 1         | 19500    | 1002.483542  | 0.563846          | 19.828712       |</pre>"
       ],
       "metadata": {},
       "output_type": "display_data",
       "text": [
        "PROGRESS: | 1         | 19500    | 1002.483542  | 0.563846          | 19.828712       |"
       ]
      },
      {
       "html": [
        "<pre>PROGRESS: | 1         | 19800    | 1016.938119  | 0.563535          | 20.754665       |</pre>"
       ],
       "metadata": {},
       "output_type": "display_data",
       "text": [
        "PROGRESS: | 1         | 19800    | 1016.938119  | 0.563535          | 20.754665       |"
       ]
      },
      {
       "html": [
        "<pre>PROGRESS: | 1         | 20100    | 1031.318442  | 0.564677          | 20.861845       |</pre>"
       ],
       "metadata": {},
       "output_type": "display_data",
       "text": [
        "PROGRESS: | 1         | 20100    | 1031.318442  | 0.564677          | 20.861845       |"
       ]
      },
      {
       "html": [
        "<pre>PROGRESS: | 1         | 20100    | 1031.318616  | 0.564677          | 20.861845       |</pre>"
       ],
       "metadata": {},
       "output_type": "display_data",
       "text": [
        "PROGRESS: | 1         | 20100    | 1031.318616  | 0.564677          | 20.861845       |"
       ]
      },
      {
       "html": [
        "<pre>PROGRESS: | 2         | 300      | 1045.470114  | 0.550000          | 21.203074       |</pre>"
       ],
       "metadata": {},
       "output_type": "display_data",
       "text": [
        "PROGRESS: | 2         | 300      | 1045.470114  | 0.550000          | 21.203074       |"
       ]
      },
      {
       "html": [
        "<pre>PROGRESS: | 2         | 500      | 1055.745099  | 0.560000          | 19.464756       |</pre>"
       ],
       "metadata": {},
       "output_type": "display_data",
       "text": [
        "PROGRESS: | 2         | 500      | 1055.745099  | 0.560000          | 19.464756       |"
       ]
      },
      {
       "html": [
        "<pre>PROGRESS: | 2         | 700      | 1065.907463  | 0.577143          | 19.680456       |</pre>"
       ],
       "metadata": {},
       "output_type": "display_data",
       "text": [
        "PROGRESS: | 2         | 700      | 1065.907463  | 0.577143          | 19.680456       |"
       ]
      },
      {
       "html": [
        "<pre>PROGRESS: | 2         | 1000     | 1080.267591  | 0.570000          | 20.891176       |</pre>"
       ],
       "metadata": {},
       "output_type": "display_data",
       "text": [
        "PROGRESS: | 2         | 1000     | 1080.267591  | 0.570000          | 20.891176       |"
       ]
      },
      {
       "html": [
        "<pre>PROGRESS: | 2         | 1300     | 1095.035185  | 0.576923          | 20.314760       |</pre>"
       ],
       "metadata": {},
       "output_type": "display_data",
       "text": [
        "PROGRESS: | 2         | 1300     | 1095.035185  | 0.576923          | 20.314760       |"
       ]
      },
      {
       "html": [
        "<pre>PROGRESS: | 2         | 1600     | 1109.460541  | 0.582500          | 20.796707       |</pre>"
       ],
       "metadata": {},
       "output_type": "display_data",
       "text": [
        "PROGRESS: | 2         | 1600     | 1109.460541  | 0.582500          | 20.796707       |"
       ]
      },
      {
       "html": [
        "<pre>PROGRESS: | 2         | 1900     | 1124.004879  | 0.581579          | 20.626587       |</pre>"
       ],
       "metadata": {},
       "output_type": "display_data",
       "text": [
        "PROGRESS: | 2         | 1900     | 1124.004879  | 0.581579          | 20.626587       |"
       ]
      },
      {
       "html": [
        "<pre>PROGRESS: | 2         | 2200     | 1138.723179  | 0.580455          | 20.382784       |</pre>"
       ],
       "metadata": {},
       "output_type": "display_data",
       "text": [
        "PROGRESS: | 2         | 2200     | 1138.723179  | 0.580455          | 20.382784       |"
       ]
      },
      {
       "html": [
        "<pre>PROGRESS: | 2         | 2500     | 1153.046440  | 0.582000          | 20.944960       |</pre>"
       ],
       "metadata": {},
       "output_type": "display_data",
       "text": [
        "PROGRESS: | 2         | 2500     | 1153.046440  | 0.582000          | 20.944960       |"
       ]
      },
      {
       "html": [
        "<pre>PROGRESS: | 2         | 2800     | 1167.647596  | 0.580714          | 20.546314       |</pre>"
       ],
       "metadata": {},
       "output_type": "display_data",
       "text": [
        "PROGRESS: | 2         | 2800     | 1167.647596  | 0.580714          | 20.546314       |"
       ]
      },
      {
       "html": [
        "<pre>PROGRESS: | 2         | 3100     | 1182.283420  | 0.577742          | 20.497648       |</pre>"
       ],
       "metadata": {},
       "output_type": "display_data",
       "text": [
        "PROGRESS: | 2         | 3100     | 1182.283420  | 0.577742          | 20.497648       |"
       ]
      },
      {
       "html": [
        "<pre>PROGRESS: | 2         | 3400     | 1196.500450  | 0.580000          | 21.101454       |</pre>"
       ],
       "metadata": {},
       "output_type": "display_data",
       "text": [
        "PROGRESS: | 2         | 3400     | 1196.500450  | 0.580000          | 21.101454       |"
       ]
      },
      {
       "html": [
        "<pre>PROGRESS: | 2         | 3700     | 1211.267614  | 0.575676          | 20.315338       |</pre>"
       ],
       "metadata": {},
       "output_type": "display_data",
       "text": [
        "PROGRESS: | 2         | 3700     | 1211.267614  | 0.575676          | 20.315338       |"
       ]
      },
      {
       "html": [
        "<pre>PROGRESS: | 2         | 3900     | 1223.918431  | 0.576154          | 15.809257       |</pre>"
       ],
       "metadata": {},
       "output_type": "display_data",
       "text": [
        "PROGRESS: | 2         | 3900     | 1223.918431  | 0.576154          | 15.809257       |"
       ]
      },
      {
       "html": [
        "<pre>PROGRESS: | 2         | 4100     | 1234.937703  | 0.578537          | 18.150021       |</pre>"
       ],
       "metadata": {},
       "output_type": "display_data",
       "text": [
        "PROGRESS: | 2         | 4100     | 1234.937703  | 0.578537          | 18.150021       |"
       ]
      },
      {
       "html": [
        "<pre>PROGRESS: | 2         | 4400     | 1249.494398  | 0.578864          | 20.609072       |</pre>"
       ],
       "metadata": {},
       "output_type": "display_data",
       "text": [
        "PROGRESS: | 2         | 4400     | 1249.494398  | 0.578864          | 20.609072       |"
       ]
      },
      {
       "html": [
        "<pre>PROGRESS: | 2         | 4700     | 1263.500666  | 0.581489          | 21.418995       |</pre>"
       ],
       "metadata": {},
       "output_type": "display_data",
       "text": [
        "PROGRESS: | 2         | 4700     | 1263.500666  | 0.581489          | 21.418995       |"
       ]
      },
      {
       "html": [
        "<pre>PROGRESS: | 2         | 5000     | 1278.123517  | 0.582200          | 20.515827       |</pre>"
       ],
       "metadata": {},
       "output_type": "display_data",
       "text": [
        "PROGRESS: | 2         | 5000     | 1278.123517  | 0.582200          | 20.515827       |"
       ]
      },
      {
       "html": [
        "<pre>PROGRESS: | 2         | 5300     | 1292.204615  | 0.583962          | 21.305157       |</pre>"
       ],
       "metadata": {},
       "output_type": "display_data",
       "text": [
        "PROGRESS: | 2         | 5300     | 1292.204615  | 0.583962          | 21.305157       |"
       ]
      },
      {
       "html": [
        "<pre>PROGRESS: | 2         | 5600     | 1306.548068  | 0.583929          | 20.915462       |</pre>"
       ],
       "metadata": {},
       "output_type": "display_data",
       "text": [
        "PROGRESS: | 2         | 5600     | 1306.548068  | 0.583929          | 20.915462       |"
       ]
      },
      {
       "html": [
        "<pre>PROGRESS: | 2         | 5900     | 1321.127543  | 0.584746          | 20.576872       |</pre>"
       ],
       "metadata": {},
       "output_type": "display_data",
       "text": [
        "PROGRESS: | 2         | 5900     | 1321.127543  | 0.584746          | 20.576872       |"
       ]
      },
      {
       "html": [
        "<pre>PROGRESS: | 2         | 6200     | 1335.080766  | 0.585645          | 21.500412       |</pre>"
       ],
       "metadata": {},
       "output_type": "display_data",
       "text": [
        "PROGRESS: | 2         | 6200     | 1335.080766  | 0.585645          | 21.500412       |"
       ]
      },
      {
       "html": [
        "<pre>PROGRESS: | 2         | 6500     | 1348.979739  | 0.588923          | 21.584328       |</pre>"
       ],
       "metadata": {},
       "output_type": "display_data",
       "text": [
        "PROGRESS: | 2         | 6500     | 1348.979739  | 0.588923          | 21.584328       |"
       ]
      },
      {
       "html": [
        "<pre>PROGRESS: | 2         | 6800     | 1363.355956  | 0.590441          | 20.867798       |</pre>"
       ],
       "metadata": {},
       "output_type": "display_data",
       "text": [
        "PROGRESS: | 2         | 6800     | 1363.355956  | 0.590441          | 20.867798       |"
       ]
      },
      {
       "html": [
        "<pre>PROGRESS: | 2         | 7100     | 1377.294920  | 0.590141          | 21.522408       |</pre>"
       ],
       "metadata": {},
       "output_type": "display_data",
       "text": [
        "PROGRESS: | 2         | 7100     | 1377.294920  | 0.590141          | 21.522408       |"
       ]
      },
      {
       "html": [
        "<pre>PROGRESS: | 2         | 7400     | 1391.220630  | 0.590676          | 21.542877       |</pre>"
       ],
       "metadata": {},
       "output_type": "display_data",
       "text": [
        "PROGRESS: | 2         | 7400     | 1391.220630  | 0.590676          | 21.542877       |"
       ]
      },
      {
       "html": [
        "<pre>PROGRESS: | 2         | 7600     | 1401.588537  | 0.592763          | 19.290306       |</pre>"
       ],
       "metadata": {},
       "output_type": "display_data",
       "text": [
        "PROGRESS: | 2         | 7600     | 1401.588537  | 0.592763          | 19.290306       |"
       ]
      },
      {
       "html": [
        "<pre>PROGRESS: | 2         | 7800     | 1412.040617  | 0.592949          | 19.134943       |</pre>"
       ],
       "metadata": {},
       "output_type": "display_data",
       "text": [
        "PROGRESS: | 2         | 7800     | 1412.040617  | 0.592949          | 19.134943       |"
       ]
      },
      {
       "html": [
        "<pre>PROGRESS: | 2         | 8100     | 1426.349555  | 0.590988          | 20.965916       |</pre>"
       ],
       "metadata": {},
       "output_type": "display_data",
       "text": [
        "PROGRESS: | 2         | 8100     | 1426.349555  | 0.590988          | 20.965916       |"
       ]
      },
      {
       "html": [
        "<pre>PROGRESS: | 2         | 8400     | 1440.817284  | 0.591071          | 20.735804       |</pre>"
       ],
       "metadata": {},
       "output_type": "display_data",
       "text": [
        "PROGRESS: | 2         | 8400     | 1440.817284  | 0.591071          | 20.735804       |"
       ]
      },
      {
       "html": [
        "<pre>PROGRESS: | 2         | 8600     | 1451.199443  | 0.591163          | 19.263815       |</pre>"
       ],
       "metadata": {},
       "output_type": "display_data",
       "text": [
        "PROGRESS: | 2         | 8600     | 1451.199443  | 0.591163          | 19.263815       |"
       ]
      },
      {
       "html": [
        "<pre>PROGRESS: | 2         | 8900     | 1465.822990  | 0.591348          | 20.514860       |</pre>"
       ],
       "metadata": {},
       "output_type": "display_data",
       "text": [
        "PROGRESS: | 2         | 8900     | 1465.822990  | 0.591348          | 20.514860       |"
       ]
      },
      {
       "html": [
        "<pre>PROGRESS: | 2         | 9100     | 1475.883664  | 0.592308          | 19.879383       |</pre>"
       ],
       "metadata": {},
       "output_type": "display_data",
       "text": [
        "PROGRESS: | 2         | 9100     | 1475.883664  | 0.592308          | 19.879383       |"
       ]
      },
      {
       "html": [
        "<pre>PROGRESS: | 2         | 9400     | 1490.533815  | 0.591489          | 20.477606       |</pre>"
       ],
       "metadata": {},
       "output_type": "display_data",
       "text": [
        "PROGRESS: | 2         | 9400     | 1490.533815  | 0.591489          | 20.477606       |"
       ]
      },
      {
       "html": [
        "<pre>PROGRESS: | 2         | 9600     | 1500.655253  | 0.591979          | 19.760033       |</pre>"
       ],
       "metadata": {},
       "output_type": "display_data",
       "text": [
        "PROGRESS: | 2         | 9600     | 1500.655253  | 0.591979          | 19.760033       |"
       ]
      },
      {
       "html": [
        "<pre>PROGRESS: | 2         | 9900     | 1515.384023  | 0.590707          | 20.368303       |</pre>"
       ],
       "metadata": {},
       "output_type": "display_data",
       "text": [
        "PROGRESS: | 2         | 9900     | 1515.384023  | 0.590707          | 20.368303       |"
       ]
      },
      {
       "html": [
        "<pre>PROGRESS: | 2         | 10200    | 1529.877649  | 0.590098          | 20.698753       |</pre>"
       ],
       "metadata": {},
       "output_type": "display_data",
       "text": [
        "PROGRESS: | 2         | 10200    | 1529.877649  | 0.590098          | 20.698753       |"
       ]
      },
      {
       "html": [
        "<pre>PROGRESS: | 2         | 10400    | 1539.970841  | 0.590577          | 19.815338       |</pre>"
       ],
       "metadata": {},
       "output_type": "display_data",
       "text": [
        "PROGRESS: | 2         | 10400    | 1539.970841  | 0.590577          | 19.815338       |"
       ]
      },
      {
       "html": [
        "<pre>PROGRESS: | 2         | 10700    | 1554.538993  | 0.591215          | 20.592867       |</pre>"
       ],
       "metadata": {},
       "output_type": "display_data",
       "text": [
        "PROGRESS: | 2         | 10700    | 1554.538993  | 0.591215          | 20.592867       |"
       ]
      },
      {
       "html": [
        "<pre>PROGRESS: | 2         | 10900    | 1564.758405  | 0.590826          | 19.570593       |</pre>"
       ],
       "metadata": {},
       "output_type": "display_data",
       "text": [
        "PROGRESS: | 2         | 10900    | 1564.758405  | 0.590826          | 19.570593       |"
       ]
      },
      {
       "html": [
        "<pre>PROGRESS: | 2         | 11200    | 1579.197633  | 0.590446          | 20.776735       |</pre>"
       ],
       "metadata": {},
       "output_type": "display_data",
       "text": [
        "PROGRESS: | 2         | 11200    | 1579.197633  | 0.590446          | 20.776735       |"
       ]
      },
      {
       "html": [
        "<pre>PROGRESS: | 2         | 11500    | 1594.165620  | 0.591217          | 20.042774       |</pre>"
       ],
       "metadata": {},
       "output_type": "display_data",
       "text": [
        "PROGRESS: | 2         | 11500    | 1594.165620  | 0.591217          | 20.042774       |"
       ]
      },
      {
       "html": [
        "<pre>PROGRESS: | 2         | 11700    | 1604.323027  | 0.591111          | 19.690062       |</pre>"
       ],
       "metadata": {},
       "output_type": "display_data",
       "text": [
        "PROGRESS: | 2         | 11700    | 1604.323027  | 0.591111          | 19.690062       |"
       ]
      },
      {
       "html": [
        "<pre>PROGRESS: | 2         | 12000    | 1618.698523  | 0.591417          | 20.868853       |</pre>"
       ],
       "metadata": {},
       "output_type": "display_data",
       "text": [
        "PROGRESS: | 2         | 12000    | 1618.698523  | 0.591417          | 20.868853       |"
       ]
      },
      {
       "html": [
        "<pre>PROGRESS: | 2         | 12300    | 1633.759946  | 0.592032          | 19.918438       |</pre>"
       ],
       "metadata": {},
       "output_type": "display_data",
       "text": [
        "PROGRESS: | 2         | 12300    | 1633.759946  | 0.592032          | 19.918438       |"
       ]
      },
      {
       "html": [
        "<pre>PROGRESS: | 2         | 12600    | 1648.685939  | 0.591270          | 20.099163       |</pre>"
       ],
       "metadata": {},
       "output_type": "display_data",
       "text": [
        "PROGRESS: | 2         | 12600    | 1648.685939  | 0.591270          | 20.099163       |"
       ]
      },
      {
       "html": [
        "<pre>PROGRESS: | 2         | 12800    | 1659.397228  | 0.591094          | 18.671885       |</pre>"
       ],
       "metadata": {},
       "output_type": "display_data",
       "text": [
        "PROGRESS: | 2         | 12800    | 1659.397228  | 0.591094          | 18.671885       |"
       ]
      },
      {
       "html": [
        "<pre>PROGRESS: | 2         | 13100    | 1674.092926  | 0.590000          | 20.414139       |</pre>"
       ],
       "metadata": {},
       "output_type": "display_data",
       "text": [
        "PROGRESS: | 2         | 13100    | 1674.092926  | 0.590000          | 20.414139       |"
       ]
      },
      {
       "html": [
        "<pre>PROGRESS: | 2         | 13400    | 1687.975252  | 0.589552          | 21.610216       |</pre>"
       ],
       "metadata": {},
       "output_type": "display_data",
       "text": [
        "PROGRESS: | 2         | 13400    | 1687.975252  | 0.589552          | 21.610216       |"
       ]
      },
      {
       "html": [
        "<pre>PROGRESS: | 2         | 13700    | 1702.424288  | 0.589635          | 20.762623       |</pre>"
       ],
       "metadata": {},
       "output_type": "display_data",
       "text": [
        "PROGRESS: | 2         | 13700    | 1702.424288  | 0.589635          | 20.762623       |"
       ]
      },
      {
       "html": [
        "<pre>PROGRESS: | 2         | 14000    | 1716.371520  | 0.588857          | 21.509661       |</pre>"
       ],
       "metadata": {},
       "output_type": "display_data",
       "text": [
        "PROGRESS: | 2         | 14000    | 1716.371520  | 0.588857          | 21.509661       |"
       ]
      },
      {
       "html": [
        "<pre>PROGRESS: | 2         | 14300    | 1730.593419  | 0.589301          | 21.094215       |</pre>"
       ],
       "metadata": {},
       "output_type": "display_data",
       "text": [
        "PROGRESS: | 2         | 14300    | 1730.593419  | 0.589301          | 21.094215       |"
       ]
      },
      {
       "html": [
        "<pre>PROGRESS: | 2         | 14600    | 1744.826783  | 0.590069          | 21.077238       |</pre>"
       ],
       "metadata": {},
       "output_type": "display_data",
       "text": [
        "PROGRESS: | 2         | 14600    | 1744.826783  | 0.590069          | 21.077238       |"
       ]
      },
      {
       "html": [
        "<pre>PROGRESS: | 2         | 14900    | 1758.660168  | 0.589933          | 21.686666       |</pre>"
       ],
       "metadata": {},
       "output_type": "display_data",
       "text": [
        "PROGRESS: | 2         | 14900    | 1758.660168  | 0.589933          | 21.686666       |"
       ]
      },
      {
       "html": [
        "<pre>PROGRESS: | 2         | 15200    | 1772.244912  | 0.591053          | 22.083599       |</pre>"
       ],
       "metadata": {},
       "output_type": "display_data",
       "text": [
        "PROGRESS: | 2         | 15200    | 1772.244912  | 0.591053          | 22.083599       |"
       ]
      },
      {
       "html": [
        "<pre>PROGRESS: | 2         | 15500    | 1786.851815  | 0.590452          | 20.538235       |</pre>"
       ],
       "metadata": {},
       "output_type": "display_data",
       "text": [
        "PROGRESS: | 2         | 15500    | 1786.851815  | 0.590452          | 20.538235       |"
       ]
      },
      {
       "html": [
        "<pre>PROGRESS: | 2         | 15800    | 1800.839931  | 0.589747          | 21.446775       |</pre>"
       ],
       "metadata": {},
       "output_type": "display_data",
       "text": [
        "PROGRESS: | 2         | 15800    | 1800.839931  | 0.589747          | 21.446775       |"
       ]
      },
      {
       "html": [
        "<pre>PROGRESS: | 2         | 16000    | 1811.046382  | 0.590187          | 19.595446       |</pre>"
       ],
       "metadata": {},
       "output_type": "display_data",
       "text": [
        "PROGRESS: | 2         | 16000    | 1811.046382  | 0.590187          | 19.595446       |"
       ]
      },
      {
       "html": [
        "<pre>PROGRESS: | 2         | 16300    | 1826.368278  | 0.589693          | 19.579824       |</pre>"
       ],
       "metadata": {},
       "output_type": "display_data",
       "text": [
        "PROGRESS: | 2         | 16300    | 1826.368278  | 0.589693          | 19.579824       |"
       ]
      },
      {
       "html": [
        "<pre>PROGRESS: | 2         | 16500    | 1836.894358  | 0.588909          | 19.000427       |</pre>"
       ],
       "metadata": {},
       "output_type": "display_data",
       "text": [
        "PROGRESS: | 2         | 16500    | 1836.894358  | 0.588909          | 19.000427       |"
       ]
      },
      {
       "html": [
        "<pre>PROGRESS: | 2         | 16700    | 1846.958831  | 0.588982          | 19.871881       |</pre>"
       ],
       "metadata": {},
       "output_type": "display_data",
       "text": [
        "PROGRESS: | 2         | 16700    | 1846.958831  | 0.588982          | 19.871881       |"
       ]
      },
      {
       "html": [
        "<pre>PROGRESS: | 2         | 16900    | 1857.202629  | 0.588994          | 19.524006       |</pre>"
       ],
       "metadata": {},
       "output_type": "display_data",
       "text": [
        "PROGRESS: | 2         | 16900    | 1857.202629  | 0.588994          | 19.524006       |"
       ]
      },
      {
       "html": [
        "<pre>PROGRESS: | 2         | 17100    | 1867.231847  | 0.589942          | 19.941732       |</pre>"
       ],
       "metadata": {},
       "output_type": "display_data",
       "text": [
        "PROGRESS: | 2         | 17100    | 1867.231847  | 0.589942          | 19.941732       |"
       ]
      },
      {
       "html": [
        "<pre>PROGRESS: | 2         | 17300    | 1877.949876  | 0.589942          | 18.660145       |</pre>"
       ],
       "metadata": {},
       "output_type": "display_data",
       "text": [
        "PROGRESS: | 2         | 17300    | 1877.949876  | 0.589942          | 18.660145       |"
       ]
      },
      {
       "html": [
        "<pre>PROGRESS: | 2         | 17600    | 1893.195636  | 0.590057          | 19.677603       |</pre>"
       ],
       "metadata": {},
       "output_type": "display_data",
       "text": [
        "PROGRESS: | 2         | 17600    | 1893.195636  | 0.590057          | 19.677603       |"
       ]
      },
      {
       "html": [
        "<pre>PROGRESS: | 2         | 17800    | 1903.520780  | 0.590169          | 19.370193       |</pre>"
       ],
       "metadata": {},
       "output_type": "display_data",
       "text": [
        "PROGRESS: | 2         | 17800    | 1903.520780  | 0.590169          | 19.370193       |"
       ]
      },
      {
       "html": [
        "<pre>PROGRESS: | 2         | 18100    | 1919.378756  | 0.590553          | 18.917923       |</pre>"
       ],
       "metadata": {},
       "output_type": "display_data",
       "text": [
        "PROGRESS: | 2         | 18100    | 1919.378756  | 0.590553          | 18.917923       |"
       ]
      },
      {
       "html": [
        "<pre>PROGRESS: | 2         | 18300    | 1929.586585  | 0.590328          | 19.592804       |</pre>"
       ],
       "metadata": {},
       "output_type": "display_data",
       "text": [
        "PROGRESS: | 2         | 18300    | 1929.586585  | 0.590328          | 19.592804       |"
       ]
      },
      {
       "html": [
        "<pre>PROGRESS: | 2         | 18500    | 1940.317287  | 0.590162          | 18.638115       |</pre>"
       ],
       "metadata": {},
       "output_type": "display_data",
       "text": [
        "PROGRESS: | 2         | 18500    | 1940.317287  | 0.590162          | 18.638115       |"
       ]
      },
      {
       "html": [
        "<pre>PROGRESS: | 2         | 18700    | 1951.468864  | 0.590428          | 17.934677       |</pre>"
       ],
       "metadata": {},
       "output_type": "display_data",
       "text": [
        "PROGRESS: | 2         | 18700    | 1951.468864  | 0.590428          | 17.934677       |"
       ]
      },
      {
       "html": [
        "<pre>PROGRESS: | 2         | 18900    | 1963.836241  | 0.590582          | 16.171577       |</pre>"
       ],
       "metadata": {},
       "output_type": "display_data",
       "text": [
        "PROGRESS: | 2         | 18900    | 1963.836241  | 0.590582          | 16.171577       |"
       ]
      },
      {
       "html": [
        "<pre>PROGRESS: | 2         | 19100    | 1975.941525  | 0.590628          | 16.521715       |</pre>"
       ],
       "metadata": {},
       "output_type": "display_data",
       "text": [
        "PROGRESS: | 2         | 19100    | 1975.941525  | 0.590628          | 16.521715       |"
       ]
      },
      {
       "html": [
        "<pre>PROGRESS: | 2         | 19300    | 1986.576570  | 0.590363          | 18.805750       |</pre>"
       ],
       "metadata": {},
       "output_type": "display_data",
       "text": [
        "PROGRESS: | 2         | 19300    | 1986.576570  | 0.590363          | 18.805750       |"
       ]
      },
      {
       "html": [
        "<pre>PROGRESS: | 2         | 19500    | 1998.292960  | 0.590410          | 17.070099       |</pre>"
       ],
       "metadata": {},
       "output_type": "display_data",
       "text": [
        "PROGRESS: | 2         | 19500    | 1998.292960  | 0.590410          | 17.070099       |"
       ]
      },
      {
       "html": [
        "<pre>PROGRESS: | 2         | 19700    | 2009.431287  | 0.591371          | 17.956018       |</pre>"
       ],
       "metadata": {},
       "output_type": "display_data",
       "text": [
        "PROGRESS: | 2         | 19700    | 2009.431287  | 0.591371          | 17.956018       |"
       ]
      },
      {
       "html": [
        "<pre>PROGRESS: | 2         | 19900    | 2020.063580  | 0.591859          | 18.810625       |</pre>"
       ],
       "metadata": {},
       "output_type": "display_data",
       "text": [
        "PROGRESS: | 2         | 19900    | 2020.063580  | 0.591859          | 18.810625       |"
       ]
      },
      {
       "html": [
        "<pre>PROGRESS: | 2         | 20100    | 2030.462199  | 0.592488          | 19.233320       |</pre>"
       ],
       "metadata": {},
       "output_type": "display_data",
       "text": [
        "PROGRESS: | 2         | 20100    | 2030.462199  | 0.592488          | 19.233320       |"
       ]
      },
      {
       "html": [
        "<pre>PROGRESS: | 2         | 20100    | 2030.462837  | 0.592488          | 19.233320       |</pre>"
       ],
       "metadata": {},
       "output_type": "display_data",
       "text": [
        "PROGRESS: | 2         | 20100    | 2030.462837  | 0.592488          | 19.233320       |"
       ]
      },
      {
       "html": [
        "<pre>PROGRESS: | 3         | 200      | 2041.113942  | 0.595000          | 18.781878       |</pre>"
       ],
       "metadata": {},
       "output_type": "display_data",
       "text": [
        "PROGRESS: | 3         | 200      | 2041.113942  | 0.595000          | 18.781878       |"
       ]
      },
      {
       "html": [
        "<pre>PROGRESS: | 3         | 400      | 2051.657986  | 0.617500          | 18.968054       |</pre>"
       ],
       "metadata": {},
       "output_type": "display_data",
       "text": [
        "PROGRESS: | 3         | 400      | 2051.657986  | 0.617500          | 18.968054       |"
       ]
      },
      {
       "html": [
        "<pre>PROGRESS: | 3         | 600      | 2061.963075  | 0.631667          | 19.407887       |</pre>"
       ],
       "metadata": {},
       "output_type": "display_data",
       "text": [
        "PROGRESS: | 3         | 600      | 2061.963075  | 0.631667          | 19.407887       |"
       ]
      },
      {
       "html": [
        "<pre>PROGRESS: | 3         | 800      | 2072.749024  | 0.628750          | 18.542646       |</pre>"
       ],
       "metadata": {},
       "output_type": "display_data",
       "text": [
        "PROGRESS: | 3         | 800      | 2072.749024  | 0.628750          | 18.542646       |"
       ]
      },
      {
       "html": [
        "<pre>PROGRESS: | 3         | 1000     | 2083.352420  | 0.616000          | 18.861876       |</pre>"
       ],
       "metadata": {},
       "output_type": "display_data",
       "text": [
        "PROGRESS: | 3         | 1000     | 2083.352420  | 0.616000          | 18.861876       |"
       ]
      },
      {
       "html": [
        "<pre>PROGRESS: | 3         | 1200     | 2095.772663  | 0.610000          | 16.102745       |</pre>"
       ],
       "metadata": {},
       "output_type": "display_data",
       "text": [
        "PROGRESS: | 3         | 1200     | 2095.772663  | 0.610000          | 16.102745       |"
       ]
      },
      {
       "html": [
        "<pre>PROGRESS: | 3         | 1400     | 2107.901830  | 0.612857          | 16.489269       |</pre>"
       ],
       "metadata": {},
       "output_type": "display_data",
       "text": [
        "PROGRESS: | 3         | 1400     | 2107.901830  | 0.612857          | 16.489269       |"
       ]
      },
      {
       "html": [
        "<pre>PROGRESS: | 3         | 1600     | 2118.769922  | 0.613125          | 18.402380       |</pre>"
       ],
       "metadata": {},
       "output_type": "display_data",
       "text": [
        "PROGRESS: | 3         | 1600     | 2118.769922  | 0.613125          | 18.402380       |"
       ]
      },
      {
       "html": [
        "<pre>PROGRESS: | 3         | 1800     | 2130.010814  | 0.603889          | 17.792185       |</pre>"
       ],
       "metadata": {},
       "output_type": "display_data",
       "text": [
        "PROGRESS: | 3         | 1800     | 2130.010814  | 0.603889          | 17.792185       |"
       ]
      },
      {
       "html": [
        "<pre>PROGRESS: | 3         | 2000     | 2140.032333  | 0.610000          | 19.957054       |</pre>"
       ],
       "metadata": {},
       "output_type": "display_data",
       "text": [
        "PROGRESS: | 3         | 2000     | 2140.032333  | 0.610000          | 19.957054       |"
       ]
      },
      {
       "html": [
        "<pre>PROGRESS: | 3         | 2200     | 2150.626038  | 0.612727          | 18.879135       |</pre>"
       ],
       "metadata": {},
       "output_type": "display_data",
       "text": [
        "PROGRESS: | 3         | 2200     | 2150.626038  | 0.612727          | 18.879135       |"
       ]
      },
      {
       "html": [
        "<pre>PROGRESS: | 3         | 2400     | 2161.691432  | 0.614583          | 18.074369       |</pre>"
       ],
       "metadata": {},
       "output_type": "display_data",
       "text": [
        "PROGRESS: | 3         | 2400     | 2161.691432  | 0.614583          | 18.074369       |"
       ]
      },
      {
       "html": [
        "<pre>PROGRESS: | 3         | 2600     | 2171.959171  | 0.606538          | 19.478485       |</pre>"
       ],
       "metadata": {},
       "output_type": "display_data",
       "text": [
        "PROGRESS: | 3         | 2600     | 2171.959171  | 0.606538          | 19.478485       |"
       ]
      },
      {
       "html": [
        "<pre>PROGRESS: | 3         | 2900     | 2186.246917  | 0.602414          | 20.997009       |</pre>"
       ],
       "metadata": {},
       "output_type": "display_data",
       "text": [
        "PROGRESS: | 3         | 2900     | 2186.246917  | 0.602414          | 20.997009       |"
       ]
      },
      {
       "html": [
        "<pre>PROGRESS: | 3         | 3100     | 2196.413563  | 0.599355          | 19.672173       |</pre>"
       ],
       "metadata": {},
       "output_type": "display_data",
       "text": [
        "PROGRESS: | 3         | 3100     | 2196.413563  | 0.599355          | 19.672173       |"
       ]
      },
      {
       "html": [
        "<pre>PROGRESS: | 3         | 3300     | 2207.106732  | 0.598485          | 18.714659       |</pre>"
       ],
       "metadata": {},
       "output_type": "display_data",
       "text": [
        "PROGRESS: | 3         | 3300     | 2207.106732  | 0.598485          | 18.714659       |"
       ]
      },
      {
       "html": [
        "<pre>PROGRESS: | 3         | 3600     | 2221.858703  | 0.599444          | 20.327505       |</pre>"
       ],
       "metadata": {},
       "output_type": "display_data",
       "text": [
        "PROGRESS: | 3         | 3600     | 2221.858703  | 0.599444          | 20.327505       |"
       ]
      },
      {
       "html": [
        "<pre>PROGRESS: | 3         | 3900     | 2236.304184  | 0.598205          | 20.767744       |</pre>"
       ],
       "metadata": {},
       "output_type": "display_data",
       "text": [
        "PROGRESS: | 3         | 3900     | 2236.304184  | 0.598205          | 20.767744       |"
       ]
      },
      {
       "html": [
        "<pre>PROGRESS: | 3         | 4100     | 2246.551824  | 0.599512          | 19.516685       |</pre>"
       ],
       "metadata": {},
       "output_type": "display_data",
       "text": [
        "PROGRESS: | 3         | 4100     | 2246.551824  | 0.599512          | 19.516685       |"
       ]
      },
      {
       "html": [
        "<pre>PROGRESS: | 3         | 4300     | 2256.873636  | 0.600000          | 19.376450       |</pre>"
       ],
       "metadata": {},
       "output_type": "display_data",
       "text": [
        "PROGRESS: | 3         | 4300     | 2256.873636  | 0.600000          | 19.376450       |"
       ]
      },
      {
       "html": [
        "<pre>PROGRESS: | 3         | 4600     | 2271.396330  | 0.599130          | 20.657318       |</pre>"
       ],
       "metadata": {},
       "output_type": "display_data",
       "text": [
        "PROGRESS: | 3         | 4600     | 2271.396330  | 0.599130          | 20.657318       |"
       ]
      },
      {
       "html": [
        "<pre>PROGRESS: | 3         | 4900     | 2285.174287  | 0.602857          | 21.773912       |</pre>"
       ],
       "metadata": {},
       "output_type": "display_data",
       "text": [
        "PROGRESS: | 3         | 4900     | 2285.174287  | 0.602857          | 21.773912       |"
       ]
      },
      {
       "html": [
        "<pre>PROGRESS: | 3         | 5200     | 2298.752841  | 0.601731          | 22.093664       |</pre>"
       ],
       "metadata": {},
       "output_type": "display_data",
       "text": [
        "PROGRESS: | 3         | 5200     | 2298.752841  | 0.601731          | 22.093664       |"
       ]
      },
      {
       "html": [
        "<pre>PROGRESS: | 3         | 5500     | 2313.251741  | 0.601818          | 20.691229       |</pre>"
       ],
       "metadata": {},
       "output_type": "display_data",
       "text": [
        "PROGRESS: | 3         | 5500     | 2313.251741  | 0.601818          | 20.691229       |"
       ]
      },
      {
       "html": [
        "<pre>PROGRESS: | 3         | 5800     | 2327.129209  | 0.603103          | 21.617767       |</pre>"
       ],
       "metadata": {},
       "output_type": "display_data",
       "text": [
        "PROGRESS: | 3         | 5800     | 2327.129209  | 0.603103          | 21.617767       |"
       ]
      },
      {
       "html": [
        "<pre>PROGRESS: | 3         | 6100     | 2341.074269  | 0.600820          | 21.512999       |</pre>"
       ],
       "metadata": {},
       "output_type": "display_data",
       "text": [
        "PROGRESS: | 3         | 6100     | 2341.074269  | 0.600820          | 21.512999       |"
       ]
      },
      {
       "html": [
        "<pre>PROGRESS: | 3         | 6400     | 2355.400969  | 0.600156          | 20.939924       |</pre>"
       ],
       "metadata": {},
       "output_type": "display_data",
       "text": [
        "PROGRESS: | 3         | 6400     | 2355.400969  | 0.600156          | 20.939924       |"
       ]
      },
      {
       "html": [
        "<pre>PROGRESS: | 3         | 6700     | 2369.228848  | 0.600597          | 21.695297       |</pre>"
       ],
       "metadata": {},
       "output_type": "display_data",
       "text": [
        "PROGRESS: | 3         | 6700     | 2369.228848  | 0.600597          | 21.695297       |"
       ]
      },
      {
       "html": [
        "<pre>PROGRESS: | 3         | 7000     | 2382.962051  | 0.601571          | 21.844872       |</pre>"
       ],
       "metadata": {},
       "output_type": "display_data",
       "text": [
        "PROGRESS: | 3         | 7000     | 2382.962051  | 0.601571          | 21.844872       |"
       ]
      },
      {
       "html": [
        "<pre>PROGRESS: | 3         | 7300     | 2397.300288  | 0.598904          | 20.923073       |</pre>"
       ],
       "metadata": {},
       "output_type": "display_data",
       "text": [
        "PROGRESS: | 3         | 7300     | 2397.300288  | 0.598904          | 20.923073       |"
       ]
      },
      {
       "html": [
        "<pre>PROGRESS: | 3         | 7600     | 2411.014429  | 0.599342          | 21.875229       |</pre>"
       ],
       "metadata": {},
       "output_type": "display_data",
       "text": [
        "PROGRESS: | 3         | 7600     | 2411.014429  | 0.599342          | 21.875229       |"
       ]
      },
      {
       "html": [
        "<pre>PROGRESS: | 3         | 7900     | 2425.036719  | 0.599240          | 21.394512       |</pre>"
       ],
       "metadata": {},
       "output_type": "display_data",
       "text": [
        "PROGRESS: | 3         | 7900     | 2425.036719  | 0.599240          | 21.394512       |"
       ]
      },
      {
       "html": [
        "<pre>PROGRESS: | 3         | 8200     | 2439.520879  | 0.597439          | 20.712276       |</pre>"
       ],
       "metadata": {},
       "output_type": "display_data",
       "text": [
        "PROGRESS: | 3         | 8200     | 2439.520879  | 0.597439          | 20.712276       |"
       ]
      },
      {
       "html": [
        "<pre>PROGRESS: | 3         | 8500     | 2453.396137  | 0.596118          | 21.621223       |</pre>"
       ],
       "metadata": {},
       "output_type": "display_data",
       "text": [
        "PROGRESS: | 3         | 8500     | 2453.396137  | 0.596118          | 21.621223       |"
       ]
      },
      {
       "html": [
        "<pre>PROGRESS: | 3         | 8800     | 2467.262805  | 0.595341          | 21.634607       |</pre>"
       ],
       "metadata": {},
       "output_type": "display_data",
       "text": [
        "PROGRESS: | 3         | 8800     | 2467.262805  | 0.595341          | 21.634607       |"
       ]
      },
      {
       "html": [
        "<pre>PROGRESS: | 3         | 9100     | 2481.903140  | 0.595934          | 20.491341       |</pre>"
       ],
       "metadata": {},
       "output_type": "display_data",
       "text": [
        "PROGRESS: | 3         | 9100     | 2481.903140  | 0.595934          | 20.491341       |"
       ]
      },
      {
       "html": [
        "<pre>PROGRESS: | 3         | 9400     | 2495.625530  | 0.594574          | 21.862080       |</pre>"
       ],
       "metadata": {},
       "output_type": "display_data",
       "text": [
        "PROGRESS: | 3         | 9400     | 2495.625530  | 0.594574          | 21.862080       |"
       ]
      },
      {
       "html": [
        "<pre>PROGRESS: | 3         | 9700     | 2509.978903  | 0.594536          | 20.901007       |</pre>"
       ],
       "metadata": {},
       "output_type": "display_data",
       "text": [
        "PROGRESS: | 3         | 9700     | 2509.978903  | 0.594536          | 20.901007       |"
       ]
      },
      {
       "html": [
        "<pre>PROGRESS: | 3         | 10000    | 2523.957252  | 0.594000          | 21.461760       |</pre>"
       ],
       "metadata": {},
       "output_type": "display_data",
       "text": [
        "PROGRESS: | 3         | 10000    | 2523.957252  | 0.594000          | 21.461760       |"
       ]
      },
      {
       "html": [
        "<pre>PROGRESS: | 3         | 10300    | 2538.620466  | 0.592621          | 20.459366       |</pre>"
       ],
       "metadata": {},
       "output_type": "display_data",
       "text": [
        "PROGRESS: | 3         | 10300    | 2538.620466  | 0.592621          | 20.459366       |"
       ]
      },
      {
       "html": [
        "<pre>PROGRESS: | 3         | 10500    | 2549.079122  | 0.593238          | 19.122915       |</pre>"
       ],
       "metadata": {},
       "output_type": "display_data",
       "text": [
        "PROGRESS: | 3         | 10500    | 2549.079122  | 0.593238          | 19.122915       |"
       ]
      },
      {
       "html": [
        "<pre>PROGRESS: | 3         | 10800    | 2563.812158  | 0.593333          | 20.362400       |</pre>"
       ],
       "metadata": {},
       "output_type": "display_data",
       "text": [
        "PROGRESS: | 3         | 10800    | 2563.812158  | 0.593333          | 20.362400       |"
       ]
      },
      {
       "html": [
        "<pre>PROGRESS: | 3         | 11100    | 2577.632713  | 0.592523          | 21.706800       |</pre>"
       ],
       "metadata": {},
       "output_type": "display_data",
       "text": [
        "PROGRESS: | 3         | 11100    | 2577.632713  | 0.592523          | 21.706800       |"
       ]
      },
      {
       "html": [
        "<pre>PROGRESS: | 3         | 11400    | 2591.954747  | 0.591403          | 20.946747       |</pre>"
       ],
       "metadata": {},
       "output_type": "display_data",
       "text": [
        "PROGRESS: | 3         | 11400    | 2591.954747  | 0.591403          | 20.946747       |"
       ]
      },
      {
       "html": [
        "<pre>PROGRESS: | 3         | 11700    | 2605.713484  | 0.591624          | 21.804321       |</pre>"
       ],
       "metadata": {},
       "output_type": "display_data",
       "text": [
        "PROGRESS: | 3         | 11700    | 2605.713484  | 0.591624          | 21.804321       |"
       ]
      },
      {
       "html": [
        "<pre>PROGRESS: | 3         | 12000    | 2619.745952  | 0.591833          | 21.378992       |</pre>"
       ],
       "metadata": {},
       "output_type": "display_data",
       "text": [
        "PROGRESS: | 3         | 12000    | 2619.745952  | 0.591833          | 21.378992       |"
       ]
      },
      {
       "html": [
        "<pre>PROGRESS: | 3         | 12300    | 2633.997124  | 0.590732          | 21.050903       |</pre>"
       ],
       "metadata": {},
       "output_type": "display_data",
       "text": [
        "PROGRESS: | 3         | 12300    | 2633.997124  | 0.590732          | 21.050903       |"
       ]
      },
      {
       "html": [
        "<pre>PROGRESS: | 3         | 12600    | 2647.947274  | 0.590317          | 21.505144       |</pre>"
       ],
       "metadata": {},
       "output_type": "display_data",
       "text": [
        "PROGRESS: | 3         | 12600    | 2647.947274  | 0.590317          | 21.505144       |"
       ]
      },
      {
       "html": [
        "<pre>PROGRESS: | 3         | 12900    | 2662.019100  | 0.589147          | 21.319195       |</pre>"
       ],
       "metadata": {},
       "output_type": "display_data",
       "text": [
        "PROGRESS: | 3         | 12900    | 2662.019100  | 0.589147          | 21.319195       |"
       ]
      },
      {
       "html": [
        "<pre>PROGRESS: | 3         | 13200    | 2676.138903  | 0.588788          | 21.246758       |</pre>"
       ],
       "metadata": {},
       "output_type": "display_data",
       "text": [
        "PROGRESS: | 3         | 13200    | 2676.138903  | 0.588788          | 21.246758       |"
       ]
      },
      {
       "html": [
        "<pre>PROGRESS: | 3         | 13500    | 2690.072347  | 0.588593          | 21.530930       |</pre>"
       ],
       "metadata": {},
       "output_type": "display_data",
       "text": [
        "PROGRESS: | 3         | 13500    | 2690.072347  | 0.588593          | 21.530930       |"
       ]
      },
      {
       "html": [
        "<pre>PROGRESS: | 3         | 13800    | 2704.183068  | 0.589130          | 21.260429       |</pre>"
       ],
       "metadata": {},
       "output_type": "display_data",
       "text": [
        "PROGRESS: | 3         | 13800    | 2704.183068  | 0.589130          | 21.260429       |"
       ]
      },
      {
       "html": [
        "<pre>PROGRESS: | 3         | 14100    | 2718.016237  | 0.589929          | 21.687006       |</pre>"
       ],
       "metadata": {},
       "output_type": "display_data",
       "text": [
        "PROGRESS: | 3         | 14100    | 2718.016237  | 0.589929          | 21.687006       |"
       ]
      },
      {
       "html": [
        "<pre>PROGRESS: | 3         | 14400    | 2732.047976  | 0.590417          | 21.380102       |</pre>"
       ],
       "metadata": {},
       "output_type": "display_data",
       "text": [
        "PROGRESS: | 3         | 14400    | 2732.047976  | 0.590417          | 21.380102       |"
       ]
      },
      {
       "html": [
        "<pre>PROGRESS: | 3         | 14700    | 2746.345371  | 0.591293          | 20.982845       |</pre>"
       ],
       "metadata": {},
       "output_type": "display_data",
       "text": [
        "PROGRESS: | 3         | 14700    | 2746.345371  | 0.591293          | 20.982845       |"
       ]
      },
      {
       "html": [
        "<pre>PROGRESS: | 3         | 15000    | 2760.739988  | 0.591867          | 20.841118       |</pre>"
       ],
       "metadata": {},
       "output_type": "display_data",
       "text": [
        "PROGRESS: | 3         | 15000    | 2760.739988  | 0.591867          | 20.841118       |"
       ]
      },
      {
       "html": [
        "<pre>PROGRESS: | 3         | 15300    | 2775.071157  | 0.592680          | 20.933395       |</pre>"
       ],
       "metadata": {},
       "output_type": "display_data",
       "text": [
        "PROGRESS: | 3         | 15300    | 2775.071157  | 0.592680          | 20.933395       |"
       ]
      },
      {
       "html": [
        "<pre>PROGRESS: | 3         | 15600    | 2789.315168  | 0.593077          | 21.061483       |</pre>"
       ],
       "metadata": {},
       "output_type": "display_data",
       "text": [
        "PROGRESS: | 3         | 15600    | 2789.315168  | 0.593077          | 21.061483       |"
       ]
      },
      {
       "html": [
        "<pre>PROGRESS: | 3         | 15900    | 2803.181651  | 0.593270          | 21.634899       |</pre>"
       ],
       "metadata": {},
       "output_type": "display_data",
       "text": [
        "PROGRESS: | 3         | 15900    | 2803.181651  | 0.593270          | 21.634899       |"
       ]
      },
      {
       "html": [
        "<pre>PROGRESS: | 3         | 16200    | 2817.067907  | 0.592222          | 21.604099       |</pre>"
       ],
       "metadata": {},
       "output_type": "display_data",
       "text": [
        "PROGRESS: | 3         | 16200    | 2817.067907  | 0.592222          | 21.604099       |"
       ]
      },
      {
       "html": [
        "<pre>PROGRESS: | 3         | 16500    | 2831.426313  | 0.592848          | 20.893681       |</pre>"
       ],
       "metadata": {},
       "output_type": "display_data",
       "text": [
        "PROGRESS: | 3         | 16500    | 2831.426313  | 0.592848          | 20.893681       |"
       ]
      },
      {
       "html": [
        "<pre>PROGRESS: | 3         | 16800    | 2845.493099  | 0.593095          | 21.326836       |</pre>"
       ],
       "metadata": {},
       "output_type": "display_data",
       "text": [
        "PROGRESS: | 3         | 16800    | 2845.493099  | 0.593095          | 21.326836       |"
       ]
      },
      {
       "html": [
        "<pre>PROGRESS: | 3         | 17100    | 2859.422661  | 0.593860          | 21.536932       |</pre>"
       ],
       "metadata": {},
       "output_type": "display_data",
       "text": [
        "PROGRESS: | 3         | 17100    | 2859.422661  | 0.593860          | 21.536932       |"
       ]
      },
      {
       "html": [
        "<pre>PROGRESS: | 3         | 17400    | 2873.816364  | 0.593851          | 20.842445       |</pre>"
       ],
       "metadata": {},
       "output_type": "display_data",
       "text": [
        "PROGRESS: | 3         | 17400    | 2873.816364  | 0.593851          | 20.842445       |"
       ]
      },
      {
       "html": [
        "<pre>PROGRESS: | 3         | 17700    | 2887.862642  | 0.594972          | 21.357971       |</pre>"
       ],
       "metadata": {},
       "output_type": "display_data",
       "text": [
        "PROGRESS: | 3         | 17700    | 2887.862642  | 0.594972          | 21.357971       |"
       ]
      },
      {
       "html": [
        "<pre>PROGRESS: | 3         | 18000    | 2901.760056  | 0.594444          | 21.586758       |</pre>"
       ],
       "metadata": {},
       "output_type": "display_data",
       "text": [
        "PROGRESS: | 3         | 18000    | 2901.760056  | 0.594444          | 21.586758       |"
       ]
      },
      {
       "html": [
        "<pre>PROGRESS: | 3         | 18300    | 2916.080128  | 0.594699          | 20.949612       |</pre>"
       ],
       "metadata": {},
       "output_type": "display_data",
       "text": [
        "PROGRESS: | 3         | 18300    | 2916.080128  | 0.594699          | 20.949612       |"
       ]
      },
      {
       "html": [
        "<pre>PROGRESS: | 3         | 18600    | 2929.734574  | 0.595054          | 21.970863       |</pre>"
       ],
       "metadata": {},
       "output_type": "display_data",
       "text": [
        "PROGRESS: | 3         | 18600    | 2929.734574  | 0.595054          | 21.970863       |"
       ]
      },
      {
       "html": [
        "<pre>PROGRESS: | 3         | 18900    | 2943.354914  | 0.595344          | 22.025881       |</pre>"
       ],
       "metadata": {},
       "output_type": "display_data",
       "text": [
        "PROGRESS: | 3         | 18900    | 2943.354914  | 0.595344          | 22.025881       |"
       ]
      },
      {
       "html": [
        "<pre>PROGRESS: | 3         | 19200    | 2957.590295  | 0.595729          | 21.074257       |</pre>"
       ],
       "metadata": {},
       "output_type": "display_data",
       "text": [
        "PROGRESS: | 3         | 19200    | 2957.590295  | 0.595729          | 21.074257       |"
       ]
      },
      {
       "html": [
        "<pre>PROGRESS: | 3         | 19500    | 2971.279358  | 0.595487          | 21.915302       |</pre>"
       ],
       "metadata": {},
       "output_type": "display_data",
       "text": [
        "PROGRESS: | 3         | 19500    | 2971.279358  | 0.595487          | 21.915302       |"
       ]
      },
      {
       "html": [
        "<pre>PROGRESS: | 3         | 19800    | 2985.584425  | 0.595758          | 20.971596       |</pre>"
       ],
       "metadata": {},
       "output_type": "display_data",
       "text": [
        "PROGRESS: | 3         | 19800    | 2985.584425  | 0.595758          | 20.971596       |"
       ]
      },
      {
       "html": [
        "<pre>PROGRESS: | 3         | 20100    | 2999.813965  | 0.595771          | 21.082897       |</pre>"
       ],
       "metadata": {},
       "output_type": "display_data",
       "text": [
        "PROGRESS: | 3         | 20100    | 2999.813965  | 0.595771          | 21.082897       |"
       ]
      },
      {
       "html": [
        "<pre>PROGRESS: | 3         | 20100    | 2999.814159  | 0.595771          | 21.082897       |</pre>"
       ],
       "metadata": {},
       "output_type": "display_data",
       "text": [
        "PROGRESS: | 3         | 20100    | 2999.814159  | 0.595771          | 21.082897       |"
       ]
      },
      {
       "html": [
        "<pre>PROGRESS: | 4         | 300      | 3013.897889  | 0.596667          | 21.301567       |</pre>"
       ],
       "metadata": {},
       "output_type": "display_data",
       "text": [
        "PROGRESS: | 4         | 300      | 3013.897889  | 0.596667          | 21.301567       |"
       ]
      },
      {
       "html": [
        "<pre>PROGRESS: | 4         | 600      | 3027.929292  | 0.620000          | 21.380610       |</pre>"
       ],
       "metadata": {},
       "output_type": "display_data",
       "text": [
        "PROGRESS: | 4         | 600      | 3027.929292  | 0.620000          | 21.380610       |"
       ]
      },
      {
       "html": [
        "<pre>PROGRESS: | 4         | 900      | 3041.575860  | 0.624444          | 21.983547       |</pre>"
       ],
       "metadata": {},
       "output_type": "display_data",
       "text": [
        "PROGRESS: | 4         | 900      | 3041.575860  | 0.624444          | 21.983547       |"
       ]
      },
      {
       "html": [
        "<pre>PROGRESS: | 4         | 1200     | 3055.731594  | 0.620000          | 21.192825       |</pre>"
       ],
       "metadata": {},
       "output_type": "display_data",
       "text": [
        "PROGRESS: | 4         | 1200     | 3055.731594  | 0.620000          | 21.192825       |"
       ]
      },
      {
       "html": [
        "<pre>PROGRESS: | 4         | 1500     | 3070.135441  | 0.617333          | 20.827768       |</pre>"
       ],
       "metadata": {},
       "output_type": "display_data",
       "text": [
        "PROGRESS: | 4         | 1500     | 3070.135441  | 0.617333          | 20.827768       |"
       ]
      },
      {
       "html": [
        "<pre>PROGRESS: | 4         | 1800     | 3083.982707  | 0.616667          | 21.664932       |</pre>"
       ],
       "metadata": {},
       "output_type": "display_data",
       "text": [
        "PROGRESS: | 4         | 1800     | 3083.982707  | 0.616667          | 21.664932       |"
       ]
      },
      {
       "html": [
        "<pre>PROGRESS: | 4         | 2100     | 3097.818256  | 0.606191          | 21.683270       |</pre>"
       ],
       "metadata": {},
       "output_type": "display_data",
       "text": [
        "PROGRESS: | 4         | 2100     | 3097.818256  | 0.606191          | 21.683270       |"
       ]
      },
      {
       "html": [
        "<pre>PROGRESS: | 4         | 2400     | 3112.209818  | 0.602500          | 20.845551       |</pre>"
       ],
       "metadata": {},
       "output_type": "display_data",
       "text": [
        "PROGRESS: | 4         | 2400     | 3112.209818  | 0.602500          | 20.845551       |"
       ]
      },
      {
       "html": [
        "<pre>PROGRESS: | 4         | 2700     | 3126.246726  | 0.602222          | 21.372225       |</pre>"
       ],
       "metadata": {},
       "output_type": "display_data",
       "text": [
        "PROGRESS: | 4         | 2700     | 3126.246726  | 0.602222          | 21.372225       |"
       ]
      },
      {
       "html": [
        "<pre>PROGRESS: | 4         | 3000     | 3140.325373  | 0.601667          | 21.308865       |</pre>"
       ],
       "metadata": {},
       "output_type": "display_data",
       "text": [
        "PROGRESS: | 4         | 3000     | 3140.325373  | 0.601667          | 21.308865       |"
       ]
      },
      {
       "html": [
        "<pre>PROGRESS: | 4         | 3200     | 3150.426201  | 0.601250          | 19.800365       |</pre>"
       ],
       "metadata": {},
       "output_type": "display_data",
       "text": [
        "PROGRESS: | 4         | 3200     | 3150.426201  | 0.601250          | 19.800365       |"
       ]
      },
      {
       "html": [
        "<pre>PROGRESS: | 4         | 3500     | 3164.036667  | 0.599429          | 22.041859       |</pre>"
       ],
       "metadata": {},
       "output_type": "display_data",
       "text": [
        "PROGRESS: | 4         | 3500     | 3164.036667  | 0.599429          | 22.041859       |"
       ]
      },
      {
       "html": [
        "<pre>PROGRESS: | 4         | 3800     | 3178.333766  | 0.599474          | 20.983278       |</pre>"
       ],
       "metadata": {},
       "output_type": "display_data",
       "text": [
        "PROGRESS: | 4         | 3800     | 3178.333766  | 0.599474          | 20.983278       |"
       ]
      },
      {
       "html": [
        "<pre>PROGRESS: | 4         | 4100     | 3192.189771  | 0.601220          | 21.651258       |</pre>"
       ],
       "metadata": {},
       "output_type": "display_data",
       "text": [
        "PROGRESS: | 4         | 4100     | 3192.189771  | 0.601220          | 21.651258       |"
       ]
      },
      {
       "html": [
        "<pre>PROGRESS: | 4         | 4400     | 3206.123756  | 0.596364          | 21.530096       |</pre>"
       ],
       "metadata": {},
       "output_type": "display_data",
       "text": [
        "PROGRESS: | 4         | 4400     | 3206.123756  | 0.596364          | 21.530096       |"
       ]
      },
      {
       "html": [
        "<pre>PROGRESS: | 4         | 4700     | 3220.508871  | 0.595532          | 20.854893       |</pre>"
       ],
       "metadata": {},
       "output_type": "display_data",
       "text": [
        "PROGRESS: | 4         | 4700     | 3220.508871  | 0.595532          | 20.854893       |"
       ]
      },
      {
       "html": [
        "<pre>PROGRESS: | 4         | 5000     | 3235.071484  | 0.597000          | 20.600702       |</pre>"
       ],
       "metadata": {},
       "output_type": "display_data",
       "text": [
        "PROGRESS: | 4         | 5000     | 3235.071484  | 0.597000          | 20.600702       |"
       ]
      },
      {
       "html": [
        "<pre>PROGRESS: | 4         | 5300     | 3248.960199  | 0.596792          | 21.600267       |</pre>"
       ],
       "metadata": {},
       "output_type": "display_data",
       "text": [
        "PROGRESS: | 4         | 5300     | 3248.960199  | 0.596792          | 21.600267       |"
       ]
      },
      {
       "html": [
        "<pre>PROGRESS: | 4         | 5600     | 3263.183382  | 0.594286          | 21.092321       |</pre>"
       ],
       "metadata": {},
       "output_type": "display_data",
       "text": [
        "PROGRESS: | 4         | 5600     | 3263.183382  | 0.594286          | 21.092321       |"
       ]
      },
      {
       "html": [
        "<pre>PROGRESS: | 4         | 5900     | 3277.666663  | 0.595085          | 20.713541       |</pre>"
       ],
       "metadata": {},
       "output_type": "display_data",
       "text": [
        "PROGRESS: | 4         | 5900     | 3277.666663  | 0.595085          | 20.713541       |"
       ]
      },
      {
       "html": [
        "<pre>PROGRESS: | 4         | 6100     | 3287.938247  | 0.594098          | 19.471197       |</pre>"
       ],
       "metadata": {},
       "output_type": "display_data",
       "text": [
        "PROGRESS: | 4         | 6100     | 3287.938247  | 0.594098          | 19.471197       |"
       ]
      },
      {
       "html": [
        "<pre>PROGRESS: | 4         | 6400     | 3302.945917  | 0.592344          | 19.989775       |</pre>"
       ],
       "metadata": {},
       "output_type": "display_data",
       "text": [
        "PROGRESS: | 4         | 6400     | 3302.945917  | 0.592344          | 19.989775       |"
       ]
      },
      {
       "html": [
        "<pre>PROGRESS: | 4         | 6700     | 3317.075347  | 0.592388          | 21.232277       |</pre>"
       ],
       "metadata": {},
       "output_type": "display_data",
       "text": [
        "PROGRESS: | 4         | 6700     | 3317.075347  | 0.592388          | 21.232277       |"
       ]
      },
      {
       "html": [
        "<pre>PROGRESS: | 4         | 7000     | 3331.231326  | 0.590286          | 21.192461       |</pre>"
       ],
       "metadata": {},
       "output_type": "display_data",
       "text": [
        "PROGRESS: | 4         | 7000     | 3331.231326  | 0.590286          | 21.192461       |"
       ]
      },
      {
       "html": [
        "<pre>PROGRESS: | 4         | 7300     | 3345.517308  | 0.588082          | 20.999613       |</pre>"
       ],
       "metadata": {},
       "output_type": "display_data",
       "text": [
        "PROGRESS: | 4         | 7300     | 3345.517308  | 0.588082          | 20.999613       |"
       ]
      },
      {
       "html": [
        "<pre>PROGRESS: | 4         | 7600     | 3359.589800  | 0.583816          | 21.318182       |</pre>"
       ],
       "metadata": {},
       "output_type": "display_data",
       "text": [
        "PROGRESS: | 4         | 7600     | 3359.589800  | 0.583816          | 21.318182       |"
       ]
      },
      {
       "html": [
        "<pre>PROGRESS: | 4         | 7800     | 3369.824342  | 0.583974          | 19.541666       |</pre>"
       ],
       "metadata": {},
       "output_type": "display_data",
       "text": [
        "PROGRESS: | 4         | 7800     | 3369.824342  | 0.583974          | 19.541666       |"
       ]
      },
      {
       "html": [
        "<pre>PROGRESS: | 4         | 8100     | 3384.368563  | 0.581975          | 20.626749       |</pre>"
       ],
       "metadata": {},
       "output_type": "display_data",
       "text": [
        "PROGRESS: | 4         | 8100     | 3384.368563  | 0.581975          | 20.626749       |"
       ]
      },
      {
       "html": [
        "<pre>PROGRESS: | 4         | 8300     | 3394.398103  | 0.580602          | 19.941092       |</pre>"
       ],
       "metadata": {},
       "output_type": "display_data",
       "text": [
        "PROGRESS: | 4         | 8300     | 3394.398103  | 0.580602          | 19.941092       |"
       ]
      },
      {
       "html": [
        "<pre>PROGRESS: | 4         | 8500     | 3404.528576  | 0.580471          | 19.742422       |</pre>"
       ],
       "metadata": {},
       "output_type": "display_data",
       "text": [
        "PROGRESS: | 4         | 8500     | 3404.528576  | 0.580471          | 19.742422       |"
       ]
      },
      {
       "html": [
        "<pre>PROGRESS: | 4         | 8800     | 3419.035692  | 0.581591          | 20.679502       |</pre>"
       ],
       "metadata": {},
       "output_type": "display_data",
       "text": [
        "PROGRESS: | 4         | 8800     | 3419.035692  | 0.581591          | 20.679502       |"
       ]
      },
      {
       "html": [
        "<pre>PROGRESS: | 4         | 9100     | 3432.687029  | 0.581868          | 21.975870       |</pre>"
       ],
       "metadata": {},
       "output_type": "display_data",
       "text": [
        "PROGRESS: | 4         | 9100     | 3432.687029  | 0.581868          | 21.975870       |"
       ]
      },
      {
       "html": [
        "<pre>PROGRESS: | 4         | 9400     | 3446.366833  | 0.581277          | 21.930138       |</pre>"
       ],
       "metadata": {},
       "output_type": "display_data",
       "text": [
        "PROGRESS: | 4         | 9400     | 3446.366833  | 0.581277          | 21.930138       |"
       ]
      },
      {
       "html": [
        "<pre>PROGRESS: | 4         | 9700     | 3460.679354  | 0.580928          | 20.960665       |</pre>"
       ],
       "metadata": {},
       "output_type": "display_data",
       "text": [
        "PROGRESS: | 4         | 9700     | 3460.679354  | 0.580928          | 20.960665       |"
       ]
      },
      {
       "html": [
        "<pre>PROGRESS: | 4         | 10000    | 3474.601752  | 0.580800          | 21.548016       |</pre>"
       ],
       "metadata": {},
       "output_type": "display_data",
       "text": [
        "PROGRESS: | 4         | 10000    | 3474.601752  | 0.580800          | 21.548016       |"
       ]
      },
      {
       "html": [
        "<pre>PROGRESS: | 4         | 10300    | 3488.320835  | 0.579612          | 21.867353       |</pre>"
       ],
       "metadata": {},
       "output_type": "display_data",
       "text": [
        "PROGRESS: | 4         | 10300    | 3488.320835  | 0.579612          | 21.867353       |"
       ]
      },
      {
       "html": [
        "<pre>PROGRESS: | 4         | 10600    | 3502.532335  | 0.580000          | 21.109669       |</pre>"
       ],
       "metadata": {},
       "output_type": "display_data",
       "text": [
        "PROGRESS: | 4         | 10600    | 3502.532335  | 0.580000          | 21.109669       |"
       ]
      },
      {
       "html": [
        "<pre>PROGRESS: | 4         | 10900    | 3516.178145  | 0.579817          | 21.984762       |</pre>"
       ],
       "metadata": {},
       "output_type": "display_data",
       "text": [
        "PROGRESS: | 4         | 10900    | 3516.178145  | 0.579817          | 21.984762       |"
       ]
      },
      {
       "html": [
        "<pre>PROGRESS: | 4         | 11200    | 3530.049457  | 0.578125          | 21.627369       |</pre>"
       ],
       "metadata": {},
       "output_type": "display_data",
       "text": [
        "PROGRESS: | 4         | 11200    | 3530.049457  | 0.578125          | 21.627369       |"
       ]
      },
      {
       "html": [
        "<pre>PROGRESS: | 4         | 11500    | 3544.243383  | 0.579652          | 21.135801       |</pre>"
       ],
       "metadata": {},
       "output_type": "display_data",
       "text": [
        "PROGRESS: | 4         | 11500    | 3544.243383  | 0.579652          | 21.135801       |"
       ]
      },
      {
       "html": [
        "<pre>PROGRESS: | 4         | 11700    | 3559.010245  | 0.579316          | 13.543845       |</pre>"
       ],
       "metadata": {},
       "output_type": "display_data",
       "text": [
        "PROGRESS: | 4         | 11700    | 3559.010245  | 0.579316          | 13.543845       |"
       ]
      },
      {
       "html": [
        "<pre>PROGRESS: | 4         | 12000    | 3573.376047  | 0.578500          | 20.882919       |</pre>"
       ],
       "metadata": {},
       "output_type": "display_data",
       "text": [
        "PROGRESS: | 4         | 12000    | 3573.376047  | 0.578500          | 20.882919       |"
       ]
      },
      {
       "html": [
        "<pre>PROGRESS: | 4         | 12300    | 3586.266974  | 0.578455          | 23.272181       |</pre>"
       ],
       "metadata": {},
       "output_type": "display_data",
       "text": [
        "PROGRESS: | 4         | 12300    | 3586.266974  | 0.578455          | 23.272181       |"
       ]
      },
      {
       "html": [
        "<pre>PROGRESS: | 4         | 12600    | 3599.064813  | 0.577619          | 23.441463       |</pre>"
       ],
       "metadata": {},
       "output_type": "display_data",
       "text": [
        "PROGRESS: | 4         | 12600    | 3599.064813  | 0.577619          | 23.441463       |"
       ]
      },
      {
       "html": [
        "<pre>PROGRESS: | 4         | 12900    | 3612.290328  | 0.577597          | 22.683422       |</pre>"
       ],
       "metadata": {},
       "output_type": "display_data",
       "text": [
        "PROGRESS: | 4         | 12900    | 3612.290328  | 0.577597          | 22.683422       |"
       ]
      },
      {
       "html": [
        "<pre>PROGRESS: | 4         | 13200    | 3625.116212  | 0.577197          | 23.405350       |</pre>"
       ],
       "metadata": {},
       "output_type": "display_data",
       "text": [
        "PROGRESS: | 4         | 13200    | 3625.116212  | 0.577197          | 23.405350       |"
       ]
      },
      {
       "html": [
        "<pre>PROGRESS: | 4         | 13500    | 3638.041988  | 0.577407          | 23.194548       |</pre>"
       ],
       "metadata": {},
       "output_type": "display_data",
       "text": [
        "PROGRESS: | 4         | 13500    | 3638.041988  | 0.577407          | 23.194548       |"
       ]
      },
      {
       "html": [
        "<pre>PROGRESS: | 4         | 13800    | 3651.580822  | 0.576232          | 22.158474       |</pre>"
       ],
       "metadata": {},
       "output_type": "display_data",
       "text": [
        "PROGRESS: | 4         | 13800    | 3651.580822  | 0.576232          | 22.158474       |"
       ]
      },
      {
       "html": [
        "<pre>PROGRESS: | 4         | 14100    | 3664.069289  | 0.576241          | 24.022163       |</pre>"
       ],
       "metadata": {},
       "output_type": "display_data",
       "text": [
        "PROGRESS: | 4         | 14100    | 3664.069289  | 0.576241          | 24.022163       |"
       ]
      },
      {
       "html": [
        "<pre>PROGRESS: | 4         | 14400    | 3677.113008  | 0.576806          | 22.999575       |</pre>"
       ],
       "metadata": {},
       "output_type": "display_data",
       "text": [
        "PROGRESS: | 4         | 14400    | 3677.113008  | 0.576806          | 22.999575       |"
       ]
      },
      {
       "html": [
        "<pre>PROGRESS: | 4         | 14700    | 3690.183883  | 0.577891          | 22.951794       |</pre>"
       ],
       "metadata": {},
       "output_type": "display_data",
       "text": [
        "PROGRESS: | 4         | 14700    | 3690.183883  | 0.577891          | 22.951794       |"
       ]
      },
      {
       "html": [
        "<pre>PROGRESS: | 4         | 15000    | 3702.901597  | 0.577533          | 23.589144       |</pre>"
       ],
       "metadata": {},
       "output_type": "display_data",
       "text": [
        "PROGRESS: | 4         | 15000    | 3702.901597  | 0.577533          | 23.589144       |"
       ]
      },
      {
       "html": [
        "<pre>PROGRESS: | 4         | 15300    | 3715.749189  | 0.576863          | 23.350683       |</pre>"
       ],
       "metadata": {},
       "output_type": "display_data",
       "text": [
        "PROGRESS: | 4         | 15300    | 3715.749189  | 0.576863          | 23.350683       |"
       ]
      },
      {
       "html": [
        "<pre>PROGRESS: | 4         | 15600    | 3728.907100  | 0.575769          | 22.799973       |</pre>"
       ],
       "metadata": {},
       "output_type": "display_data",
       "text": [
        "PROGRESS: | 4         | 15600    | 3728.907100  | 0.575769          | 22.799973       |"
       ]
      },
      {
       "html": [
        "<pre>PROGRESS: | 4         | 15900    | 3741.472229  | 0.574654          | 23.875599       |</pre>"
       ],
       "metadata": {},
       "output_type": "display_data",
       "text": [
        "PROGRESS: | 4         | 15900    | 3741.472229  | 0.574654          | 23.875599       |"
       ]
      },
      {
       "html": [
        "<pre>PROGRESS: | 4         | 16200    | 3754.280266  | 0.574691          | 23.422796       |</pre>"
       ],
       "metadata": {},
       "output_type": "display_data",
       "text": [
        "PROGRESS: | 4         | 16200    | 3754.280266  | 0.574691          | 23.422796       |"
       ]
      },
      {
       "html": [
        "<pre>PROGRESS: | 4         | 16500    | 3767.771243  | 0.573939          | 22.237080       |</pre>"
       ],
       "metadata": {},
       "output_type": "display_data",
       "text": [
        "PROGRESS: | 4         | 16500    | 3767.771243  | 0.573939          | 22.237080       |"
       ]
      },
      {
       "html": [
        "<pre>PROGRESS: | 4         | 16800    | 3780.578623  | 0.573988          | 23.423992       |</pre>"
       ],
       "metadata": {},
       "output_type": "display_data",
       "text": [
        "PROGRESS: | 4         | 16800    | 3780.578623  | 0.573988          | 23.423992       |"
       ]
      },
      {
       "html": [
        "<pre>PROGRESS: | 4         | 17100    | 3793.286418  | 0.573392          | 23.607557       |</pre>"
       ],
       "metadata": {},
       "output_type": "display_data",
       "text": [
        "PROGRESS: | 4         | 17100    | 3793.286418  | 0.573392          | 23.607557       |"
       ]
      },
      {
       "html": [
        "<pre>PROGRESS: | 4         | 17400    | 3806.355459  | 0.573161          | 22.955015       |</pre>"
       ],
       "metadata": {},
       "output_type": "display_data",
       "text": [
        "PROGRESS: | 4         | 17400    | 3806.355459  | 0.573161          | 22.955015       |"
       ]
      },
      {
       "html": [
        "<pre>PROGRESS: | 4         | 17700    | 3819.111361  | 0.573051          | 23.518524       |</pre>"
       ],
       "metadata": {},
       "output_type": "display_data",
       "text": [
        "PROGRESS: | 4         | 17700    | 3819.111361  | 0.573051          | 23.518524       |"
       ]
      },
      {
       "html": [
        "<pre>PROGRESS: | 4         | 18000    | 3832.047153  | 0.571778          | 23.191471       |</pre>"
       ],
       "metadata": {},
       "output_type": "display_data",
       "text": [
        "PROGRESS: | 4         | 18000    | 3832.047153  | 0.571778          | 23.191471       |"
       ]
      },
      {
       "html": [
        "<pre>PROGRESS: | 4         | 18300    | 3845.317118  | 0.571093          | 22.607441       |</pre>"
       ],
       "metadata": {},
       "output_type": "display_data",
       "text": [
        "PROGRESS: | 4         | 18300    | 3845.317118  | 0.571093          | 22.607441       |"
       ]
      },
      {
       "html": [
        "<pre>PROGRESS: | 4         | 18600    | 3857.877420  | 0.571129          | 23.884779       |</pre>"
       ],
       "metadata": {},
       "output_type": "display_data",
       "text": [
        "PROGRESS: | 4         | 18600    | 3857.877420  | 0.571129          | 23.884779       |"
       ]
      },
      {
       "html": [
        "<pre>PROGRESS: | 4         | 18900    | 3871.145693  | 0.571111          | 22.610327       |</pre>"
       ],
       "metadata": {},
       "output_type": "display_data",
       "text": [
        "PROGRESS: | 4         | 18900    | 3871.145693  | 0.571111          | 22.610327       |"
       ]
      },
      {
       "html": [
        "<pre>PROGRESS: | 4         | 19200    | 3883.707073  | 0.571927          | 23.882729       |</pre>"
       ],
       "metadata": {},
       "output_type": "display_data",
       "text": [
        "PROGRESS: | 4         | 19200    | 3883.707073  | 0.571927          | 23.882729       |"
       ]
      },
      {
       "html": [
        "<pre>PROGRESS: | 4         | 19500    | 3896.448669  | 0.573436          | 23.544928       |</pre>"
       ],
       "metadata": {},
       "output_type": "display_data",
       "text": [
        "PROGRESS: | 4         | 19500    | 3896.448669  | 0.573436          | 23.544928       |"
       ]
      },
      {
       "html": [
        "<pre>PROGRESS: | 4         | 19800    | 3909.576016  | 0.574444          | 22.853060       |</pre>"
       ],
       "metadata": {},
       "output_type": "display_data",
       "text": [
        "PROGRESS: | 4         | 19800    | 3909.576016  | 0.574444          | 22.853060       |"
       ]
      },
      {
       "html": [
        "<pre>PROGRESS: | 4         | 20100    | 3922.251048  | 0.575522          | 23.668581       |</pre>"
       ],
       "metadata": {},
       "output_type": "display_data",
       "text": [
        "PROGRESS: | 4         | 20100    | 3922.251048  | 0.575522          | 23.668581       |"
       ]
      },
      {
       "html": [
        "<pre>PROGRESS: | 4         | 20100    | 3922.251223  | 0.575522          | 23.668581       |</pre>"
       ],
       "metadata": {},
       "output_type": "display_data",
       "text": [
        "PROGRESS: | 4         | 20100    | 3922.251223  | 0.575522          | 23.668581       |"
       ]
      },
      {
       "html": [
        "<pre>PROGRESS: | 5         | 300      | 3935.035733  | 0.646667          | 23.486897       |</pre>"
       ],
       "metadata": {},
       "output_type": "display_data",
       "text": [
        "PROGRESS: | 5         | 300      | 3935.035733  | 0.646667          | 23.486897       |"
       ]
      },
      {
       "html": [
        "<pre>PROGRESS: | 5         | 600      | 3948.423179  | 0.623333          | 22.409052       |</pre>"
       ],
       "metadata": {},
       "output_type": "display_data",
       "text": [
        "PROGRESS: | 5         | 600      | 3948.423179  | 0.623333          | 22.409052       |"
       ]
      },
      {
       "html": [
        "<pre>PROGRESS: | 5         | 900      | 3961.172240  | 0.605556          | 23.531147       |</pre>"
       ],
       "metadata": {},
       "output_type": "display_data",
       "text": [
        "PROGRESS: | 5         | 900      | 3961.172240  | 0.605556          | 23.531147       |"
       ]
      },
      {
       "html": [
        "<pre>PROGRESS: | 5         | 1200     | 3973.850737  | 0.599167          | 23.662113       |</pre>"
       ],
       "metadata": {},
       "output_type": "display_data",
       "text": [
        "PROGRESS: | 5         | 1200     | 3973.850737  | 0.599167          | 23.662113       |"
       ]
      },
      {
       "html": [
        "<pre>PROGRESS: | 5         | 1500     | 3987.004098  | 0.600000          | 22.807859       |</pre>"
       ],
       "metadata": {},
       "output_type": "display_data",
       "text": [
        "PROGRESS: | 5         | 1500     | 3987.004098  | 0.600000          | 22.807859       |"
       ]
      },
      {
       "html": [
        "<pre>PROGRESS: | 5         | 1800     | 3999.839646  | 0.607778          | 23.372583       |</pre>"
       ],
       "metadata": {},
       "output_type": "display_data",
       "text": [
        "PROGRESS: | 5         | 1800     | 3999.839646  | 0.607778          | 23.372583       |"
       ]
      },
      {
       "html": [
        "<pre>PROGRESS: | 5         | 2100     | 4012.576991  | 0.612381          | 23.552794       |</pre>"
       ],
       "metadata": {},
       "output_type": "display_data",
       "text": [
        "PROGRESS: | 5         | 2100     | 4012.576991  | 0.612381          | 23.552794       |"
       ]
      },
      {
       "html": [
        "<pre>PROGRESS: | 5         | 2400     | 4026.322055  | 0.615417          | 21.826019       |</pre>"
       ],
       "metadata": {},
       "output_type": "display_data",
       "text": [
        "PROGRESS: | 5         | 2400     | 4026.322055  | 0.615417          | 21.826019       |"
       ]
      },
      {
       "html": [
        "<pre>PROGRESS: | 5         | 2600     | 7630.774448  | 0.614231          | 0.055487        |</pre>"
       ],
       "metadata": {},
       "output_type": "display_data",
       "text": [
        "PROGRESS: | 5         | 2600     | 7630.774448  | 0.614231          | 0.055487        |"
       ]
      },
      {
       "html": [
        "<pre>PROGRESS: | 5         | 2700     | 9431.833939  | 0.615185          | 0.055523        |</pre>"
       ],
       "metadata": {},
       "output_type": "display_data",
       "text": [
        "PROGRESS: | 5         | 2700     | 9431.833939  | 0.615185          | 0.055523        |"
       ]
      },
      {
       "html": [
        "<pre>PROGRESS: | 5         | 3000     | 9445.716267  | 0.613333          | 21.610203       |</pre>"
       ],
       "metadata": {},
       "output_type": "display_data",
       "text": [
        "PROGRESS: | 5         | 3000     | 9445.716267  | 0.613333          | 21.610203       |"
       ]
      },
      {
       "html": [
        "<pre>PROGRESS: | 5         | 3300     | 9459.759071  | 0.607879          | 21.363256       |</pre>"
       ],
       "metadata": {},
       "output_type": "display_data",
       "text": [
        "PROGRESS: | 5         | 3300     | 9459.759071  | 0.607879          | 21.363256       |"
       ]
      },
      {
       "html": [
        "<pre>PROGRESS: | 5         | 3600     | 9472.897126  | 0.604722          | 22.834429       |</pre>"
       ],
       "metadata": {},
       "output_type": "display_data",
       "text": [
        "PROGRESS: | 5         | 3600     | 9472.897126  | 0.604722          | 22.834429       |"
       ]
      },
      {
       "html": [
        "<pre>PROGRESS: | 5         | 3900     | 9485.652531  | 0.606410          | 23.519442       |</pre>"
       ],
       "metadata": {},
       "output_type": "display_data",
       "text": [
        "PROGRESS: | 5         | 3900     | 9485.652531  | 0.606410          | 23.519442       |"
       ]
      },
      {
       "html": [
        "<pre>PROGRESS: | 5         | 4200     | 15975.943248 | 0.604048          | 0.046223        |</pre>"
       ],
       "metadata": {},
       "output_type": "display_data",
       "text": [
        "PROGRESS: | 5         | 4200     | 15975.943248 | 0.604048          | 0.046223        |"
       ]
      },
      {
       "html": [
        "<pre>PROGRESS: | 5         | 4500     | 15989.724890 | 0.604889          | 21.768087       |</pre>"
       ],
       "metadata": {},
       "output_type": "display_data",
       "text": [
        "PROGRESS: | 5         | 4500     | 15989.724890 | 0.604889          | 21.768087       |"
       ]
      },
      {
       "html": [
        "<pre>PROGRESS: | 5         | 4800     | 16003.663470 | 0.608542          | 21.522997       |</pre>"
       ],
       "metadata": {},
       "output_type": "display_data",
       "text": [
        "PROGRESS: | 5         | 4800     | 16003.663470 | 0.608542          | 21.522997       |"
       ]
      },
      {
       "html": [
        "<pre>PROGRESS: | 5         | 5100     | 16016.919129 | 0.609804          | 22.631844       |</pre>"
       ],
       "metadata": {},
       "output_type": "display_data",
       "text": [
        "PROGRESS: | 5         | 5100     | 16016.919129 | 0.609804          | 22.631844       |"
       ]
      },
      {
       "html": [
        "<pre>PROGRESS: | 5         | 5200     | 22496.235424 | 0.611923          | 0.015434        |</pre>"
       ],
       "metadata": {},
       "output_type": "display_data",
       "text": [
        "PROGRESS: | 5         | 5200     | 22496.235424 | 0.611923          | 0.015434        |"
       ]
      },
      {
       "html": [
        "<pre>PROGRESS: | 5         | 5500     | 22510.409620 | 0.614909          | 21.165222       |</pre>"
       ],
       "metadata": {},
       "output_type": "display_data",
       "text": [
        "PROGRESS: | 5         | 5500     | 22510.409620 | 0.614909          | 21.165222       |"
       ]
      },
      {
       "html": [
        "<pre>PROGRESS: | 5         | 5800     | 22524.317371 | 0.617069          | 21.570705       |</pre>"
       ],
       "metadata": {},
       "output_type": "display_data",
       "text": [
        "PROGRESS: | 5         | 5800     | 22524.317371 | 0.617069          | 21.570705       |"
       ]
      },
      {
       "html": [
        "<pre>PROGRESS: | 5         | 6100     | 22538.242243 | 0.617049          | 21.544188       |</pre>"
       ],
       "metadata": {},
       "output_type": "display_data",
       "text": [
        "PROGRESS: | 5         | 6100     | 22538.242243 | 0.617049          | 21.544188       |"
       ]
      },
      {
       "html": [
        "<pre>PROGRESS: | 5         | 6400     | 29027.197346 | 0.615937          | 0.046232        |</pre>"
       ],
       "metadata": {},
       "output_type": "display_data",
       "text": [
        "PROGRESS: | 5         | 6400     | 29027.197346 | 0.615937          | 0.046232        |"
       ]
      },
      {
       "html": [
        "<pre>PROGRESS: | 5         | 6700     | 29040.730787 | 0.612687          | 22.167309       |</pre>"
       ],
       "metadata": {},
       "output_type": "display_data",
       "text": [
        "PROGRESS: | 5         | 6700     | 29040.730787 | 0.612687          | 22.167309       |"
       ]
      },
      {
       "html": [
        "<pre>PROGRESS: | 5         | 7000     | 29054.754260 | 0.612429          | 21.392708       |</pre>"
       ],
       "metadata": {},
       "output_type": "display_data",
       "text": [
        "PROGRESS: | 5         | 7000     | 29054.754260 | 0.612429          | 21.392708       |"
       ]
      },
      {
       "html": [
        "<pre>PROGRESS: | 5         | 7300     | 29067.383994 | 0.609863          | 23.753473       |</pre>"
       ],
       "metadata": {},
       "output_type": "display_data",
       "text": [
        "PROGRESS: | 5         | 7300     | 29067.383994 | 0.609863          | 23.753473       |"
       ]
      },
      {
       "html": [
        "<pre>PROGRESS: | 5         | 7600     | 34474.730510 | 0.611974          | 0.055480        |</pre>"
       ],
       "metadata": {},
       "output_type": "display_data",
       "text": [
        "PROGRESS: | 5         | 7600     | 34474.730510 | 0.611974          | 0.055480        |"
       ]
      },
      {
       "html": [
        "<pre>PROGRESS: | 5         | 7900     | 34488.774825 | 0.611772          | 21.360958       |</pre>"
       ],
       "metadata": {},
       "output_type": "display_data",
       "text": [
        "PROGRESS: | 5         | 7900     | 34488.774825 | 0.611772          | 21.360958       |"
       ]
      },
      {
       "html": [
        "<pre>PROGRESS: | 5         | 8200     | 34502.482760 | 0.612683          | 21.885134       |</pre>"
       ],
       "metadata": {},
       "output_type": "display_data",
       "text": [
        "PROGRESS: | 5         | 8200     | 34502.482760 | 0.612683          | 21.885134       |"
       ]
      },
      {
       "html": [
        "<pre>PROGRESS: | 5         | 8500     | 34515.407829 | 0.613412          | 23.210711       |</pre>"
       ],
       "metadata": {},
       "output_type": "display_data",
       "text": [
        "PROGRESS: | 5         | 8500     | 34515.407829 | 0.613412          | 23.210711       |"
       ]
      },
      {
       "html": [
        "<pre>PROGRESS: | 5         | 8700     | 38118.607844 | 0.612299          | 0.055506        |</pre>"
       ],
       "metadata": {},
       "output_type": "display_data",
       "text": [
        "PROGRESS: | 5         | 8700     | 38118.607844 | 0.612299          | 0.055506        |"
       ]
      },
      {
       "html": [
        "<pre>PROGRESS: | 5         | 9000     | 38131.913149 | 0.611556          | 22.547400       |</pre>"
       ],
       "metadata": {},
       "output_type": "display_data",
       "text": [
        "PROGRESS: | 5         | 9000     | 38131.913149 | 0.611556          | 22.547400       |"
       ]
      },
      {
       "html": [
        "<pre>PROGRESS: | 5         | 9300     | 38145.813740 | 0.610645          | 21.581814       |</pre>"
       ],
       "metadata": {},
       "output_type": "display_data",
       "text": [
        "PROGRESS: | 5         | 9300     | 38145.813740 | 0.610645          | 21.581814       |"
       ]
      },
      {
       "html": [
        "<pre>PROGRESS: | 5         | 9600     | 38158.723042 | 0.609375          | 23.239058       |</pre>"
       ],
       "metadata": {},
       "output_type": "display_data",
       "text": [
        "PROGRESS: | 5         | 9600     | 38158.723042 | 0.609375          | 23.239058       |"
       ]
      },
      {
       "html": [
        "<pre>PROGRESS: | 5         | 9800     | 40507.762702 | 0.608673          | 0.085141        |</pre>"
       ],
       "metadata": {},
       "output_type": "display_data",
       "text": [
        "PROGRESS: | 5         | 9800     | 40507.762702 | 0.608673          | 0.085141        |"
       ]
      },
      {
       "html": [
        "<pre>PROGRESS: | 5         | 10000    | 40523.595444 | 0.608700          | 12.632064       |</pre>"
       ],
       "metadata": {},
       "output_type": "display_data",
       "text": [
        "PROGRESS: | 5         | 10000    | 40523.595444 | 0.608700          | 12.632064       |"
       ]
      },
      {
       "html": [
        "<pre>PROGRESS: | 5         | 10100    | 40538.431049 | 0.608515          | 6.740551        |</pre>"
       ],
       "metadata": {},
       "output_type": "display_data",
       "text": [
        "PROGRESS: | 5         | 10100    | 40538.431049 | 0.608515          | 6.740551        |"
       ]
      },
      {
       "html": [
        "<pre>PROGRESS: | 5         | 10300    | 40549.714729 | 0.607476          | 17.724651       |</pre>"
       ],
       "metadata": {},
       "output_type": "display_data",
       "text": [
        "PROGRESS: | 5         | 10300    | 40549.714729 | 0.607476          | 17.724651       |"
       ]
      },
      {
       "html": [
        "<pre>PROGRESS: | 5         | 10500    | 40560.682993 | 0.606762          | 18.234468       |</pre>"
       ],
       "metadata": {},
       "output_type": "display_data",
       "text": [
        "PROGRESS: | 5         | 10500    | 40560.682993 | 0.606762          | 18.234468       |"
       ]
      },
      {
       "html": [
        "<pre>PROGRESS: | 5         | 10700    | 40571.083229 | 0.606075          | 19.230286       |</pre>"
       ],
       "metadata": {},
       "output_type": "display_data",
       "text": [
        "PROGRESS: | 5         | 10700    | 40571.083229 | 0.606075          | 19.230286       |"
       ]
      },
      {
       "html": [
        "<pre>PROGRESS: | 5         | 11000    | 40585.913562 | 0.605818          | 20.228811       |</pre>"
       ],
       "metadata": {},
       "output_type": "display_data",
       "text": [
        "PROGRESS: | 5         | 11000    | 40585.913562 | 0.605818          | 20.228811       |"
       ]
      },
      {
       "html": [
        "<pre>PROGRESS: | 5         | 11300    | 40601.060908 | 0.604867          | 19.805450       |</pre>"
       ],
       "metadata": {},
       "output_type": "display_data",
       "text": [
        "PROGRESS: | 5         | 11300    | 40601.060908 | 0.604867          | 19.805450       |"
       ]
      },
      {
       "html": [
        "<pre>PROGRESS: | 5         | 11500    | 40612.312912 | 0.604087          | 17.774612       |</pre>"
       ],
       "metadata": {},
       "output_type": "display_data",
       "text": [
        "PROGRESS: | 5         | 11500    | 40612.312912 | 0.604087          | 17.774612       |"
       ]
      },
      {
       "html": [
        "<pre>PROGRESS: | 5         | 11700    | 40623.953943 | 0.604786          | 17.182846       |</pre>"
       ],
       "metadata": {},
       "output_type": "display_data",
       "text": [
        "PROGRESS: | 5         | 11700    | 40623.953943 | 0.604786          | 17.182846       |"
       ]
      },
      {
       "html": [
        "<pre>PROGRESS: | 5         | 11900    | 40637.694700 | 0.604958          | 14.553638       |</pre>"
       ],
       "metadata": {},
       "output_type": "display_data",
       "text": [
        "PROGRESS: | 5         | 11900    | 40637.694700 | 0.604958          | 14.553638       |"
       ]
      },
      {
       "html": [
        "<pre>PROGRESS: | 5         | 12100    | 40649.126254 | 0.605041          | 17.495430       |</pre>"
       ],
       "metadata": {},
       "output_type": "display_data",
       "text": [
        "PROGRESS: | 5         | 12100    | 40649.126254 | 0.605041          | 17.495430       |"
       ]
      },
      {
       "html": [
        "<pre>PROGRESS: | 5         | 12300    | 40659.418627 | 0.605366          | 19.431866       |</pre>"
       ],
       "metadata": {},
       "output_type": "display_data",
       "text": [
        "PROGRESS: | 5         | 12300    | 40659.418627 | 0.605366          | 19.431866       |"
       ]
      },
      {
       "html": [
        "<pre>PROGRESS: | 5         | 12500    | 40669.776420 | 0.605200          | 19.309130       |</pre>"
       ],
       "metadata": {},
       "output_type": "display_data",
       "text": [
        "PROGRESS: | 5         | 12500    | 40669.776420 | 0.605200          | 19.309130       |"
       ]
      },
      {
       "html": [
        "<pre>PROGRESS: | 5         | 12800    | 40684.546027 | 0.604609          | 20.311983       |</pre>"
       ],
       "metadata": {},
       "output_type": "display_data",
       "text": [
        "PROGRESS: | 5         | 12800    | 40684.546027 | 0.604609          | 20.311983       |"
       ]
      },
      {
       "html": [
        "<pre>PROGRESS: | 5         | 13100    | 40699.139006 | 0.603893          | 20.557833       |</pre>"
       ],
       "metadata": {},
       "output_type": "display_data",
       "text": [
        "PROGRESS: | 5         | 13100    | 40699.139006 | 0.603893          | 20.557833       |"
       ]
      },
      {
       "html": [
        "<pre>PROGRESS: | 5         | 13300    | 40710.276740 | 0.603308          | 17.956972       |</pre>"
       ],
       "metadata": {},
       "output_type": "display_data",
       "text": [
        "PROGRESS: | 5         | 13300    | 40710.276740 | 0.603308          | 17.956972       |"
       ]
      },
      {
       "html": [
        "<pre>PROGRESS: | 5         | 13500    | 40720.426728 | 0.601926          | 19.704460       |</pre>"
       ],
       "metadata": {},
       "output_type": "display_data",
       "text": [
        "PROGRESS: | 5         | 13500    | 40720.426728 | 0.601926          | 19.704460       |"
       ]
      },
      {
       "html": [
        "<pre>PROGRESS: | 5         | 13700    | 40730.809987 | 0.601898          | 19.261770       |</pre>"
       ],
       "metadata": {},
       "output_type": "display_data",
       "text": [
        "PROGRESS: | 5         | 13700    | 40730.809987 | 0.601898          | 19.261770       |"
       ]
      },
      {
       "html": [
        "<pre>PROGRESS: | 5         | 13900    | 40741.450492 | 0.601870          | 18.796106       |</pre>"
       ],
       "metadata": {},
       "output_type": "display_data",
       "text": [
        "PROGRESS: | 5         | 13900    | 40741.450492 | 0.601870          | 18.796106       |"
       ]
      },
      {
       "html": [
        "<pre>PROGRESS: | 5         | 14200    | 40757.122909 | 0.601901          | 19.141907       |</pre>"
       ],
       "metadata": {},
       "output_type": "display_data",
       "text": [
        "PROGRESS: | 5         | 14200    | 40757.122909 | 0.601901          | 19.141907       |"
       ]
      },
      {
       "html": [
        "<pre>PROGRESS: | 5         | 14500    | 40772.004847 | 0.600690          | 20.158667       |</pre>"
       ],
       "metadata": {},
       "output_type": "display_data",
       "text": [
        "PROGRESS: | 5         | 14500    | 40772.004847 | 0.600690          | 20.158667       |"
       ]
      },
      {
       "html": [
        "<pre>PROGRESS: | 5         | 14700    | 40782.572883 | 0.601020          | 18.924990       |</pre>"
       ],
       "metadata": {},
       "output_type": "display_data",
       "text": [
        "PROGRESS: | 5         | 14700    | 40782.572883 | 0.601020          | 18.924990       |"
       ]
      },
      {
       "html": [
        "<pre>PROGRESS: | 5         | 15000    | 40797.384736 | 0.602600          | 20.254051       |</pre>"
       ],
       "metadata": {},
       "output_type": "display_data",
       "text": [
        "PROGRESS: | 5         | 15000    | 40797.384736 | 0.602600          | 20.254051       |"
       ]
      },
      {
       "html": [
        "<pre>PROGRESS: | 5         | 15200    | 40807.452634 | 0.601842          | 19.865118       |</pre>"
       ],
       "metadata": {},
       "output_type": "display_data",
       "text": [
        "PROGRESS: | 5         | 15200    | 40807.452634 | 0.601842          | 19.865118       |"
       ]
      },
      {
       "html": [
        "<pre>PROGRESS: | 5         | 15400    | 40818.476295 | 0.602078          | 18.144787       |</pre>"
       ],
       "metadata": {},
       "output_type": "display_data",
       "text": [
        "PROGRESS: | 5         | 15400    | 40818.476295 | 0.602078          | 18.144787       |"
       ]
      },
      {
       "html": [
        "<pre>PROGRESS: | 5         | 15600    | 40829.166853 | 0.603013          | 18.705978       |</pre>"
       ],
       "metadata": {},
       "output_type": "display_data",
       "text": [
        "PROGRESS: | 5         | 15600    | 40829.166853 | 0.603013          | 18.705978       |"
       ]
      },
      {
       "html": [
        "<pre>PROGRESS: | 5         | 15900    | 40844.540142 | 0.603648          | 19.514370       |</pre>"
       ],
       "metadata": {},
       "output_type": "display_data",
       "text": [
        "PROGRESS: | 5         | 15900    | 40844.540142 | 0.603648          | 19.514370       |"
       ]
      },
      {
       "html": [
        "<pre>PROGRESS: | 5         | 16200    | 40859.985465 | 0.604136          | 19.423353       |</pre>"
       ],
       "metadata": {},
       "output_type": "display_data",
       "text": [
        "PROGRESS: | 5         | 16200    | 40859.985465 | 0.604136          | 19.423353       |"
       ]
      },
      {
       "html": [
        "<pre>PROGRESS: | 5         | 16400    | 40870.433438 | 0.604024          | 19.142475       |</pre>"
       ],
       "metadata": {},
       "output_type": "display_data",
       "text": [
        "PROGRESS: | 5         | 16400    | 40870.433438 | 0.604024          | 19.142475       |"
       ]
      },
      {
       "html": [
        "<pre>PROGRESS: | 5         | 16600    | 40881.188909 | 0.604639          | 18.595184       |</pre>"
       ],
       "metadata": {},
       "output_type": "display_data",
       "text": [
        "PROGRESS: | 5         | 16600    | 40881.188909 | 0.604639          | 18.595184       |"
       ]
      },
      {
       "html": [
        "<pre>PROGRESS: | 5         | 16800    | 40891.532695 | 0.605000          | 19.335281       |</pre>"
       ],
       "metadata": {},
       "output_type": "display_data",
       "text": [
        "PROGRESS: | 5         | 16800    | 40891.532695 | 0.605000          | 19.335281       |"
       ]
      },
      {
       "html": [
        "<pre>PROGRESS: | 5         | 17000    | 40902.154414 | 0.605412          | 18.829344       |</pre>"
       ],
       "metadata": {},
       "output_type": "display_data",
       "text": [
        "PROGRESS: | 5         | 17000    | 40902.154414 | 0.605412          | 18.829344       |"
       ]
      },
      {
       "html": [
        "<pre>PROGRESS: | 5         | 17200    | 40912.297680 | 0.605349          | 19.717508       |</pre>"
       ],
       "metadata": {},
       "output_type": "display_data",
       "text": [
        "PROGRESS: | 5         | 17200    | 40912.297680 | 0.605349          | 19.717508       |"
       ]
      },
      {
       "html": [
        "<pre>PROGRESS: | 5         | 17400    | 40922.744890 | 0.605632          | 19.143866       |</pre>"
       ],
       "metadata": {},
       "output_type": "display_data",
       "text": [
        "PROGRESS: | 5         | 17400    | 40922.744890 | 0.605632          | 19.143866       |"
       ]
      },
      {
       "html": [
        "<pre>PROGRESS: | 5         | 17700    | 40937.893235 | 0.605537          | 19.804146       |</pre>"
       ],
       "metadata": {},
       "output_type": "display_data",
       "text": [
        "PROGRESS: | 5         | 17700    | 40937.893235 | 0.605537          | 19.804146       |"
       ]
      },
      {
       "html": [
        "<pre>PROGRESS: | 5         | 17900    | 40948.432364 | 0.606089          | 18.976904       |</pre>"
       ],
       "metadata": {},
       "output_type": "display_data",
       "text": [
        "PROGRESS: | 5         | 17900    | 40948.432364 | 0.606089          | 18.976904       |"
       ]
      },
      {
       "html": [
        "<pre>PROGRESS: | 5         | 18100    | 40958.692440 | 0.606188          | 19.493032       |</pre>"
       ],
       "metadata": {},
       "output_type": "display_data",
       "text": [
        "PROGRESS: | 5         | 18100    | 40958.692440 | 0.606188          | 19.493032       |"
       ]
      },
      {
       "html": [
        "<pre>PROGRESS: | 5         | 18300    | 40969.351048 | 0.606284          | 18.764175       |</pre>"
       ],
       "metadata": {},
       "output_type": "display_data",
       "text": [
        "PROGRESS: | 5         | 18300    | 40969.351048 | 0.606284          | 18.764175       |"
       ]
      },
      {
       "html": [
        "<pre>PROGRESS: | 5         | 18500    | 40980.039140 | 0.606432          | 18.712414       |</pre>"
       ],
       "metadata": {},
       "output_type": "display_data",
       "text": [
        "PROGRESS: | 5         | 18500    | 40980.039140 | 0.606432          | 18.712414       |"
       ]
      },
      {
       "html": [
        "<pre>PROGRESS: | 5         | 18800    | 40994.662584 | 0.607021          | 20.515009       |</pre>"
       ],
       "metadata": {},
       "output_type": "display_data",
       "text": [
        "PROGRESS: | 5         | 18800    | 40994.662584 | 0.607021          | 20.515009       |"
       ]
      },
      {
       "html": [
        "<pre>PROGRESS: | 5         | 19100    | 41009.120157 | 0.607330          | 20.750368       |</pre>"
       ],
       "metadata": {},
       "output_type": "display_data",
       "text": [
        "PROGRESS: | 5         | 19100    | 41009.120157 | 0.607330          | 20.750368       |"
       ]
      },
      {
       "html": [
        "<pre>PROGRESS: | 5         | 19300    | 41019.795351 | 0.607617          | 18.735022       |</pre>"
       ],
       "metadata": {},
       "output_type": "display_data",
       "text": [
        "PROGRESS: | 5         | 19300    | 41019.795351 | 0.607617          | 18.735022       |"
       ]
      },
      {
       "html": [
        "<pre>PROGRESS: | 5         | 19500    | 41029.874797 | 0.607744          | 19.842358       |</pre>"
       ],
       "metadata": {},
       "output_type": "display_data",
       "text": [
        "PROGRESS: | 5         | 19500    | 41029.874797 | 0.607744          | 19.842358       |"
       ]
      },
      {
       "html": [
        "<pre>PROGRESS: | 5         | 19800    | 41044.872330 | 0.607828          | 20.003292       |</pre>"
       ],
       "metadata": {},
       "output_type": "display_data",
       "text": [
        "PROGRESS: | 5         | 19800    | 41044.872330 | 0.607828          | 20.003292       |"
       ]
      },
      {
       "html": [
        "<pre>PROGRESS: | 5         | 20100    | 41059.749036 | 0.608109          | 20.165754       |</pre>"
       ],
       "metadata": {},
       "output_type": "display_data",
       "text": [
        "PROGRESS: | 5         | 20100    | 41059.749036 | 0.608109          | 20.165754       |"
       ]
      },
      {
       "html": [
        "<pre>PROGRESS: | 5         | 20100    | 41059.756860 | 0.608109          | 20.165754       |</pre>"
       ],
       "metadata": {},
       "output_type": "display_data",
       "text": [
        "PROGRESS: | 5         | 20100    | 41059.756860 | 0.608109          | 20.165754       |"
       ]
      },
      {
       "html": [
        "<pre>PROGRESS: | 6         | 200      | 41069.815085 | 0.630000          | 19.889879       |</pre>"
       ],
       "metadata": {},
       "output_type": "display_data",
       "text": [
        "PROGRESS: | 6         | 200      | 41069.815085 | 0.630000          | 19.889879       |"
       ]
      },
      {
       "html": [
        "<pre>PROGRESS: | 6         | 500      | 41084.297800 | 0.652000          | 20.714333       |</pre>"
       ],
       "metadata": {},
       "output_type": "display_data",
       "text": [
        "PROGRESS: | 6         | 500      | 41084.297800 | 0.652000          | 20.714333       |"
       ]
      },
      {
       "html": [
        "<pre>PROGRESS: | 6         | 800      | 41098.417203 | 0.640000          | 21.247356       |</pre>"
       ],
       "metadata": {},
       "output_type": "display_data",
       "text": [
        "PROGRESS: | 6         | 800      | 41098.417203 | 0.640000          | 21.247356       |"
       ]
      },
      {
       "html": [
        "<pre>PROGRESS: | 6         | 1000     | 41108.938879 | 0.639000          | 19.008385       |</pre>"
       ],
       "metadata": {},
       "output_type": "display_data",
       "text": [
        "PROGRESS: | 6         | 1000     | 41108.938879 | 0.639000          | 19.008385       |"
       ]
      },
      {
       "html": [
        "<pre>PROGRESS: | 6         | 1300     | 41123.356642 | 0.631538          | 20.807671       |</pre>"
       ],
       "metadata": {},
       "output_type": "display_data",
       "text": [
        "PROGRESS: | 6         | 1300     | 41123.356642 | 0.631538          | 20.807671       |"
       ]
      },
      {
       "html": [
        "<pre>PROGRESS: | 6         | 1500     | 41133.584022 | 0.627333          | 19.555342       |</pre>"
       ],
       "metadata": {},
       "output_type": "display_data",
       "text": [
        "PROGRESS: | 6         | 1500     | 41133.584022 | 0.627333          | 19.555342       |"
       ]
      },
      {
       "html": [
        "<pre>PROGRESS: | 6         | 1800     | 41147.904542 | 0.636111          | 20.948959       |</pre>"
       ],
       "metadata": {},
       "output_type": "display_data",
       "text": [
        "PROGRESS: | 6         | 1800     | 41147.904542 | 0.636111          | 20.948959       |"
       ]
      },
      {
       "html": [
        "<pre>PROGRESS: | 6         | 2100     | 41162.588832 | 0.635714          | 20.429996       |</pre>"
       ],
       "metadata": {},
       "output_type": "display_data",
       "text": [
        "PROGRESS: | 6         | 2100     | 41162.588832 | 0.635714          | 20.429996       |"
       ]
      },
      {
       "html": [
        "<pre>PROGRESS: | 6         | 2400     | 41177.076470 | 0.637917          | 20.707315       |</pre>"
       ],
       "metadata": {},
       "output_type": "display_data",
       "text": [
        "PROGRESS: | 6         | 2400     | 41177.076470 | 0.637917          | 20.707315       |"
       ]
      },
      {
       "html": [
        "<pre>PROGRESS: | 6         | 2700     | 41191.169491 | 0.634074          | 21.287127       |</pre>"
       ],
       "metadata": {},
       "output_type": "display_data",
       "text": [
        "PROGRESS: | 6         | 2700     | 41191.169491 | 0.634074          | 21.287127       |"
       ]
      },
      {
       "html": [
        "<pre>PROGRESS: | 6         | 2900     | 41201.288446 | 0.627586          | 19.764887       |</pre>"
       ],
       "metadata": {},
       "output_type": "display_data",
       "text": [
        "PROGRESS: | 6         | 2900     | 41201.288446 | 0.627586          | 19.764887       |"
       ]
      },
      {
       "html": [
        "<pre>PROGRESS: | 6         | 3200     | 41215.508516 | 0.623750          | 21.096943       |</pre>"
       ],
       "metadata": {},
       "output_type": "display_data",
       "text": [
        "PROGRESS: | 6         | 3200     | 41215.508516 | 0.623750          | 21.096943       |"
       ]
      },
      {
       "html": [
        "<pre>PROGRESS: | 6         | 3500     | 41230.028602 | 0.621429          | 20.661036       |</pre>"
       ],
       "metadata": {},
       "output_type": "display_data",
       "text": [
        "PROGRESS: | 6         | 3500     | 41230.028602 | 0.621429          | 20.661036       |"
       ]
      },
      {
       "html": [
        "<pre>PROGRESS: | 6         | 3700     | 41240.209670 | 0.619730          | 19.644306       |</pre>"
       ],
       "metadata": {},
       "output_type": "display_data",
       "text": [
        "PROGRESS: | 6         | 3700     | 41240.209670 | 0.619730          | 19.644306       |"
       ]
      },
      {
       "html": [
        "<pre>PROGRESS: | 6         | 3900     | 41250.304690 | 0.618205          | 19.811754       |</pre>"
       ],
       "metadata": {},
       "output_type": "display_data",
       "text": [
        "PROGRESS: | 6         | 3900     | 41250.304690 | 0.618205          | 19.811754       |"
       ]
      },
      {
       "html": [
        "<pre>PROGRESS: | 6         | 4100     | 41260.351482 | 0.613171          | 19.906843       |</pre>"
       ],
       "metadata": {},
       "output_type": "display_data",
       "text": [
        "PROGRESS: | 6         | 4100     | 41260.351482 | 0.613171          | 19.906843       |"
       ]
      },
      {
       "html": [
        "<pre>PROGRESS: | 6         | 4400     | 41274.658969 | 0.610682          | 20.968046       |</pre>"
       ],
       "metadata": {},
       "output_type": "display_data",
       "text": [
        "PROGRESS: | 6         | 4400     | 41274.658969 | 0.610682          | 20.968046       |"
       ]
      },
      {
       "html": [
        "<pre>PROGRESS: | 6         | 4600     | 41285.305194 | 0.609130          | 18.785995       |</pre>"
       ],
       "metadata": {},
       "output_type": "display_data",
       "text": [
        "PROGRESS: | 6         | 4600     | 41285.305194 | 0.609130          | 18.785995       |"
       ]
      },
      {
       "html": [
        "<pre>PROGRESS: | 6         | 4800     | 41296.703746 | 0.610417          | 17.546097       |</pre>"
       ],
       "metadata": {},
       "output_type": "display_data",
       "text": [
        "PROGRESS: | 6         | 4800     | 41296.703746 | 0.610417          | 17.546097       |"
       ]
      },
      {
       "html": [
        "<pre>PROGRESS: | 6         | 5000     | 41306.742054 | 0.611200          | 19.923670       |</pre>"
       ],
       "metadata": {},
       "output_type": "display_data",
       "text": [
        "PROGRESS: | 6         | 5000     | 41306.742054 | 0.611200          | 19.923670       |"
       ]
      },
      {
       "html": [
        "<pre>PROGRESS: | 6         | 5200     | 41317.218715 | 0.614038          | 19.090052       |</pre>"
       ],
       "metadata": {},
       "output_type": "display_data",
       "text": [
        "PROGRESS: | 6         | 5200     | 41317.218715 | 0.614038          | 19.090052       |"
       ]
      },
      {
       "html": [
        "<pre>PROGRESS: | 6         | 5400     | 41327.321543 | 0.615185          | 19.796436       |</pre>"
       ],
       "metadata": {},
       "output_type": "display_data",
       "text": [
        "PROGRESS: | 6         | 5400     | 41327.321543 | 0.615185          | 19.796436       |"
       ]
      },
      {
       "html": [
        "<pre>PROGRESS: | 6         | 5600     | 41337.805545 | 0.618929          | 19.076681       |</pre>"
       ],
       "metadata": {},
       "output_type": "display_data",
       "text": [
        "PROGRESS: | 6         | 5600     | 41337.805545 | 0.618929          | 19.076681       |"
       ]
      },
      {
       "html": [
        "<pre>PROGRESS: | 6         | 5900     | 41352.234236 | 0.620000          | 20.791906       |</pre>"
       ],
       "metadata": {},
       "output_type": "display_data",
       "text": [
        "PROGRESS: | 6         | 5900     | 41352.234236 | 0.620000          | 20.791906       |"
       ]
      },
      {
       "html": [
        "<pre>PROGRESS: | 6         | 6100     | 41362.614293 | 0.619836          | 19.267714       |</pre>"
       ],
       "metadata": {},
       "output_type": "display_data",
       "text": [
        "PROGRESS: | 6         | 6100     | 41362.614293 | 0.619836          | 19.267714       |"
       ]
      },
      {
       "html": [
        "<pre>PROGRESS: | 6         | 6400     | 41376.986303 | 0.620313          | 20.873911       |</pre>"
       ],
       "metadata": {},
       "output_type": "display_data",
       "text": [
        "PROGRESS: | 6         | 6400     | 41376.986303 | 0.620313          | 20.873911       |"
       ]
      },
      {
       "html": [
        "<pre>PROGRESS: | 6         | 6600     | 41387.147507 | 0.619848          | 19.682709       |</pre>"
       ],
       "metadata": {},
       "output_type": "display_data",
       "text": [
        "PROGRESS: | 6         | 6600     | 41387.147507 | 0.619848          | 19.682709       |"
       ]
      },
      {
       "html": [
        "<pre>PROGRESS: | 6         | 6900     | 41402.306821 | 0.621449          | 19.789812       |</pre>"
       ],
       "metadata": {},
       "output_type": "display_data",
       "text": [
        "PROGRESS: | 6         | 6900     | 41402.306821 | 0.621449          | 19.789812       |"
       ]
      },
      {
       "html": [
        "<pre>PROGRESS: | 6         | 7100     | 41412.520487 | 0.620845          | 19.581610       |</pre>"
       ],
       "metadata": {},
       "output_type": "display_data",
       "text": [
        "PROGRESS: | 6         | 7100     | 41412.520487 | 0.620845          | 19.581610       |"
       ]
      },
      {
       "html": [
        "<pre>PROGRESS: | 6         | 7400     | 41427.256720 | 0.621622          | 20.357983       |</pre>"
       ],
       "metadata": {},
       "output_type": "display_data",
       "text": [
        "PROGRESS: | 6         | 7400     | 41427.256720 | 0.621622          | 20.357983       |"
       ]
      },
      {
       "html": [
        "<pre>PROGRESS: | 6         | 7600     | 41437.356035 | 0.621184          | 19.803326       |</pre>"
       ],
       "metadata": {},
       "output_type": "display_data",
       "text": [
        "PROGRESS: | 6         | 7600     | 41437.356035 | 0.621184          | 19.803326       |"
       ]
      },
      {
       "html": [
        "<pre>PROGRESS: | 6         | 7800     | 41447.639617 | 0.619872          | 19.448475       |</pre>"
       ],
       "metadata": {},
       "output_type": "display_data",
       "text": [
        "PROGRESS: | 6         | 7800     | 41447.639617 | 0.619872          | 19.448475       |"
       ]
      },
      {
       "html": [
        "<pre>PROGRESS: | 6         | 8100     | 41462.110910 | 0.620000          | 20.730698       |</pre>"
       ],
       "metadata": {},
       "output_type": "display_data",
       "text": [
        "PROGRESS: | 6         | 8100     | 41462.110910 | 0.620000          | 20.730698       |"
       ]
      },
      {
       "html": [
        "<pre>PROGRESS: | 6         | 8400     | 41477.017591 | 0.619643          | 20.125204       |</pre>"
       ],
       "metadata": {},
       "output_type": "display_data",
       "text": [
        "PROGRESS: | 6         | 8400     | 41477.017591 | 0.619643          | 20.125204       |"
       ]
      },
      {
       "html": [
        "<pre>PROGRESS: | 6         | 8700     | 41491.681322 | 0.619770          | 20.458641       |</pre>"
       ],
       "metadata": {},
       "output_type": "display_data",
       "text": [
        "PROGRESS: | 6         | 8700     | 41491.681322 | 0.619770          | 20.458641       |"
       ]
      },
      {
       "html": [
        "<pre>PROGRESS: | 6         | 8900     | 41501.836686 | 0.619101          | 19.694023       |</pre>"
       ],
       "metadata": {},
       "output_type": "display_data",
       "text": [
        "PROGRESS: | 6         | 8900     | 41501.836686 | 0.619101          | 19.694023       |"
       ]
      },
      {
       "html": [
        "<pre>PROGRESS: | 6         | 9200     | 41516.475460 | 0.617500          | 20.493517       |</pre>"
       ],
       "metadata": {},
       "output_type": "display_data",
       "text": [
        "PROGRESS: | 6         | 9200     | 41516.475460 | 0.617500          | 20.493517       |"
       ]
      },
      {
       "html": [
        "<pre>PROGRESS: | 6         | 9400     | 41526.957323 | 0.616702          | 19.080580       |</pre>"
       ],
       "metadata": {},
       "output_type": "display_data",
       "text": [
        "PROGRESS: | 6         | 9400     | 41526.957323 | 0.616702          | 19.080580       |"
       ]
      },
      {
       "html": [
        "<pre>PROGRESS: | 6         | 9600     | 41536.988906 | 0.615521          | 19.937029       |</pre>"
       ],
       "metadata": {},
       "output_type": "display_data",
       "text": [
        "PROGRESS: | 6         | 9600     | 41536.988906 | 0.615521          | 19.937029       |"
       ]
      },
      {
       "html": [
        "<pre>PROGRESS: | 6         | 9900     | 41551.572882 | 0.614950          | 20.570526       |</pre>"
       ],
       "metadata": {},
       "output_type": "display_data",
       "text": [
        "PROGRESS: | 6         | 9900     | 41551.572882 | 0.614950          | 20.570526       |"
       ]
      },
      {
       "html": [
        "<pre>PROGRESS: | 6         | 10100    | 41561.635289 | 0.614752          | 19.875959       |</pre>"
       ],
       "metadata": {},
       "output_type": "display_data",
       "text": [
        "PROGRESS: | 6         | 10100    | 41561.635289 | 0.614752          | 19.875959       |"
       ]
      },
      {
       "html": [
        "<pre>PROGRESS: | 6         | 10400    | 41576.200656 | 0.613558          | 20.596806       |</pre>"
       ],
       "metadata": {},
       "output_type": "display_data",
       "text": [
        "PROGRESS: | 6         | 10400    | 41576.200656 | 0.613558          | 20.596806       |"
       ]
      },
      {
       "html": [
        "<pre>PROGRESS: | 6         | 10700    | 41591.219564 | 0.613832          | 19.974819       |</pre>"
       ],
       "metadata": {},
       "output_type": "display_data",
       "text": [
        "PROGRESS: | 6         | 10700    | 41591.219564 | 0.613832          | 19.974819       |"
       ]
      },
      {
       "html": [
        "<pre>PROGRESS: | 6         | 11000    | 41605.895758 | 0.613636          | 20.441267       |</pre>"
       ],
       "metadata": {},
       "output_type": "display_data",
       "text": [
        "PROGRESS: | 6         | 11000    | 41605.895758 | 0.613636          | 20.441267       |"
       ]
      },
      {
       "html": [
        "<pre>PROGRESS: | 6         | 11200    | 41616.092808 | 0.613036          | 19.613518       |</pre>"
       ],
       "metadata": {},
       "output_type": "display_data",
       "text": [
        "PROGRESS: | 6         | 11200    | 41616.092808 | 0.613036          | 19.613518       |"
       ]
      },
      {
       "html": [
        "<pre>PROGRESS: | 6         | 11500    | 41630.627553 | 0.612000          | 20.640198       |</pre>"
       ],
       "metadata": {},
       "output_type": "display_data",
       "text": [
        "PROGRESS: | 6         | 11500    | 41630.627553 | 0.612000          | 20.640198       |"
       ]
      },
      {
       "html": [
        "<pre>PROGRESS: | 6         | 11800    | 41645.212471 | 0.612203          | 20.569189       |</pre>"
       ],
       "metadata": {},
       "output_type": "display_data",
       "text": [
        "PROGRESS: | 6         | 11800    | 41645.212471 | 0.612203          | 20.569189       |"
       ]
      },
      {
       "html": [
        "<pre>PROGRESS: | 6         | 12000    | 41655.708474 | 0.612167          | 19.054882       |</pre>"
       ],
       "metadata": {},
       "output_type": "display_data",
       "text": [
        "PROGRESS: | 6         | 12000    | 41655.708474 | 0.612167          | 19.054882       |"
       ]
      },
      {
       "html": [
        "<pre>PROGRESS: | 6         | 12300    | 41670.234422 | 0.611382          | 20.652689       |</pre>"
       ],
       "metadata": {},
       "output_type": "display_data",
       "text": [
        "PROGRESS: | 6         | 12300    | 41670.234422 | 0.611382          | 20.652689       |"
       ]
      },
      {
       "html": [
        "<pre>PROGRESS: | 6         | 12600    | 41685.311434 | 0.610556          | 19.897842       |</pre>"
       ],
       "metadata": {},
       "output_type": "display_data",
       "text": [
        "PROGRESS: | 6         | 12600    | 41685.311434 | 0.610556          | 19.897842       |"
       ]
      },
      {
       "html": [
        "<pre>PROGRESS: | 6         | 12900    | 41699.848025 | 0.610155          | 20.637573       |</pre>"
       ],
       "metadata": {},
       "output_type": "display_data",
       "text": [
        "PROGRESS: | 6         | 12900    | 41699.848025 | 0.610155          | 20.637573       |"
       ]
      },
      {
       "html": [
        "<pre>PROGRESS: | 6         | 13200    | 41714.347735 | 0.608712          | 20.690105       |</pre>"
       ],
       "metadata": {},
       "output_type": "display_data",
       "text": [
        "PROGRESS: | 6         | 13200    | 41714.347735 | 0.608712          | 20.690105       |"
       ]
      },
      {
       "html": [
        "<pre>PROGRESS: | 6         | 13500    | 41729.052442 | 0.608148          | 20.401598       |</pre>"
       ],
       "metadata": {},
       "output_type": "display_data",
       "text": [
        "PROGRESS: | 6         | 13500    | 41729.052442 | 0.608148          | 20.401598       |"
       ]
      },
      {
       "html": [
        "<pre>PROGRESS: | 6         | 13800    | 41743.980054 | 0.607609          | 20.096983       |</pre>"
       ],
       "metadata": {},
       "output_type": "display_data",
       "text": [
        "PROGRESS: | 6         | 13800    | 41743.980054 | 0.607609          | 20.096983       |"
       ]
      },
      {
       "html": [
        "<pre>PROGRESS: | 6         | 14100    | 41758.238767 | 0.607021          | 21.039768       |</pre>"
       ],
       "metadata": {},
       "output_type": "display_data",
       "text": [
        "PROGRESS: | 6         | 14100    | 41758.238767 | 0.607021          | 21.039768       |"
       ]
      },
      {
       "html": [
        "<pre>PROGRESS: | 6         | 14400    | 41772.895386 | 0.606250          | 20.468567       |</pre>"
       ],
       "metadata": {},
       "output_type": "display_data",
       "text": [
        "PROGRESS: | 6         | 14400    | 41772.895386 | 0.606250          | 20.468567       |"
       ]
      },
      {
       "html": [
        "<pre>PROGRESS: | 6         | 14700    | 41787.688281 | 0.605374          | 20.280006       |</pre>"
       ],
       "metadata": {},
       "output_type": "display_data",
       "text": [
        "PROGRESS: | 6         | 14700    | 41787.688281 | 0.605374          | 20.280006       |"
       ]
      },
      {
       "html": [
        "<pre>PROGRESS: | 6         | 14900    | 41797.935271 | 0.605772          | 19.517931       |</pre>"
       ],
       "metadata": {},
       "output_type": "display_data",
       "text": [
        "PROGRESS: | 6         | 14900    | 41797.935271 | 0.605772          | 19.517931       |"
       ]
      },
      {
       "html": [
        "<pre>PROGRESS: | 6         | 15200    | 41812.865161 | 0.605724          | 20.093916       |</pre>"
       ],
       "metadata": {},
       "output_type": "display_data",
       "text": [
        "PROGRESS: | 6         | 15200    | 41812.865161 | 0.605724          | 20.093916       |"
       ]
      },
      {
       "html": [
        "<pre>PROGRESS: | 6         | 15500    | 41827.282557 | 0.606387          | 20.808195       |</pre>"
       ],
       "metadata": {},
       "output_type": "display_data",
       "text": [
        "PROGRESS: | 6         | 15500    | 41827.282557 | 0.606387          | 20.808195       |"
       ]
      },
      {
       "html": [
        "<pre>PROGRESS: | 6         | 15700    | 41837.666518 | 0.606242          | 19.260477       |</pre>"
       ],
       "metadata": {},
       "output_type": "display_data",
       "text": [
        "PROGRESS: | 6         | 15700    | 41837.666518 | 0.606242          | 19.260477       |"
       ]
      },
      {
       "html": [
        "<pre>PROGRESS: | 6         | 15900    | 41847.700103 | 0.606352          | 19.933054       |</pre>"
       ],
       "metadata": {},
       "output_type": "display_data",
       "text": [
        "PROGRESS: | 6         | 15900    | 41847.700103 | 0.606352          | 19.933054       |"
       ]
      },
      {
       "html": [
        "<pre>PROGRESS: | 6         | 16200    | 41862.322257 | 0.606543          | 20.516808       |</pre>"
       ],
       "metadata": {},
       "output_type": "display_data",
       "text": [
        "PROGRESS: | 6         | 16200    | 41862.322257 | 0.606543          | 20.516808       |"
       ]
      },
      {
       "html": [
        "<pre>PROGRESS: | 6         | 16500    | 41877.795840 | 0.606788          | 19.387890       |</pre>"
       ],
       "metadata": {},
       "output_type": "display_data",
       "text": [
        "PROGRESS: | 6         | 16500    | 41877.795840 | 0.606788          | 19.387890       |"
       ]
      },
      {
       "html": [
        "<pre>PROGRESS: | 6         | 16700    | 41888.842280 | 0.606946          | 18.105373       |</pre>"
       ],
       "metadata": {},
       "output_type": "display_data",
       "text": [
        "PROGRESS: | 6         | 16700    | 41888.842280 | 0.606946          | 18.105373       |"
       ]
      },
      {
       "html": [
        "<pre>PROGRESS: | 6         | 17000    | 41904.039546 | 0.607235          | 19.740395       |</pre>"
       ],
       "metadata": {},
       "output_type": "display_data",
       "text": [
        "PROGRESS: | 6         | 17000    | 41904.039546 | 0.607235          | 19.740395       |"
       ]
      },
      {
       "html": [
        "<pre>PROGRESS: | 6         | 17300    | 41919.053012 | 0.606647          | 19.982056       |</pre>"
       ],
       "metadata": {},
       "output_type": "display_data",
       "text": [
        "PROGRESS: | 6         | 17300    | 41919.053012 | 0.606647          | 19.982056       |"
       ]
      },
      {
       "html": [
        "<pre>PROGRESS: | 6         | 17500    | 41929.430963 | 0.606514          | 19.271631       |</pre>"
       ],
       "metadata": {},
       "output_type": "display_data",
       "text": [
        "PROGRESS: | 6         | 17500    | 41929.430963 | 0.606514          | 19.271631       |"
       ]
      },
      {
       "html": [
        "<pre>PROGRESS: | 6         | 17800    | 41943.779233 | 0.606910          | 20.908445       |</pre>"
       ],
       "metadata": {},
       "output_type": "display_data",
       "text": [
        "PROGRESS: | 6         | 17800    | 41943.779233 | 0.606910          | 20.908445       |"
       ]
      },
      {
       "html": [
        "<pre>PROGRESS: | 6         | 18000    | 41954.408552 | 0.607889          | 18.815981       |</pre>"
       ],
       "metadata": {},
       "output_type": "display_data",
       "text": [
        "PROGRESS: | 6         | 18000    | 41954.408552 | 0.607889          | 18.815981       |"
       ]
      },
      {
       "html": [
        "<pre>PROGRESS: | 6         | 18200    | 41964.413408 | 0.608132          | 19.990179       |</pre>"
       ],
       "metadata": {},
       "output_type": "display_data",
       "text": [
        "PROGRESS: | 6         | 18200    | 41964.413408 | 0.608132          | 19.990179       |"
       ]
      },
      {
       "html": [
        "<pre>PROGRESS: | 6         | 18400    | 41974.462523 | 0.608261          | 19.902256       |</pre>"
       ],
       "metadata": {},
       "output_type": "display_data",
       "text": [
        "PROGRESS: | 6         | 18400    | 41974.462523 | 0.608261          | 19.902256       |"
       ]
      },
      {
       "html": [
        "<pre>PROGRESS: | 6         | 18600    | 41984.480267 | 0.608226          | 19.964569       |</pre>"
       ],
       "metadata": {},
       "output_type": "display_data",
       "text": [
        "PROGRESS: | 6         | 18600    | 41984.480267 | 0.608226          | 19.964569       |"
       ]
      },
      {
       "html": [
        "<pre>PROGRESS: | 6         | 18900    | 41999.182868 | 0.607196          | 20.404552       |</pre>"
       ],
       "metadata": {},
       "output_type": "display_data",
       "text": [
        "PROGRESS: | 6         | 18900    | 41999.182868 | 0.607196          | 20.404552       |"
       ]
      },
      {
       "html": [
        "<pre>PROGRESS: | 6         | 19200    | 42013.811064 | 0.607344          | 20.508341       |</pre>"
       ],
       "metadata": {},
       "output_type": "display_data",
       "text": [
        "PROGRESS: | 6         | 19200    | 42013.811064 | 0.607344          | 20.508341       |"
       ]
      },
      {
       "html": [
        "<pre>PROGRESS: | 6         | 19500    | 42028.095522 | 0.606821          | 21.001846       |</pre>"
       ],
       "metadata": {},
       "output_type": "display_data",
       "text": [
        "PROGRESS: | 6         | 19500    | 42028.095522 | 0.606821          | 21.001846       |"
       ]
      },
      {
       "html": [
        "<pre>PROGRESS: | 6         | 19700    | 42038.567935 | 0.606599          | 19.097794       |</pre>"
       ],
       "metadata": {},
       "output_type": "display_data",
       "text": [
        "PROGRESS: | 6         | 19700    | 42038.567935 | 0.606599          | 19.097794       |"
       ]
      },
      {
       "html": [
        "<pre>PROGRESS: | 6         | 19900    | 42048.868578 | 0.606181          | 19.416267       |</pre>"
       ],
       "metadata": {},
       "output_type": "display_data",
       "text": [
        "PROGRESS: | 6         | 19900    | 42048.868578 | 0.606181          | 19.416267       |"
       ]
      },
      {
       "html": [
        "<pre>PROGRESS: | 6         | 20100    | 42058.805840 | 0.606617          | 20.126245       |</pre>"
       ],
       "metadata": {},
       "output_type": "display_data",
       "text": [
        "PROGRESS: | 6         | 20100    | 42058.805840 | 0.606617          | 20.126245       |"
       ]
      },
      {
       "html": [
        "<pre>PROGRESS: | 7         | 300      | 42073.691638 | 0.613333          | 20.165533       |</pre>"
       ],
       "metadata": {},
       "output_type": "display_data",
       "text": [
        "PROGRESS: | 7         | 300      | 42073.691638 | 0.613333          | 20.165533       |"
       ]
      },
      {
       "html": [
        "<pre>PROGRESS: | 7         | 600      | 42088.508722 | 0.598333          | 20.245014       |</pre>"
       ],
       "metadata": {},
       "output_type": "display_data",
       "text": [
        "PROGRESS: | 7         | 600      | 42088.508722 | 0.598333          | 20.245014       |"
       ]
      },
      {
       "html": [
        "<pre>PROGRESS: | 7         | 900      | 42102.626236 | 0.593333          | 21.250200       |</pre>"
       ],
       "metadata": {},
       "output_type": "display_data",
       "text": [
        "PROGRESS: | 7         | 900      | 42102.626236 | 0.593333          | 21.250200       |"
       ]
      },
      {
       "html": [
        "<pre>PROGRESS: | 7         | 1200     | 42117.461894 | 0.590000          | 20.221552       |</pre>"
       ],
       "metadata": {},
       "output_type": "display_data",
       "text": [
        "PROGRESS: | 7         | 1200     | 42117.461894 | 0.590000          | 20.221552       |"
       ]
      },
      {
       "html": [
        "<pre>PROGRESS: | 7         | 1500     | 42132.093956 | 0.595333          | 20.502913       |</pre>"
       ],
       "metadata": {},
       "output_type": "display_data",
       "text": [
        "PROGRESS: | 7         | 1500     | 42132.093956 | 0.595333          | 20.502913       |"
       ]
      },
      {
       "html": [
        "<pre>PROGRESS: | 7         | 1700     | 42142.452090 | 0.605882          | 19.308504       |</pre>"
       ],
       "metadata": {},
       "output_type": "display_data",
       "text": [
        "PROGRESS: | 7         | 1700     | 42142.452090 | 0.605882          | 19.308504       |"
       ]
      },
      {
       "html": [
        "<pre>PROGRESS: | 7         | 2000     | 42156.567139 | 0.612500          | 21.253906       |</pre>"
       ],
       "metadata": {},
       "output_type": "display_data",
       "text": [
        "PROGRESS: | 7         | 2000     | 42156.567139 | 0.612500          | 21.253906       |"
       ]
      },
      {
       "html": [
        "<pre>PROGRESS: | 7         | 2300     | 42170.744738 | 0.610000          | 21.160145       |</pre>"
       ],
       "metadata": {},
       "output_type": "display_data",
       "text": [
        "PROGRESS: | 7         | 2300     | 42170.744738 | 0.610000          | 21.160145       |"
       ]
      },
      {
       "html": [
        "<pre>PROGRESS: | 7         | 2600     | 42185.222198 | 0.613846          | 20.721870       |</pre>"
       ],
       "metadata": {},
       "output_type": "display_data",
       "text": [
        "PROGRESS: | 7         | 2600     | 42185.222198 | 0.613846          | 20.721870       |"
       ]
      },
      {
       "html": [
        "<pre>PROGRESS: | 7         | 2900     | 42200.090346 | 0.613103          | 20.177362       |</pre>"
       ],
       "metadata": {},
       "output_type": "display_data",
       "text": [
        "PROGRESS: | 7         | 2900     | 42200.090346 | 0.613103          | 20.177362       |"
       ]
      },
      {
       "html": [
        "<pre>PROGRESS: | 7         | 3100     | 42210.217643 | 0.609032          | 19.748623       |</pre>"
       ],
       "metadata": {},
       "output_type": "display_data",
       "text": [
        "PROGRESS: | 7         | 3100     | 42210.217643 | 0.609032          | 19.748623       |"
       ]
      },
      {
       "html": [
        "<pre>PROGRESS: | 7         | 3300     | 42220.626480 | 0.609697          | 19.214418       |</pre>"
       ],
       "metadata": {},
       "output_type": "display_data",
       "text": [
        "PROGRESS: | 7         | 3300     | 42220.626480 | 0.609697          | 19.214418       |"
       ]
      },
      {
       "html": [
        "<pre>PROGRESS: | 7         | 3500     | 42230.732901 | 0.611714          | 19.789402       |</pre>"
       ],
       "metadata": {},
       "output_type": "display_data",
       "text": [
        "PROGRESS: | 7         | 3500     | 42230.732901 | 0.611714          | 19.789402       |"
       ]
      },
      {
       "html": [
        "<pre>PROGRESS: | 7         | 3800     | 42245.045506 | 0.611316          | 20.960548       |</pre>"
       ],
       "metadata": {},
       "output_type": "display_data",
       "text": [
        "PROGRESS: | 7         | 3800     | 42245.045506 | 0.611316          | 20.960548       |"
       ]
      },
      {
       "html": [
        "<pre>PROGRESS: | 7         | 4100     | 42259.730646 | 0.608293          | 20.428818       |</pre>"
       ],
       "metadata": {},
       "output_type": "display_data",
       "text": [
        "PROGRESS: | 7         | 4100     | 42259.730646 | 0.608293          | 20.428818       |"
       ]
      },
      {
       "html": [
        "<pre>PROGRESS: | 7         | 4300     | 42269.951394 | 0.609302          | 19.568033       |</pre>"
       ],
       "metadata": {},
       "output_type": "display_data",
       "text": [
        "PROGRESS: | 7         | 4300     | 42269.951394 | 0.609302          | 19.568033       |"
       ]
      },
      {
       "html": [
        "<pre>PROGRESS: | 7         | 4500     | 42280.339477 | 0.608889          | 19.252827       |</pre>"
       ],
       "metadata": {},
       "output_type": "display_data",
       "text": [
        "PROGRESS: | 7         | 4500     | 42280.339477 | 0.608889          | 19.252827       |"
       ]
      },
      {
       "html": [
        "<pre>PROGRESS: | 7         | 4700     | 42290.508543 | 0.605957          | 19.667498       |</pre>"
       ],
       "metadata": {},
       "output_type": "display_data",
       "text": [
        "PROGRESS: | 7         | 4700     | 42290.508543 | 0.605957          | 19.667498       |"
       ]
      },
      {
       "html": [
        "<pre>PROGRESS: | 7         | 4900     | 42301.610353 | 0.606122          | 18.015076       |</pre>"
       ],
       "metadata": {},
       "output_type": "display_data",
       "text": [
        "PROGRESS: | 7         | 4900     | 42301.610353 | 0.606122          | 18.015076       |"
       ]
      },
      {
       "html": [
        "<pre>PROGRESS: | 7         | 5200     | 42316.289765 | 0.609038          | 20.436785       |</pre>"
       ],
       "metadata": {},
       "output_type": "display_data",
       "text": [
        "PROGRESS: | 7         | 5200     | 42316.289765 | 0.609038          | 20.436785       |"
       ]
      },
      {
       "html": [
        "<pre>PROGRESS: | 7         | 5400     | 42326.992577 | 0.610185          | 18.686684       |</pre>"
       ],
       "metadata": {},
       "output_type": "display_data",
       "text": [
        "PROGRESS: | 7         | 5400     | 42326.992577 | 0.610185          | 18.686684       |"
       ]
      },
      {
       "html": [
        "<pre>PROGRESS: | 7         | 5600     | 42337.738035 | 0.611071          | 18.612514       |</pre>"
       ],
       "metadata": {},
       "output_type": "display_data",
       "text": [
        "PROGRESS: | 7         | 5600     | 42337.738035 | 0.611071          | 18.612514       |"
       ]
      },
      {
       "html": [
        "<pre>PROGRESS: | 7         | 5900     | 42352.091349 | 0.614407          | 20.901096       |</pre>"
       ],
       "metadata": {},
       "output_type": "display_data",
       "text": [
        "PROGRESS: | 7         | 5900     | 42352.091349 | 0.614407          | 20.901096       |"
       ]
      },
      {
       "html": [
        "<pre>PROGRESS: | 7         | 6100     | 42362.296699 | 0.614262          | 19.597565       |</pre>"
       ],
       "metadata": {},
       "output_type": "display_data",
       "text": [
        "PROGRESS: | 7         | 6100     | 42362.296699 | 0.614262          | 19.597565       |"
       ]
      },
      {
       "html": [
        "<pre>PROGRESS: | 7         | 6400     | 42376.703960 | 0.614531          | 20.822859       |</pre>"
       ],
       "metadata": {},
       "output_type": "display_data",
       "text": [
        "PROGRESS: | 7         | 6400     | 42376.703960 | 0.614531          | 20.822859       |"
       ]
      },
      {
       "html": [
        "<pre>PROGRESS: | 7         | 6600     | 42386.705004 | 0.612727          | 19.997877       |</pre>"
       ],
       "metadata": {},
       "output_type": "display_data",
       "text": [
        "PROGRESS: | 7         | 6600     | 42386.705004 | 0.612727          | 19.997877       |"
       ]
      },
      {
       "html": [
        "<pre>PROGRESS: | 7         | 6800     | 42396.820797 | 0.612353          | 19.771065       |</pre>"
       ],
       "metadata": {},
       "output_type": "display_data",
       "text": [
        "PROGRESS: | 7         | 6800     | 42396.820797 | 0.612353          | 19.771065       |"
       ]
      },
      {
       "html": [
        "<pre>PROGRESS: | 7         | 7000     | 42407.715290 | 0.612143          | 18.357904       |</pre>"
       ],
       "metadata": {},
       "output_type": "display_data",
       "text": [
        "PROGRESS: | 7         | 7000     | 42407.715290 | 0.612143          | 18.357904       |"
       ]
      },
      {
       "html": [
        "<pre>PROGRESS: | 7         | 7300     | 42422.748376 | 0.609041          | 19.955986       |</pre>"
       ],
       "metadata": {},
       "output_type": "display_data",
       "text": [
        "PROGRESS: | 7         | 7300     | 42422.748376 | 0.609041          | 19.955986       |"
       ]
      },
      {
       "html": [
        "<pre>PROGRESS: | 7         | 7500     | 42433.666498 | 0.609333          | 18.318161       |</pre>"
       ],
       "metadata": {},
       "output_type": "display_data",
       "text": [
        "PROGRESS: | 7         | 7500     | 42433.666498 | 0.609333          | 18.318161       |"
       ]
      },
      {
       "html": [
        "<pre>PROGRESS: | 7         | 7700     | 42443.928061 | 0.607273          | 19.490202       |</pre>"
       ],
       "metadata": {},
       "output_type": "display_data",
       "text": [
        "PROGRESS: | 7         | 7700     | 42443.928061 | 0.607273          | 19.490202       |"
       ]
      },
      {
       "html": [
        "<pre>PROGRESS: | 7         | 7900     | 42454.287576 | 0.606709          | 19.305929       |</pre>"
       ],
       "metadata": {},
       "output_type": "display_data",
       "text": [
        "PROGRESS: | 7         | 7900     | 42454.287576 | 0.606709          | 19.305929       |"
       ]
      },
      {
       "html": [
        "<pre>PROGRESS: | 7         | 8100     | 42466.045124 | 0.607161          | 17.011703       |</pre>"
       ],
       "metadata": {},
       "output_type": "display_data",
       "text": [
        "PROGRESS: | 7         | 8100     | 42466.045124 | 0.607161          | 17.011703       |"
       ]
      },
      {
       "html": [
        "<pre>PROGRESS: | 7         | 8300     | 42481.898513 | 0.607108          | 12.614857       |</pre>"
       ],
       "metadata": {},
       "output_type": "display_data",
       "text": [
        "PROGRESS: | 7         | 8300     | 42481.898513 | 0.607108          | 12.614857       |"
       ]
      },
      {
       "html": [
        "<pre>PROGRESS: | 7         | 8500     | 42495.426395 | 0.605059          | 14.784278       |</pre>"
       ],
       "metadata": {},
       "output_type": "display_data",
       "text": [
        "PROGRESS: | 7         | 8500     | 42495.426395 | 0.605059          | 14.784278       |"
       ]
      },
      {
       "html": [
        "<pre>PROGRESS: | 7         | 8800     | 42510.366408 | 0.601932          | 20.080299       |</pre>"
       ],
       "metadata": {},
       "output_type": "display_data",
       "text": [
        "PROGRESS: | 7         | 8800     | 42510.366408 | 0.601932          | 20.080299       |"
       ]
      },
      {
       "html": [
        "<pre>PROGRESS: | 7         | 9000     | 42520.701084 | 0.598889          | 19.352327       |</pre>"
       ],
       "metadata": {},
       "output_type": "display_data",
       "text": [
        "PROGRESS: | 7         | 9000     | 42520.701084 | 0.598889          | 19.352327       |"
       ]
      },
      {
       "html": [
        "<pre>PROGRESS: | 7         | 9300     | 42535.608483 | 0.597527          | 20.124233       |</pre>"
       ],
       "metadata": {},
       "output_type": "display_data",
       "text": [
        "PROGRESS: | 7         | 9300     | 42535.608483 | 0.597527          | 20.124233       |"
       ]
      },
      {
       "html": [
        "<pre>PROGRESS: | 7         | 9500     | 42545.993952 | 0.598421          | 19.257675       |</pre>"
       ],
       "metadata": {},
       "output_type": "display_data",
       "text": [
        "PROGRESS: | 7         | 9500     | 42545.993952 | 0.598421          | 19.257675       |"
       ]
      },
      {
       "html": [
        "<pre>PROGRESS: | 7         | 9700     | 42556.801841 | 0.597113          | 18.504997       |</pre>"
       ],
       "metadata": {},
       "output_type": "display_data",
       "text": [
        "PROGRESS: | 7         | 9700     | 42556.801841 | 0.597113          | 18.504997       |"
       ]
      },
      {
       "html": [
        "<pre>PROGRESS: | 7         | 9900     | 42567.805977 | 0.596364          | 18.174995       |</pre>"
       ],
       "metadata": {},
       "output_type": "display_data",
       "text": [
        "PROGRESS: | 7         | 9900     | 42567.805977 | 0.596364          | 18.174995       |"
       ]
      },
      {
       "html": [
        "<pre>PROGRESS: | 7         | 10200    | 42582.889929 | 0.595980          | 19.888683       |</pre>"
       ],
       "metadata": {},
       "output_type": "display_data",
       "text": [
        "PROGRESS: | 7         | 10200    | 42582.889929 | 0.595980          | 19.888683       |"
       ]
      },
      {
       "html": [
        "<pre>PROGRESS: | 7         | 10400    | 42592.972123 | 0.595481          | 19.836952       |</pre>"
       ],
       "metadata": {},
       "output_type": "display_data",
       "text": [
        "PROGRESS: | 7         | 10400    | 42592.972123 | 0.595481          | 19.836952       |"
       ]
      },
      {
       "html": [
        "<pre>PROGRESS: | 7         | 10600    | 42603.441951 | 0.595943          | 19.102509       |</pre>"
       ],
       "metadata": {},
       "output_type": "display_data",
       "text": [
        "PROGRESS: | 7         | 10600    | 42603.441951 | 0.595943          | 19.102509       |"
       ]
      },
      {
       "html": [
        "<pre>PROGRESS: | 7         | 10800    | 42614.087695 | 0.596667          | 18.786852       |</pre>"
       ],
       "metadata": {},
       "output_type": "display_data",
       "text": [
        "PROGRESS: | 7         | 10800    | 42614.087695 | 0.596667          | 18.786852       |"
       ]
      },
      {
       "html": [
        "<pre>PROGRESS: | 7         | 11100    | 42628.373499 | 0.596757          | 20.999872       |</pre>"
       ],
       "metadata": {},
       "output_type": "display_data",
       "text": [
        "PROGRESS: | 7         | 11100    | 42628.373499 | 0.596757          | 20.999872       |"
       ]
      },
      {
       "html": [
        "<pre>PROGRESS: | 7         | 11400    | 42642.899409 | 0.595614          | 20.652744       |</pre>"
       ],
       "metadata": {},
       "output_type": "display_data",
       "text": [
        "PROGRESS: | 7         | 11400    | 42642.899409 | 0.595614          | 20.652744       |"
       ]
      },
      {
       "html": [
        "<pre>PROGRESS: | 7         | 11700    | 42657.304658 | 0.595556          | 20.825743       |</pre>"
       ],
       "metadata": {},
       "output_type": "display_data",
       "text": [
        "PROGRESS: | 7         | 11700    | 42657.304658 | 0.595556          | 20.825743       |"
       ]
      },
      {
       "html": [
        "<pre>PROGRESS: | 7         | 12000    | 42672.119031 | 0.595083          | 20.250605       |</pre>"
       ],
       "metadata": {},
       "output_type": "display_data",
       "text": [
        "PROGRESS: | 7         | 12000    | 42672.119031 | 0.595083          | 20.250605       |"
       ]
      },
      {
       "html": [
        "<pre>PROGRESS: | 7         | 12200    | 42682.499369 | 0.594426          | 19.267199       |</pre>"
       ],
       "metadata": {},
       "output_type": "display_data",
       "text": [
        "PROGRESS: | 7         | 12200    | 42682.499369 | 0.594426          | 19.267199       |"
       ]
      },
      {
       "html": [
        "<pre>PROGRESS: | 7         | 12500    | 42697.524267 | 0.594000          | 19.966854       |</pre>"
       ],
       "metadata": {},
       "output_type": "display_data",
       "text": [
        "PROGRESS: | 7         | 12500    | 42697.524267 | 0.594000          | 19.966854       |"
       ]
      },
      {
       "html": [
        "<pre>PROGRESS: | 7         | 12700    | 42707.570073 | 0.592835          | 19.908806       |</pre>"
       ],
       "metadata": {},
       "output_type": "display_data",
       "text": [
        "PROGRESS: | 7         | 12700    | 42707.570073 | 0.592835          | 19.908806       |"
       ]
      },
      {
       "html": [
        "<pre>PROGRESS: | 7         | 12900    | 42718.145733 | 0.592171          | 18.911350       |</pre>"
       ],
       "metadata": {},
       "output_type": "display_data",
       "text": [
        "PROGRESS: | 7         | 12900    | 42718.145733 | 0.592171          | 18.911350       |"
       ]
      },
      {
       "html": [
        "<pre>PROGRESS: | 7         | 13100    | 42728.579714 | 0.590687          | 19.168139       |</pre>"
       ],
       "metadata": {},
       "output_type": "display_data",
       "text": [
        "PROGRESS: | 7         | 13100    | 42728.579714 | 0.590687          | 19.168139       |"
       ]
      },
      {
       "html": [
        "<pre>PROGRESS: | 7         | 13300    | 42739.246777 | 0.590000          | 18.749308       |</pre>"
       ],
       "metadata": {},
       "output_type": "display_data",
       "text": [
        "PROGRESS: | 7         | 13300    | 42739.246777 | 0.590000          | 18.749308       |"
       ]
      },
      {
       "html": [
        "<pre>PROGRESS: | 7         | 13500    | 42750.187579 | 0.588963          | 18.280191       |</pre>"
       ],
       "metadata": {},
       "output_type": "display_data",
       "text": [
        "PROGRESS: | 7         | 13500    | 42750.187579 | 0.588963          | 18.280191       |"
       ]
      },
      {
       "html": [
        "<pre>PROGRESS: | 7         | 13800    | 42764.898138 | 0.587319          | 20.393517       |</pre>"
       ],
       "metadata": {},
       "output_type": "display_data",
       "text": [
        "PROGRESS: | 7         | 13800    | 42764.898138 | 0.587319          | 20.393517       |"
       ]
      },
      {
       "html": [
        "<pre>PROGRESS: | 7         | 14000    | 42775.275156 | 0.587000          | 19.273355       |</pre>"
       ],
       "metadata": {},
       "output_type": "display_data",
       "text": [
        "PROGRESS: | 7         | 14000    | 42775.275156 | 0.587000          | 19.273355       |"
       ]
      },
      {
       "html": [
        "<pre>PROGRESS: | 7         | 14200    | 42786.147977 | 0.586338          | 18.394558       |</pre>"
       ],
       "metadata": {},
       "output_type": "display_data",
       "text": [
        "PROGRESS: | 7         | 14200    | 42786.147977 | 0.586338          | 18.394558       |"
       ]
      },
      {
       "html": [
        "<pre>PROGRESS: | 7         | 14400    | 42798.516867 | 0.585417          | 16.169546       |</pre>"
       ],
       "metadata": {},
       "output_type": "display_data",
       "text": [
        "PROGRESS: | 7         | 14400    | 42798.516867 | 0.585417          | 16.169546       |"
       ]
      },
      {
       "html": [
        "<pre>PROGRESS: | 7         | 14600    | 42808.769182 | 0.584658          | 19.507795       |</pre>"
       ],
       "metadata": {},
       "output_type": "display_data",
       "text": [
        "PROGRESS: | 7         | 14600    | 42808.769182 | 0.584658          | 19.507795       |"
       ]
      },
      {
       "html": [
        "<pre>PROGRESS: | 7         | 14800    | 42820.424877 | 0.583784          | 17.158995       |</pre>"
       ],
       "metadata": {},
       "output_type": "display_data",
       "text": [
        "PROGRESS: | 7         | 14800    | 42820.424877 | 0.583784          | 17.158995       |"
       ]
      },
      {
       "html": [
        "<pre>PROGRESS: | 7         | 15100    | 42835.353955 | 0.583709          | 20.095011       |</pre>"
       ],
       "metadata": {},
       "output_type": "display_data",
       "text": [
        "PROGRESS: | 7         | 15100    | 42835.353955 | 0.583709          | 20.095011       |"
       ]
      },
      {
       "html": [
        "<pre>PROGRESS: | 7         | 15300    | 42845.394130 | 0.583464          | 19.919970       |</pre>"
       ],
       "metadata": {},
       "output_type": "display_data",
       "text": [
        "PROGRESS: | 7         | 15300    | 42845.394130 | 0.583464          | 19.919970       |"
       ]
      },
      {
       "html": [
        "<pre>PROGRESS: | 7         | 15500    | 42855.527016 | 0.583032          | 19.737713       |</pre>"
       ],
       "metadata": {},
       "output_type": "display_data",
       "text": [
        "PROGRESS: | 7         | 15500    | 42855.527016 | 0.583032          | 19.737713       |"
       ]
      },
      {
       "html": [
        "<pre>PROGRESS: | 7         | 15700    | 42865.618517 | 0.582548          | 19.818655       |</pre>"
       ],
       "metadata": {},
       "output_type": "display_data",
       "text": [
        "PROGRESS: | 7         | 15700    | 42865.618517 | 0.582548          | 19.818655       |"
       ]
      },
      {
       "html": [
        "<pre>PROGRESS: | 7         | 15900    | 42875.660969 | 0.582893          | 19.915501       |</pre>"
       ],
       "metadata": {},
       "output_type": "display_data",
       "text": [
        "PROGRESS: | 7         | 15900    | 42875.660969 | 0.582893          | 19.915501       |"
       ]
      },
      {
       "html": [
        "<pre>PROGRESS: | 7         | 16100    | 42886.666273 | 0.582547          | 18.173019       |</pre>"
       ],
       "metadata": {},
       "output_type": "display_data",
       "text": [
        "PROGRESS: | 7         | 16100    | 42886.666273 | 0.582547          | 18.173019       |"
       ]
      },
      {
       "html": [
        "<pre>PROGRESS: | 7         | 16300    | 42897.300494 | 0.582699          | 18.807215       |</pre>"
       ],
       "metadata": {},
       "output_type": "display_data",
       "text": [
        "PROGRESS: | 7         | 16300    | 42897.300494 | 0.582699          | 18.807215       |"
       ]
      },
      {
       "html": [
        "<pre>PROGRESS: | 7         | 16500    | 42907.752892 | 0.583333          | 19.134359       |</pre>"
       ],
       "metadata": {},
       "output_type": "display_data",
       "text": [
        "PROGRESS: | 7         | 16500    | 42907.752892 | 0.583333          | 19.134359       |"
       ]
      },
      {
       "html": [
        "<pre>PROGRESS: | 7         | 16700    | 42918.369348 | 0.583473          | 18.838678       |</pre>"
       ],
       "metadata": {},
       "output_type": "display_data",
       "text": [
        "PROGRESS: | 7         | 16700    | 42918.369348 | 0.583473          | 18.838678       |"
       ]
      },
      {
       "html": [
        "<pre>PROGRESS: | 7         | 17000    | 42933.301224 | 0.583824          | 20.091242       |</pre>"
       ],
       "metadata": {},
       "output_type": "display_data",
       "text": [
        "PROGRESS: | 7         | 17000    | 42933.301224 | 0.583824          | 20.091242       |"
       ]
      },
      {
       "html": [
        "<pre>PROGRESS: | 7         | 17200    | 42943.830511 | 0.583081          | 18.994640       |</pre>"
       ],
       "metadata": {},
       "output_type": "display_data",
       "text": [
        "PROGRESS: | 7         | 17200    | 42943.830511 | 0.583081          | 18.994640       |"
       ]
      },
      {
       "html": [
        "<pre>PROGRESS: | 7         | 17500    | 42958.772627 | 0.583314          | 20.077480       |</pre>"
       ],
       "metadata": {},
       "output_type": "display_data",
       "text": [
        "PROGRESS: | 7         | 17500    | 42958.772627 | 0.583314          | 20.077480       |"
       ]
      },
      {
       "html": [
        "<pre>PROGRESS: | 7         | 17700    | 42969.116515 | 0.582881          | 19.335087       |</pre>"
       ],
       "metadata": {},
       "output_type": "display_data",
       "text": [
        "PROGRESS: | 7         | 17700    | 42969.116515 | 0.582881          | 19.335087       |"
       ]
      },
      {
       "html": [
        "<pre>PROGRESS: | 7         | 18000    | 42984.015524 | 0.583667          | 20.135567       |</pre>"
       ],
       "metadata": {},
       "output_type": "display_data",
       "text": [
        "PROGRESS: | 7         | 18000    | 42984.015524 | 0.583667          | 20.135567       |"
       ]
      },
      {
       "html": [
        "<pre>PROGRESS: | 7         | 18300    | 42998.977892 | 0.583661          | 20.050306       |</pre>"
       ],
       "metadata": {},
       "output_type": "display_data",
       "text": [
        "PROGRESS: | 7         | 18300    | 42998.977892 | 0.583661          | 20.050306       |"
       ]
      },
      {
       "html": [
        "<pre>PROGRESS: | 7         | 18500    | 43009.008170 | 0.583838          | 19.939621       |</pre>"
       ],
       "metadata": {},
       "output_type": "display_data",
       "text": [
        "PROGRESS: | 7         | 18500    | 43009.008170 | 0.583838          | 19.939621       |"
       ]
      },
      {
       "html": [
        "<pre>PROGRESS: | 7         | 18800    | 43024.673345 | 0.583883          | 19.150763       |</pre>"
       ],
       "metadata": {},
       "output_type": "display_data",
       "text": [
        "PROGRESS: | 7         | 18800    | 43024.673345 | 0.583883          | 19.150763       |"
       ]
      },
      {
       "html": [
        "<pre>PROGRESS: | 7         | 19000    | 43035.170945 | 0.584158          | 19.051971       |</pre>"
       ],
       "metadata": {},
       "output_type": "display_data",
       "text": [
        "PROGRESS: | 7         | 19000    | 43035.170945 | 0.584158          | 19.051971       |"
       ]
      },
      {
       "html": [
        "<pre>PROGRESS: | 7         | 19200    | 43045.920235 | 0.584427          | 18.605883       |</pre>"
       ],
       "metadata": {},
       "output_type": "display_data",
       "text": [
        "PROGRESS: | 7         | 19200    | 43045.920235 | 0.584427          | 18.605883       |"
       ]
      },
      {
       "html": [
        "<pre>PROGRESS: | 7         | 19400    | 43056.533588 | 0.584691          | 18.844185       |</pre>"
       ],
       "metadata": {},
       "output_type": "display_data",
       "text": [
        "PROGRESS: | 7         | 19400    | 43056.533588 | 0.584691          | 18.844185       |"
       ]
      },
      {
       "html": [
        "<pre>PROGRESS: | 7         | 19700    | 43113.273460 | 0.584772          | 5.287288        |</pre>"
       ],
       "metadata": {},
       "output_type": "display_data",
       "text": [
        "PROGRESS: | 7         | 19700    | 43113.273460 | 0.584772          | 5.287288        |"
       ]
      },
      {
       "html": [
        "<pre>PROGRESS: | 7         | 19900    | 43127.102852 | 0.585126          | 14.461953       |</pre>"
       ],
       "metadata": {},
       "output_type": "display_data",
       "text": [
        "PROGRESS: | 7         | 19900    | 43127.102852 | 0.585126          | 14.461953       |"
       ]
      },
      {
       "html": [
        "<pre>PROGRESS: | 7         | 20000    | 43133.304251 | 0.585200          | 16.125362       |</pre>"
       ],
       "metadata": {},
       "output_type": "display_data",
       "text": [
        "PROGRESS: | 7         | 20000    | 43133.304251 | 0.585200          | 16.125362       |"
       ]
      },
      {
       "html": [
        "<pre>PROGRESS: | 8         | 300      | 43148.300737 | 0.600000          | 20.034912       |</pre>"
       ],
       "metadata": {},
       "output_type": "display_data",
       "text": [
        "PROGRESS: | 8         | 300      | 43148.300737 | 0.600000          | 20.034912       |"
       ]
      },
      {
       "html": [
        "<pre>PROGRESS: | 8         | 600      | 43163.154877 | 0.598333          | 20.196390       |</pre>"
       ],
       "metadata": {},
       "output_type": "display_data",
       "text": [
        "PROGRESS: | 8         | 600      | 43163.154877 | 0.598333          | 20.196390       |"
       ]
      },
      {
       "html": [
        "<pre>PROGRESS: | 8         | 900      | 43178.417677 | 0.600000          | 19.655634       |</pre>"
       ],
       "metadata": {},
       "output_type": "display_data",
       "text": [
        "PROGRESS: | 8         | 900      | 43178.417677 | 0.600000          | 19.655634       |"
       ]
      },
      {
       "html": [
        "<pre>PROGRESS: | 8         | 1200     | 43192.448203 | 0.605000          | 21.381950       |</pre>"
       ],
       "metadata": {},
       "output_type": "display_data",
       "text": [
        "PROGRESS: | 8         | 1200     | 43192.448203 | 0.605000          | 21.381950       |"
       ]
      },
      {
       "html": [
        "<pre>PROGRESS: | 8         | 1400     | 43202.561070 | 0.597143          | 19.776789       |</pre>"
       ],
       "metadata": {},
       "output_type": "display_data",
       "text": [
        "PROGRESS: | 8         | 1400     | 43202.561070 | 0.597143          | 19.776789       |"
       ]
      },
      {
       "html": [
        "<pre>PROGRESS: | 8         | 1700     | 43217.020109 | 0.599412          | 20.748262       |</pre>"
       ],
       "metadata": {},
       "output_type": "display_data",
       "text": [
        "PROGRESS: | 8         | 1700     | 43217.020109 | 0.599412          | 20.748262       |"
       ]
      },
      {
       "html": [
        "<pre>PROGRESS: | 8         | 2000     | 43231.955614 | 0.607000          | 20.086365       |</pre>"
       ],
       "metadata": {},
       "output_type": "display_data",
       "text": [
        "PROGRESS: | 8         | 2000     | 43231.955614 | 0.607000          | 20.086365       |"
       ]
      },
      {
       "html": [
        "<pre>PROGRESS: | 8         | 2300     | 43246.601189 | 0.605652          | 20.484003       |</pre>"
       ],
       "metadata": {},
       "output_type": "display_data",
       "text": [
        "PROGRESS: | 8         | 2300     | 43246.601189 | 0.605652          | 20.484003       |"
       ]
      },
      {
       "html": [
        "<pre>PROGRESS: | 8         | 2600     | 43260.960089 | 0.605000          | 20.892967       |</pre>"
       ],
       "metadata": {},
       "output_type": "display_data",
       "text": [
        "PROGRESS: | 8         | 2600     | 43260.960089 | 0.605000          | 20.892967       |"
       ]
      },
      {
       "html": [
        "<pre>PROGRESS: | 8         | 2900     | 43275.136697 | 0.602414          | 21.161619       |</pre>"
       ],
       "metadata": {},
       "output_type": "display_data",
       "text": [
        "PROGRESS: | 8         | 2900     | 43275.136697 | 0.602414          | 21.161619       |"
       ]
      },
      {
       "html": [
        "<pre>PROGRESS: | 8         | 3200     | 43289.521939 | 0.598437          | 20.854710       |</pre>"
       ],
       "metadata": {},
       "output_type": "display_data",
       "text": [
        "PROGRESS: | 8         | 3200     | 43289.521939 | 0.598437          | 20.854710       |"
       ]
      },
      {
       "html": [
        "<pre>PROGRESS: | 8         | 3500     | 43303.900017 | 0.599429          | 20.865097       |</pre>"
       ],
       "metadata": {},
       "output_type": "display_data",
       "text": [
        "PROGRESS: | 8         | 3500     | 43303.900017 | 0.599429          | 20.865097       |"
       ]
      },
      {
       "html": [
        "<pre>PROGRESS: | 8         | 3800     | 43318.385375 | 0.603158          | 20.710566       |</pre>"
       ],
       "metadata": {},
       "output_type": "display_data",
       "text": [
        "PROGRESS: | 8         | 3800     | 43318.385375 | 0.603158          | 20.710566       |"
       ]
      },
      {
       "html": [
        "<pre>PROGRESS: | 8         | 4000     | 43328.514813 | 0.605500          | 19.744434       |</pre>"
       ],
       "metadata": {},
       "output_type": "display_data",
       "text": [
        "PROGRESS: | 8         | 4000     | 43328.514813 | 0.605500          | 19.744434       |"
       ]
      },
      {
       "html": [
        "<pre>PROGRESS: | 8         | 4300     | 43342.604290 | 0.608372          | 21.292486       |</pre>"
       ],
       "metadata": {},
       "output_type": "display_data",
       "text": [
        "PROGRESS: | 8         | 4300     | 43342.604290 | 0.608372          | 21.292486       |"
       ]
      },
      {
       "html": [
        "<pre>PROGRESS: | 8         | 4500     | 43352.798116 | 0.610222          | 19.619719       |</pre>"
       ],
       "metadata": {},
       "output_type": "display_data",
       "text": [
        "PROGRESS: | 8         | 4500     | 43352.798116 | 0.610222          | 19.619719       |"
       ]
      },
      {
       "html": [
        "<pre>PROGRESS: | 8         | 4800     | 43367.064815 | 0.612083          | 21.027992       |</pre>"
       ],
       "metadata": {},
       "output_type": "display_data",
       "text": [
        "PROGRESS: | 8         | 4800     | 43367.064815 | 0.612083          | 21.027992       |"
       ]
      },
      {
       "html": [
        "<pre>PROGRESS: | 8         | 5100     | 43381.078202 | 0.615686          | 21.408096       |</pre>"
       ],
       "metadata": {},
       "output_type": "display_data",
       "text": [
        "PROGRESS: | 8         | 5100     | 43381.078202 | 0.615686          | 21.408096       |"
       ]
      },
      {
       "html": [
        "<pre>PROGRESS: | 8         | 5400     | 43395.866724 | 0.616667          | 20.286005       |</pre>"
       ],
       "metadata": {},
       "output_type": "display_data",
       "text": [
        "PROGRESS: | 8         | 5400     | 43395.866724 | 0.616667          | 20.286005       |"
       ]
      },
      {
       "html": [
        "<pre>PROGRESS: | 8         | 5700     | 43410.011574 | 0.617018          | 21.209135       |</pre>"
       ],
       "metadata": {},
       "output_type": "display_data",
       "text": [
        "PROGRESS: | 8         | 5700     | 43410.011574 | 0.617018          | 21.209135       |"
       ]
      },
      {
       "html": [
        "<pre>PROGRESS: | 8         | 5900     | 43420.011754 | 0.615932          | 19.999640       |</pre>"
       ],
       "metadata": {},
       "output_type": "display_data",
       "text": [
        "PROGRESS: | 8         | 5900     | 43420.011754 | 0.615932          | 19.999640       |"
       ]
      },
      {
       "html": [
        "<pre>PROGRESS: | 8         | 6200     | 43434.413698 | 0.617419          | 20.830521       |</pre>"
       ],
       "metadata": {},
       "output_type": "display_data",
       "text": [
        "PROGRESS: | 8         | 6200     | 43434.413698 | 0.617419          | 20.830521       |"
       ]
      },
      {
       "html": [
        "<pre>PROGRESS: | 8         | 6500     | 43448.703550 | 0.616923          | 20.993917       |</pre>"
       ],
       "metadata": {},
       "output_type": "display_data",
       "text": [
        "PROGRESS: | 8         | 6500     | 43448.703550 | 0.616923          | 20.993917       |"
       ]
      },
      {
       "html": [
        "<pre>PROGRESS: | 8         | 6700     | 43458.938881 | 0.616418          | 19.540161       |</pre>"
       ],
       "metadata": {},
       "output_type": "display_data",
       "text": [
        "PROGRESS: | 8         | 6700     | 43458.938881 | 0.616418          | 19.540161       |"
       ]
      },
      {
       "html": [
        "<pre>PROGRESS: | 8         | 7000     | 43473.593441 | 0.615571          | 20.471445       |</pre>"
       ],
       "metadata": {},
       "output_type": "display_data",
       "text": [
        "PROGRESS: | 8         | 7000     | 43473.593441 | 0.615571          | 20.471445       |"
       ]
      },
      {
       "html": [
        "<pre>PROGRESS: | 8         | 7300     | 43488.606291 | 0.612877          | 19.982878       |</pre>"
       ],
       "metadata": {},
       "output_type": "display_data",
       "text": [
        "PROGRESS: | 8         | 7300     | 43488.606291 | 0.612877          | 19.982878       |"
       ]
      },
      {
       "html": [
        "<pre>PROGRESS: | 8         | 7600     | 43503.023934 | 0.613026          | 20.807856       |</pre>"
       ],
       "metadata": {},
       "output_type": "display_data",
       "text": [
        "PROGRESS: | 8         | 7600     | 43503.023934 | 0.613026          | 20.807856       |"
       ]
      },
      {
       "html": [
        "<pre>PROGRESS: | 8         | 7800     | 43513.074151 | 0.611154          | 19.900057       |</pre>"
       ],
       "metadata": {},
       "output_type": "display_data",
       "text": [
        "PROGRESS: | 8         | 7800     | 43513.074151 | 0.611154          | 19.900057       |"
       ]
      },
      {
       "html": [
        "<pre>PROGRESS: | 8         | 8100     | 43528.087946 | 0.611481          | 19.981619       |</pre>"
       ],
       "metadata": {},
       "output_type": "display_data",
       "text": [
        "PROGRESS: | 8         | 8100     | 43528.087946 | 0.611481          | 19.981619       |"
       ]
      },
      {
       "html": [
        "<pre>PROGRESS: | 8         | 8400     | 43542.549018 | 0.611190          | 20.745354       |</pre>"
       ],
       "metadata": {},
       "output_type": "display_data",
       "text": [
        "PROGRESS: | 8         | 8400     | 43542.549018 | 0.611190          | 20.745354       |"
       ]
      },
      {
       "html": [
        "<pre>PROGRESS: | 8         | 8700     | 43557.175315 | 0.608391          | 20.510998       |</pre>"
       ],
       "metadata": {},
       "output_type": "display_data",
       "text": [
        "PROGRESS: | 8         | 8700     | 43557.175315 | 0.608391          | 20.510998       |"
       ]
      },
      {
       "html": [
        "<pre>PROGRESS: | 8         | 9000     | 43571.724806 | 0.603778          | 20.619276       |</pre>"
       ],
       "metadata": {},
       "output_type": "display_data",
       "text": [
        "PROGRESS: | 8         | 9000     | 43571.724806 | 0.603778          | 20.619276       |"
       ]
      },
      {
       "html": [
        "<pre>PROGRESS: | 8         | 9300     | 43586.140889 | 0.599677          | 20.810093       |</pre>"
       ],
       "metadata": {},
       "output_type": "display_data",
       "text": [
        "PROGRESS: | 8         | 9300     | 43586.140889 | 0.599677          | 20.810093       |"
       ]
      },
      {
       "html": [
        "<pre>PROGRESS: | 8         | 9600     | 43600.995120 | 0.598333          | 20.196264       |</pre>"
       ],
       "metadata": {},
       "output_type": "display_data",
       "text": [
        "PROGRESS: | 8         | 9600     | 43600.995120 | 0.598333          | 20.196264       |"
       ]
      },
      {
       "html": [
        "<pre>PROGRESS: | 8         | 9900     | 43615.286019 | 0.596162          | 20.992380       |</pre>"
       ],
       "metadata": {},
       "output_type": "display_data",
       "text": [
        "PROGRESS: | 8         | 9900     | 43615.286019 | 0.596162          | 20.992380       |"
       ]
      },
      {
       "html": [
        "<pre>PROGRESS: | 8         | 10200    | 43629.312951 | 0.593726          | 21.387434       |</pre>"
       ],
       "metadata": {},
       "output_type": "display_data",
       "text": [
        "PROGRESS: | 8         | 10200    | 43629.312951 | 0.593726          | 21.387434       |"
       ]
      },
      {
       "html": [
        "<pre>PROGRESS: | 8         | 10500    | 43644.062034 | 0.591905          | 20.340248       |</pre>"
       ],
       "metadata": {},
       "output_type": "display_data",
       "text": [
        "PROGRESS: | 8         | 10500    | 43644.062034 | 0.591905          | 20.340248       |"
       ]
      },
      {
       "html": [
        "<pre>PROGRESS: | 8         | 10800    | 43658.441581 | 0.591389          | 20.862963       |</pre>"
       ],
       "metadata": {},
       "output_type": "display_data",
       "text": [
        "PROGRESS: | 8         | 10800    | 43658.441581 | 0.591389          | 20.862963       |"
       ]
      },
      {
       "html": [
        "<pre>PROGRESS: | 8         | 11100    | 43672.201905 | 0.593243          | 21.801813       |</pre>"
       ],
       "metadata": {},
       "output_type": "display_data",
       "text": [
        "PROGRESS: | 8         | 11100    | 43672.201905 | 0.593243          | 21.801813       |"
       ]
      },
      {
       "html": [
        "<pre>PROGRESS: | 8         | 11400    | 43686.904407 | 0.593333          | 20.404692       |</pre>"
       ],
       "metadata": {},
       "output_type": "display_data",
       "text": [
        "PROGRESS: | 8         | 11400    | 43686.904407 | 0.593333          | 20.404692       |"
       ]
      },
      {
       "html": [
        "<pre>PROGRESS: | 8         | 11700    | 43701.450279 | 0.593077          | 20.624405       |</pre>"
       ],
       "metadata": {},
       "output_type": "display_data",
       "text": [
        "PROGRESS: | 8         | 11700    | 43701.450279 | 0.593077          | 20.624405       |"
       ]
      },
      {
       "html": [
        "<pre>PROGRESS: | 8         | 11900    | 43711.533413 | 0.593866          | 19.835102       |</pre>"
       ],
       "metadata": {},
       "output_type": "display_data",
       "text": [
        "PROGRESS: | 8         | 11900    | 43711.533413 | 0.593866          | 19.835102       |"
       ]
      },
      {
       "html": [
        "<pre>PROGRESS: | 8         | 12200    | 43725.774701 | 0.595164          | 21.065508       |</pre>"
       ],
       "metadata": {},
       "output_type": "display_data",
       "text": [
        "PROGRESS: | 8         | 12200    | 43725.774701 | 0.595164          | 21.065508       |"
       ]
      },
      {
       "html": [
        "<pre>PROGRESS: | 8         | 12500    | 43739.994830 | 0.594720          | 21.096857       |</pre>"
       ],
       "metadata": {},
       "output_type": "display_data",
       "text": [
        "PROGRESS: | 8         | 12500    | 43739.994830 | 0.594720          | 21.096857       |"
       ]
      },
      {
       "html": [
        "<pre>PROGRESS: | 8         | 12800    | 43754.597648 | 0.593750          | 20.543982       |</pre>"
       ],
       "metadata": {},
       "output_type": "display_data",
       "text": [
        "PROGRESS: | 8         | 12800    | 43754.597648 | 0.593750          | 20.543982       |"
       ]
      },
      {
       "html": [
        "<pre>PROGRESS: | 8         | 13100    | 43769.045323 | 0.593053          | 20.764585       |</pre>"
       ],
       "metadata": {},
       "output_type": "display_data",
       "text": [
        "PROGRESS: | 8         | 13100    | 43769.045323 | 0.593053          | 20.764585       |"
       ]
      },
      {
       "html": [
        "<pre>PROGRESS: | 8         | 13400    | 43783.504865 | 0.592537          | 20.747545       |</pre>"
       ],
       "metadata": {},
       "output_type": "display_data",
       "text": [
        "PROGRESS: | 8         | 13400    | 43783.504865 | 0.592537          | 20.747545       |"
       ]
      },
      {
       "html": [
        "<pre>PROGRESS: | 8         | 13700    | 43798.290617 | 0.591752          | 20.289808       |</pre>"
       ],
       "metadata": {},
       "output_type": "display_data",
       "text": [
        "PROGRESS: | 8         | 13700    | 43798.290617 | 0.591752          | 20.289808       |"
       ]
      },
      {
       "html": [
        "<pre>PROGRESS: | 8         | 14000    | 43813.171395 | 0.591857          | 20.160234       |</pre>"
       ],
       "metadata": {},
       "output_type": "display_data",
       "text": [
        "PROGRESS: | 8         | 14000    | 43813.171395 | 0.591857          | 20.160234       |"
       ]
      },
      {
       "html": [
        "<pre>PROGRESS: | 8         | 14300    | 43827.002100 | 0.591678          | 21.690866       |</pre>"
       ],
       "metadata": {},
       "output_type": "display_data",
       "text": [
        "PROGRESS: | 8         | 14300    | 43827.002100 | 0.591678          | 21.690866       |"
       ]
      },
      {
       "html": [
        "<pre>PROGRESS: | 8         | 14500    | 43837.255017 | 0.590414          | 19.506651       |</pre>"
       ],
       "metadata": {},
       "output_type": "display_data",
       "text": [
        "PROGRESS: | 8         | 14500    | 43837.255017 | 0.590414          | 19.506651       |"
       ]
      },
      {
       "html": [
        "<pre>PROGRESS: | 8         | 14800    | 43851.547333 | 0.588243          | 20.990299       |</pre>"
       ],
       "metadata": {},
       "output_type": "display_data",
       "text": [
        "PROGRESS: | 8         | 14800    | 43851.547333 | 0.588243          | 20.990299       |"
       ]
      },
      {
       "html": [
        "<pre>PROGRESS: | 8         | 15100    | 43866.048799 | 0.588609          | 20.687565       |</pre>"
       ],
       "metadata": {},
       "output_type": "display_data",
       "text": [
        "PROGRESS: | 8         | 15100    | 43866.048799 | 0.588609          | 20.687565       |"
       ]
      },
      {
       "html": [
        "<pre>PROGRESS: | 8         | 15400    | 43880.483767 | 0.588182          | 20.782864       |</pre>"
       ],
       "metadata": {},
       "output_type": "display_data",
       "text": [
        "PROGRESS: | 8         | 15400    | 43880.483767 | 0.588182          | 20.782864       |"
       ]
      },
      {
       "html": [
        "<pre>PROGRESS: | 8         | 15700    | 43894.692042 | 0.588408          | 21.114452       |</pre>"
       ],
       "metadata": {},
       "output_type": "display_data",
       "text": [
        "PROGRESS: | 8         | 15700    | 43894.692042 | 0.588408          | 21.114452       |"
       ]
      },
      {
       "html": [
        "<pre>PROGRESS: | 8         | 16000    | 43909.666511 | 0.589562          | 20.034098       |</pre>"
       ],
       "metadata": {},
       "output_type": "display_data",
       "text": [
        "PROGRESS: | 8         | 16000    | 43909.666511 | 0.589562          | 20.034098       |"
       ]
      },
      {
       "html": [
        "<pre>PROGRESS: | 8         | 16300    | 43923.569311 | 0.589018          | 21.578388       |</pre>"
       ],
       "metadata": {},
       "output_type": "display_data",
       "text": [
        "PROGRESS: | 8         | 16300    | 43923.569311 | 0.589018          | 21.578388       |"
       ]
      },
      {
       "html": [
        "<pre>PROGRESS: | 8         | 16600    | 43938.369997 | 0.589036          | 20.269329       |</pre>"
       ],
       "metadata": {},
       "output_type": "display_data",
       "text": [
        "PROGRESS: | 8         | 16600    | 43938.369997 | 0.589036          | 20.269329       |"
       ]
      },
      {
       "html": [
        "<pre>PROGRESS: | 8         | 16800    | 43948.578554 | 0.588988          | 19.591406       |</pre>"
       ],
       "metadata": {},
       "output_type": "display_data",
       "text": [
        "PROGRESS: | 8         | 16800    | 43948.578554 | 0.588988          | 19.591406       |"
       ]
      },
      {
       "html": [
        "<pre>PROGRESS: | 8         | 17100    | 43962.746530 | 0.588480          | 21.174513       |</pre>"
       ],
       "metadata": {},
       "output_type": "display_data",
       "text": [
        "PROGRESS: | 8         | 17100    | 43962.746530 | 0.588480          | 21.174513       |"
       ]
      },
      {
       "html": [
        "<pre>PROGRESS: | 8         | 17400    | 43977.561390 | 0.587644          | 20.249943       |</pre>"
       ],
       "metadata": {},
       "output_type": "display_data",
       "text": [
        "PROGRESS: | 8         | 17400    | 43977.561390 | 0.587644          | 20.249943       |"
       ]
      },
      {
       "html": [
        "<pre>PROGRESS: | 8         | 17700    | 43991.860889 | 0.587119          | 20.979755       |</pre>"
       ],
       "metadata": {},
       "output_type": "display_data",
       "text": [
        "PROGRESS: | 8         | 17700    | 43991.860889 | 0.587119          | 20.979755       |"
       ]
      },
      {
       "html": [
        "<pre>PROGRESS: | 8         | 18000    | 44006.583560 | 0.587778          | 20.376736       |</pre>"
       ],
       "metadata": {},
       "output_type": "display_data",
       "text": [
        "PROGRESS: | 8         | 18000    | 44006.583560 | 0.587778          | 20.376736       |"
       ]
      },
      {
       "html": [
        "<pre>PROGRESS: | 8         | 18300    | 44021.147710 | 0.587705          | 20.598524       |</pre>"
       ],
       "metadata": {},
       "output_type": "display_data",
       "text": [
        "PROGRESS: | 8         | 18300    | 44021.147710 | 0.587705          | 20.598524       |"
       ]
      },
      {
       "html": [
        "<pre>PROGRESS: | 8         | 18600    | 44035.281543 | 0.588226          | 21.225664       |</pre>"
       ],
       "metadata": {},
       "output_type": "display_data",
       "text": [
        "PROGRESS: | 8         | 18600    | 44035.281543 | 0.588226          | 21.225664       |"
       ]
      },
      {
       "html": [
        "<pre>PROGRESS: | 8         | 18900    | 44049.933022 | 0.588201          | 20.475748       |</pre>"
       ],
       "metadata": {},
       "output_type": "display_data",
       "text": [
        "PROGRESS: | 8         | 18900    | 44049.933022 | 0.588201          | 20.475748       |"
       ]
      },
      {
       "html": [
        "<pre>PROGRESS: | 8         | 19200    | 44064.619019 | 0.588281          | 20.427622       |</pre>"
       ],
       "metadata": {},
       "output_type": "display_data",
       "text": [
        "PROGRESS: | 8         | 19200    | 44064.619019 | 0.588281          | 20.427622       |"
       ]
      },
      {
       "html": [
        "<pre>PROGRESS: | 8         | 19500    | 44078.518064 | 0.588462          | 21.584215       |</pre>"
       ],
       "metadata": {},
       "output_type": "display_data",
       "text": [
        "PROGRESS: | 8         | 19500    | 44078.518064 | 0.588462          | 21.584215       |"
       ]
      },
      {
       "html": [
        "<pre>PROGRESS: | 8         | 19800    | 44092.785864 | 0.588737          | 21.026371       |</pre>"
       ],
       "metadata": {},
       "output_type": "display_data",
       "text": [
        "PROGRESS: | 8         | 19800    | 44092.785864 | 0.588737          | 21.026371       |"
       ]
      },
      {
       "html": [
        "<pre>PROGRESS: | 8         | 20100    | 44107.154117 | 0.587861          | 20.879360       |</pre>"
       ],
       "metadata": {},
       "output_type": "display_data",
       "text": [
        "PROGRESS: | 8         | 20100    | 44107.154117 | 0.587861          | 20.879360       |"
       ]
      },
      {
       "html": [
        "<pre>PROGRESS: | 8         | 20100    | 44107.154287 | 0.587861          | 20.879360       |</pre>"
       ],
       "metadata": {},
       "output_type": "display_data",
       "text": [
        "PROGRESS: | 8         | 20100    | 44107.154287 | 0.587861          | 20.879360       |"
       ]
      },
      {
       "html": [
        "<pre>PROGRESS: | 9         | 300      | 44121.622859 | 0.600000          | 20.734861       |</pre>"
       ],
       "metadata": {},
       "output_type": "display_data",
       "text": [
        "PROGRESS: | 9         | 300      | 44121.622859 | 0.600000          | 20.734861       |"
       ]
      },
      {
       "html": [
        "<pre>PROGRESS: | 9         | 600      | 44136.072401 | 0.611667          | 20.761904       |</pre>"
       ],
       "metadata": {},
       "output_type": "display_data",
       "text": [
        "PROGRESS: | 9         | 600      | 44136.072401 | 0.611667          | 20.761904       |"
       ]
      },
      {
       "html": [
        "<pre>PROGRESS: | 9         | 800      | 44146.267304 | 0.598750          | 19.617645       |</pre>"
       ],
       "metadata": {},
       "output_type": "display_data",
       "text": [
        "PROGRESS: | 9         | 800      | 44146.267304 | 0.598750          | 19.617645       |"
       ]
      },
      {
       "html": [
        "<pre>PROGRESS: | 9         | 1000     | 44156.483004 | 0.593000          | 19.577709       |</pre>"
       ],
       "metadata": {},
       "output_type": "display_data",
       "text": [
        "PROGRESS: | 9         | 1000     | 44156.483004 | 0.593000          | 19.577709       |"
       ]
      },
      {
       "html": [
        "<pre>PROGRESS: | 9         | 1300     | 44171.447218 | 0.590000          | 20.047829       |</pre>"
       ],
       "metadata": {},
       "output_type": "display_data",
       "text": [
        "PROGRESS: | 9         | 1300     | 44171.447218 | 0.590000          | 20.047829       |"
       ]
      },
      {
       "html": [
        "<pre>PROGRESS: | 9         | 1600     | 44186.049204 | 0.593125          | 20.545155       |</pre>"
       ],
       "metadata": {},
       "output_type": "display_data",
       "text": [
        "PROGRESS: | 9         | 1600     | 44186.049204 | 0.593125          | 20.545155       |"
       ]
      },
      {
       "html": [
        "<pre>PROGRESS: | 9         | 1900     | 44201.354023 | 0.604211          | 19.601665       |</pre>"
       ],
       "metadata": {},
       "output_type": "display_data",
       "text": [
        "PROGRESS: | 9         | 1900     | 44201.354023 | 0.604211          | 19.601665       |"
       ]
      },
      {
       "html": [
        "<pre>PROGRESS: | 9         | 2100     | 44211.812910 | 0.609048          | 19.122498       |</pre>"
       ],
       "metadata": {},
       "output_type": "display_data",
       "text": [
        "PROGRESS: | 9         | 2100     | 44211.812910 | 0.609048          | 19.122498       |"
       ]
      },
      {
       "html": [
        "<pre>PROGRESS: | 9         | 2300     | 44222.160676 | 0.608696          | 19.327888       |</pre>"
       ],
       "metadata": {},
       "output_type": "display_data",
       "text": [
        "PROGRESS: | 9         | 2300     | 44222.160676 | 0.608696          | 19.327888       |"
       ]
      },
      {
       "html": [
        "<pre>PROGRESS: | 9         | 2500     | 44232.273611 | 0.608800          | 19.776600       |</pre>"
       ],
       "metadata": {},
       "output_type": "display_data",
       "text": [
        "PROGRESS: | 9         | 2500     | 44232.273611 | 0.608800          | 19.776600       |"
       ]
      },
      {
       "html": [
        "<pre>PROGRESS: | 9         | 2700     | 44242.645646 | 0.608148          | 19.282619       |</pre>"
       ],
       "metadata": {},
       "output_type": "display_data",
       "text": [
        "PROGRESS: | 9         | 2700     | 44242.645646 | 0.608148          | 19.282619       |"
       ]
      },
      {
       "html": [
        "<pre>PROGRESS: | 9         | 3000     | 44257.661411 | 0.606333          | 19.979008       |</pre>"
       ],
       "metadata": {},
       "output_type": "display_data",
       "text": [
        "PROGRESS: | 9         | 3000     | 44257.661411 | 0.606333          | 19.979008       |"
       ]
      },
      {
       "html": [
        "<pre>PROGRESS: | 9         | 3300     | 44271.506883 | 0.602424          | 21.667727       |</pre>"
       ],
       "metadata": {},
       "output_type": "display_data",
       "text": [
        "PROGRESS: | 9         | 3300     | 44271.506883 | 0.602424          | 21.667727       |"
       ]
      },
      {
       "html": [
        "<pre>PROGRESS: | 9         | 3500     | 44281.814413 | 0.605429          | 19.403292       |</pre>"
       ],
       "metadata": {},
       "output_type": "display_data",
       "text": [
        "PROGRESS: | 9         | 3500     | 44281.814413 | 0.605429          | 19.403292       |"
       ]
      },
      {
       "html": [
        "<pre>PROGRESS: | 9         | 3700     | 44292.253583 | 0.602703          | 19.158611       |</pre>"
       ],
       "metadata": {},
       "output_type": "display_data",
       "text": [
        "PROGRESS: | 9         | 3700     | 44292.253583 | 0.602703          | 19.158611       |"
       ]
      },
      {
       "html": [
        "<pre>PROGRESS: | 9         | 4000     | 44306.794300 | 0.607000          | 20.631723       |</pre>"
       ],
       "metadata": {},
       "output_type": "display_data",
       "text": [
        "PROGRESS: | 9         | 4000     | 44306.794300 | 0.607000          | 20.631723       |"
       ]
      },
      {
       "html": [
        "<pre>PROGRESS: | 9         | 4200     | 44316.968012 | 0.603095          | 19.658504       |</pre>"
       ],
       "metadata": {},
       "output_type": "display_data",
       "text": [
        "PROGRESS: | 9         | 4200     | 44316.968012 | 0.603095          | 19.658504       |"
       ]
      },
      {
       "html": [
        "<pre>PROGRESS: | 9         | 4500     | 44331.548059 | 0.604889          | 20.576063       |</pre>"
       ],
       "metadata": {},
       "output_type": "display_data",
       "text": [
        "PROGRESS: | 9         | 4500     | 44331.548059 | 0.604889          | 20.576063       |"
       ]
      },
      {
       "html": [
        "<pre>PROGRESS: | 9         | 4800     | 44346.092828 | 0.603750          | 20.625977       |</pre>"
       ],
       "metadata": {},
       "output_type": "display_data",
       "text": [
        "PROGRESS: | 9         | 4800     | 44346.092828 | 0.603750          | 20.625977       |"
       ]
      },
      {
       "html": [
        "<pre>PROGRESS: | 9         | 5100     | 44360.815922 | 0.605294          | 20.376152       |</pre>"
       ],
       "metadata": {},
       "output_type": "display_data",
       "text": [
        "PROGRESS: | 9         | 5100     | 44360.815922 | 0.605294          | 20.376152       |"
       ]
      },
      {
       "html": [
        "<pre>PROGRESS: | 9         | 5400     | 44375.426740 | 0.607778          | 20.532726       |</pre>"
       ],
       "metadata": {},
       "output_type": "display_data",
       "text": [
        "PROGRESS: | 9         | 5400     | 44375.426740 | 0.607778          | 20.532726       |"
       ]
      },
      {
       "html": [
        "<pre>PROGRESS: | 9         | 5700     | 44389.243684 | 0.607544          | 21.712469       |</pre>"
       ],
       "metadata": {},
       "output_type": "display_data",
       "text": [
        "PROGRESS: | 9         | 5700     | 44389.243684 | 0.607544          | 21.712469       |"
       ]
      },
      {
       "html": [
        "<pre>PROGRESS: | 9         | 5900     | 44399.320838 | 0.606780          | 19.846880       |</pre>"
       ],
       "metadata": {},
       "output_type": "display_data",
       "text": [
        "PROGRESS: | 9         | 5900     | 44399.320838 | 0.606780          | 19.846880       |"
       ]
      },
      {
       "html": [
        "<pre>PROGRESS: | 9         | 6200     | 44412.931533 | 0.606936          | 22.041489       |</pre>"
       ],
       "metadata": {},
       "output_type": "display_data",
       "text": [
        "PROGRESS: | 9         | 6200     | 44412.931533 | 0.606936          | 22.041489       |"
       ]
      },
      {
       "html": [
        "<pre>PROGRESS: | 9         | 6400     | 44423.158857 | 0.606562          | 19.555460       |</pre>"
       ],
       "metadata": {},
       "output_type": "display_data",
       "text": [
        "PROGRESS: | 9         | 6400     | 44423.158857 | 0.606562          | 19.555460       |"
       ]
      },
      {
       "html": [
        "<pre>PROGRESS: | 9         | 6700     | 44437.140552 | 0.606119          | 21.456627       |</pre>"
       ],
       "metadata": {},
       "output_type": "display_data",
       "text": [
        "PROGRESS: | 9         | 6700     | 44437.140552 | 0.606119          | 21.456627       |"
       ]
      },
      {
       "html": [
        "<pre>PROGRESS: | 9         | 7000     | 44451.514420 | 0.607571          | 20.871208       |</pre>"
       ],
       "metadata": {},
       "output_type": "display_data",
       "text": [
        "PROGRESS: | 9         | 7000     | 44451.514420 | 0.607571          | 20.871208       |"
       ]
      },
      {
       "html": [
        "<pre>PROGRESS: | 9         | 7300     | 44466.290595 | 0.606575          | 20.302954       |</pre>"
       ],
       "metadata": {},
       "output_type": "display_data",
       "text": [
        "PROGRESS: | 9         | 7300     | 44466.290595 | 0.606575          | 20.302954       |"
       ]
      },
      {
       "html": [
        "<pre>PROGRESS: | 9         | 7600     | 44480.337266 | 0.607763          | 21.357376       |</pre>"
       ],
       "metadata": {},
       "output_type": "display_data",
       "text": [
        "PROGRESS: | 9         | 7600     | 44480.337266 | 0.607763          | 21.357376       |"
       ]
      },
      {
       "html": [
        "<pre>PROGRESS: | 9         | 7900     | 44494.515431 | 0.607089          | 21.159294       |</pre>"
       ],
       "metadata": {},
       "output_type": "display_data",
       "text": [
        "PROGRESS: | 9         | 7900     | 44494.515431 | 0.607089          | 21.159294       |"
       ]
      },
      {
       "html": [
        "<pre>PROGRESS: | 9         | 8200     | 44509.581572 | 0.607195          | 19.912201       |</pre>"
       ],
       "metadata": {},
       "output_type": "display_data",
       "text": [
        "PROGRESS: | 9         | 8200     | 44509.581572 | 0.607195          | 19.912201       |"
       ]
      },
      {
       "html": [
        "<pre>PROGRESS: | 9         | 8500     | 44524.026468 | 0.606706          | 20.768578       |</pre>"
       ],
       "metadata": {},
       "output_type": "display_data",
       "text": [
        "PROGRESS: | 9         | 8500     | 44524.026468 | 0.606706          | 20.768578       |"
       ]
      },
      {
       "html": [
        "<pre>PROGRESS: | 9         | 8800     | 44538.532798 | 0.604886          | 20.680630       |</pre>"
       ],
       "metadata": {},
       "output_type": "display_data",
       "text": [
        "PROGRESS: | 9         | 8800     | 44538.532798 | 0.604886          | 20.680630       |"
       ]
      },
      {
       "html": [
        "<pre>PROGRESS: | 9         | 9100     | 44553.514833 | 0.603077          | 20.023981       |</pre>"
       ],
       "metadata": {},
       "output_type": "display_data",
       "text": [
        "PROGRESS: | 9         | 9100     | 44553.514833 | 0.603077          | 20.023981       |"
       ]
      },
      {
       "html": [
        "<pre>PROGRESS: | 9         | 9400     | 44567.688531 | 0.603191          | 21.165966       |</pre>"
       ],
       "metadata": {},
       "output_type": "display_data",
       "text": [
        "PROGRESS: | 9         | 9400     | 44567.688531 | 0.603191          | 21.165966       |"
       ]
      },
      {
       "html": [
        "<pre>PROGRESS: | 9         | 9700     | 44582.011530 | 0.602887          | 20.945345       |</pre>"
       ],
       "metadata": {},
       "output_type": "display_data",
       "text": [
        "PROGRESS: | 9         | 9700     | 44582.011530 | 0.602887          | 20.945345       |"
       ]
      },
      {
       "html": [
        "<pre>PROGRESS: | 9         | 9900     | 44592.178022 | 0.602626          | 19.672453       |</pre>"
       ],
       "metadata": {},
       "output_type": "display_data",
       "text": [
        "PROGRESS: | 9         | 9900     | 44592.178022 | 0.602626          | 19.672453       |"
       ]
      },
      {
       "html": [
        "<pre>PROGRESS: | 9         | 10100    | 44602.220086 | 0.602574          | 19.916225       |</pre>"
       ],
       "metadata": {},
       "output_type": "display_data",
       "text": [
        "PROGRESS: | 9         | 10100    | 44602.220086 | 0.602574          | 19.916225       |"
       ]
      },
      {
       "html": [
        "<pre>PROGRESS: | 9         | 10400    | 44616.380171 | 0.600192          | 21.186314       |</pre>"
       ],
       "metadata": {},
       "output_type": "display_data",
       "text": [
        "PROGRESS: | 9         | 10400    | 44616.380171 | 0.600192          | 21.186314       |"
       ]
      },
      {
       "html": [
        "<pre>PROGRESS: | 9         | 10700    | 44630.143235 | 0.599720          | 21.797480       |</pre>"
       ],
       "metadata": {},
       "output_type": "display_data",
       "text": [
        "PROGRESS: | 9         | 10700    | 44630.143235 | 0.599720          | 21.797480       |"
       ]
      },
      {
       "html": [
        "<pre>PROGRESS: | 9         | 10900    | 44640.313582 | 0.599358          | 19.665007       |</pre>"
       ],
       "metadata": {},
       "output_type": "display_data",
       "text": [
        "PROGRESS: | 9         | 10900    | 44640.313582 | 0.599358          | 19.665007       |"
       ]
      },
      {
       "html": [
        "<pre>PROGRESS: | 9         | 11200    | 44654.442814 | 0.600089          | 21.232574       |</pre>"
       ],
       "metadata": {},
       "output_type": "display_data",
       "text": [
        "PROGRESS: | 9         | 11200    | 44654.442814 | 0.600089          | 21.232574       |"
       ]
      },
      {
       "html": [
        "<pre>PROGRESS: | 9         | 11500    | 44669.092170 | 0.600609          | 20.478714       |</pre>"
       ],
       "metadata": {},
       "output_type": "display_data",
       "text": [
        "PROGRESS: | 9         | 11500    | 44669.092170 | 0.600609          | 20.478714       |"
       ]
      },
      {
       "html": [
        "<pre>PROGRESS: | 9         | 11800    | 44683.576849 | 0.602203          | 20.711544       |</pre>"
       ],
       "metadata": {},
       "output_type": "display_data",
       "text": [
        "PROGRESS: | 9         | 11800    | 44683.576849 | 0.602203          | 20.711544       |"
       ]
      },
      {
       "html": [
        "<pre>PROGRESS: | 9         | 12100    | 44698.477383 | 0.602645          | 20.133503       |</pre>"
       ],
       "metadata": {},
       "output_type": "display_data",
       "text": [
        "PROGRESS: | 9         | 12100    | 44698.477383 | 0.602645          | 20.133503       |"
       ]
      },
      {
       "html": [
        "<pre>PROGRESS: | 9         | 12400    | 44713.249192 | 0.602258          | 20.308954       |</pre>"
       ],
       "metadata": {},
       "output_type": "display_data",
       "text": [
        "PROGRESS: | 9         | 12400    | 44713.249192 | 0.602258          | 20.308954       |"
       ]
      },
      {
       "html": [
        "<pre>PROGRESS: | 9         | 12700    | 44727.951001 | 0.601102          | 20.405657       |</pre>"
       ],
       "metadata": {},
       "output_type": "display_data",
       "text": [
        "PROGRESS: | 9         | 12700    | 44727.951001 | 0.601102          | 20.405657       |"
       ]
      },
      {
       "html": [
        "<pre>PROGRESS: | 9         | 13000    | 44742.248773 | 0.599615          | 20.982290       |</pre>"
       ],
       "metadata": {},
       "output_type": "display_data",
       "text": [
        "PROGRESS: | 9         | 13000    | 44742.248773 | 0.599615          | 20.982290       |"
       ]
      },
      {
       "html": [
        "<pre>PROGRESS: | 9         | 13300    | 44756.683724 | 0.599248          | 20.782887       |</pre>"
       ],
       "metadata": {},
       "output_type": "display_data",
       "text": [
        "PROGRESS: | 9         | 13300    | 44756.683724 | 0.599248          | 20.782887       |"
       ]
      },
      {
       "html": [
        "<pre>PROGRESS: | 9         | 13600    | 44771.095382 | 0.598750          | 20.816481       |</pre>"
       ],
       "metadata": {},
       "output_type": "display_data",
       "text": [
        "PROGRESS: | 9         | 13600    | 44771.095382 | 0.598750          | 20.816481       |"
       ]
      },
      {
       "html": [
        "<pre>PROGRESS: | 9         | 13900    | 44785.532185 | 0.598058          | 20.780354       |</pre>"
       ],
       "metadata": {},
       "output_type": "display_data",
       "text": [
        "PROGRESS: | 9         | 13900    | 44785.532185 | 0.598058          | 20.780354       |"
       ]
      },
      {
       "html": [
        "<pre>PROGRESS: | 9         | 14200    | 44800.292789 | 0.598662          | 20.324249       |</pre>"
       ],
       "metadata": {},
       "output_type": "display_data",
       "text": [
        "PROGRESS: | 9         | 14200    | 44800.292789 | 0.598662          | 20.324249       |"
       ]
      },
      {
       "html": [
        "<pre>PROGRESS: | 9         | 14500    | 44814.977643 | 0.598483          | 20.429209       |</pre>"
       ],
       "metadata": {},
       "output_type": "display_data",
       "text": [
        "PROGRESS: | 9         | 14500    | 44814.977643 | 0.598483          | 20.429209       |"
       ]
      },
      {
       "html": [
        "<pre>PROGRESS: | 9         | 14800    | 44829.131864 | 0.598108          | 21.195093       |</pre>"
       ],
       "metadata": {},
       "output_type": "display_data",
       "text": [
        "PROGRESS: | 9         | 14800    | 44829.131864 | 0.598108          | 21.195093       |"
       ]
      },
      {
       "html": [
        "<pre>PROGRESS: | 9         | 15100    | 44843.920556 | 0.598079          | 20.285788       |</pre>"
       ],
       "metadata": {},
       "output_type": "display_data",
       "text": [
        "PROGRESS: | 9         | 15100    | 44843.920556 | 0.598079          | 20.285788       |"
       ]
      },
      {
       "html": [
        "<pre>PROGRESS: | 9         | 15400    | 44858.864402 | 0.599026          | 20.075136       |</pre>"
       ],
       "metadata": {},
       "output_type": "display_data",
       "text": [
        "PROGRESS: | 9         | 15400    | 44858.864402 | 0.599026          | 20.075136       |"
       ]
      },
      {
       "html": [
        "<pre>PROGRESS: | 9         | 15700    | 44872.946058 | 0.598854          | 21.304314       |</pre>"
       ],
       "metadata": {},
       "output_type": "display_data",
       "text": [
        "PROGRESS: | 9         | 15700    | 44872.946058 | 0.598854          | 21.304314       |"
       ]
      },
      {
       "html": [
        "<pre>PROGRESS: | 9         | 16000    | 44887.718733 | 0.599312          | 20.307764       |</pre>"
       ],
       "metadata": {},
       "output_type": "display_data",
       "text": [
        "PROGRESS: | 9         | 16000    | 44887.718733 | 0.599312          | 20.307764       |"
       ]
      },
      {
       "html": [
        "<pre>PROGRESS: | 9         | 16300    | 44902.199838 | 0.599448          | 20.716652       |</pre>"
       ],
       "metadata": {},
       "output_type": "display_data",
       "text": [
        "PROGRESS: | 9         | 16300    | 44902.199838 | 0.599448          | 20.716652       |"
       ]
      },
      {
       "html": [
        "<pre>PROGRESS: | 9         | 16600    | 44916.698087 | 0.599759          | 20.692152       |</pre>"
       ],
       "metadata": {},
       "output_type": "display_data",
       "text": [
        "PROGRESS: | 9         | 16600    | 44916.698087 | 0.599759          | 20.692152       |"
       ]
      },
      {
       "html": [
        "<pre>PROGRESS: | 9         | 16800    | 44926.735017 | 0.599940          | 19.926407       |</pre>"
       ],
       "metadata": {},
       "output_type": "display_data",
       "text": [
        "PROGRESS: | 9         | 16800    | 44926.735017 | 0.599940          | 19.926407       |"
       ]
      },
      {
       "html": [
        "<pre>PROGRESS: | 9         | 17000    | 44936.770996 | 0.599824          | 19.928307       |</pre>"
       ],
       "metadata": {},
       "output_type": "display_data",
       "text": [
        "PROGRESS: | 9         | 17000    | 44936.770996 | 0.599824          | 19.928307       |"
       ]
      },
      {
       "html": [
        "<pre>PROGRESS: | 9         | 17300    | 44951.271162 | 0.598844          | 20.689415       |</pre>"
       ],
       "metadata": {},
       "output_type": "display_data",
       "text": [
        "PROGRESS: | 9         | 17300    | 44951.271162 | 0.598844          | 20.689415       |"
       ]
      },
      {
       "html": [
        "<pre>PROGRESS: | 9         | 17600    | 44965.351565 | 0.598864          | 21.306215       |</pre>"
       ],
       "metadata": {},
       "output_type": "display_data",
       "text": [
        "PROGRESS: | 9         | 17600    | 44965.351565 | 0.598864          | 21.306215       |"
       ]
      },
      {
       "html": [
        "<pre>PROGRESS: | 9         | 17900    | 44979.767176 | 0.599274          | 20.810768       |</pre>"
       ],
       "metadata": {},
       "output_type": "display_data",
       "text": [
        "PROGRESS: | 9         | 17900    | 44979.767176 | 0.599274          | 20.810768       |"
       ]
      },
      {
       "html": [
        "<pre>PROGRESS: | 9         | 18200    | 44994.354260 | 0.599725          | 20.566137       |</pre>"
       ],
       "metadata": {},
       "output_type": "display_data",
       "text": [
        "PROGRESS: | 9         | 18200    | 44994.354260 | 0.599725          | 20.566137       |"
       ]
      },
      {
       "html": [
        "<pre>PROGRESS: | 9         | 18500    | 45008.465367 | 0.599730          | 21.259851       |</pre>"
       ],
       "metadata": {},
       "output_type": "display_data",
       "text": [
        "PROGRESS: | 9         | 18500    | 45008.465367 | 0.599730          | 21.259851       |"
       ]
      },
      {
       "html": [
        "<pre>PROGRESS: | 9         | 18700    | 45018.519563 | 0.600107          | 19.892193       |</pre>"
       ],
       "metadata": {},
       "output_type": "display_data",
       "text": [
        "PROGRESS: | 9         | 18700    | 45018.519563 | 0.600107          | 19.892193       |"
       ]
      },
      {
       "html": [
        "<pre>PROGRESS: | 9         | 19000    | 45032.843152 | 0.600632          | 20.944475       |</pre>"
       ],
       "metadata": {},
       "output_type": "display_data",
       "text": [
        "PROGRESS: | 9         | 19000    | 45032.843152 | 0.600632          | 20.944475       |"
       ]
      },
      {
       "html": [
        "<pre>PROGRESS: | 9         | 19300    | 45047.296527 | 0.600725          | 20.756392       |</pre>"
       ],
       "metadata": {},
       "output_type": "display_data",
       "text": [
        "PROGRESS: | 9         | 19300    | 45047.296527 | 0.600725          | 20.756392       |"
       ]
      },
      {
       "html": [
        "<pre>PROGRESS: | 9         | 19600    | 45061.605143 | 0.600051          | 20.966391       |</pre>"
       ],
       "metadata": {},
       "output_type": "display_data",
       "text": [
        "PROGRESS: | 9         | 19600    | 45061.605143 | 0.600051          | 20.966391       |"
       ]
      },
      {
       "html": [
        "<pre>PROGRESS: | 9         | 19900    | 45076.047633 | 0.598995          | 20.772039       |</pre>"
       ],
       "metadata": {},
       "output_type": "display_data",
       "text": [
        "PROGRESS: | 9         | 19900    | 45076.047633 | 0.598995          | 20.772039       |"
       ]
      },
      {
       "html": [
        "<pre>PROGRESS: | 9         | 20100    | 45086.023084 | 0.598756          | 20.049204       |</pre>"
       ],
       "metadata": {},
       "output_type": "display_data",
       "text": [
        "PROGRESS: | 9         | 20100    | 45086.023084 | 0.598756          | 20.049204       |"
       ]
      },
      {
       "html": [
        "<pre>PROGRESS: | 10        | 300      | 45100.443399 | 0.610000          | 20.818052       |</pre>"
       ],
       "metadata": {},
       "output_type": "display_data",
       "text": [
        "PROGRESS: | 10        | 300      | 45100.443399 | 0.610000          | 20.818052       |"
       ]
      },
      {
       "html": [
        "<pre>PROGRESS: | 10        | 600      | 45115.175540 | 0.600000          | 20.363634       |</pre>"
       ],
       "metadata": {},
       "output_type": "display_data",
       "text": [
        "PROGRESS: | 10        | 600      | 45115.175540 | 0.600000          | 20.363634       |"
       ]
      },
      {
       "html": [
        "<pre>PROGRESS: | 10        | 900      | 45129.528979 | 0.600000          | 20.900915       |</pre>"
       ],
       "metadata": {},
       "output_type": "display_data",
       "text": [
        "PROGRESS: | 10        | 900      | 45129.528979 | 0.600000          | 20.900915       |"
       ]
      },
      {
       "html": [
        "<pre>PROGRESS: | 10        | 1200     | 45143.381398 | 0.600833          | 21.656870       |</pre>"
       ],
       "metadata": {},
       "output_type": "display_data",
       "text": [
        "PROGRESS: | 10        | 1200     | 45143.381398 | 0.600833          | 21.656870       |"
       ]
      },
      {
       "html": [
        "<pre>PROGRESS: | 10        | 1500     | 45158.018660 | 0.598667          | 20.495632       |</pre>"
       ],
       "metadata": {},
       "output_type": "display_data",
       "text": [
        "PROGRESS: | 10        | 1500     | 45158.018660 | 0.598667          | 20.495632       |"
       ]
      },
      {
       "html": [
        "<pre>PROGRESS: | 10        | 1800     | 45172.538592 | 0.600556          | 20.661257       |</pre>"
       ],
       "metadata": {},
       "output_type": "display_data",
       "text": [
        "PROGRESS: | 10        | 1800     | 45172.538592 | 0.600556          | 20.661257       |"
       ]
      },
      {
       "html": [
        "<pre>PROGRESS: | 10        | 2100     | 45186.748296 | 0.602857          | 21.112335       |</pre>"
       ],
       "metadata": {},
       "output_type": "display_data",
       "text": [
        "PROGRESS: | 10        | 2100     | 45186.748296 | 0.602857          | 21.112335       |"
       ]
      },
      {
       "html": [
        "<pre>PROGRESS: | 10        | 2300     | 45196.779499 | 0.600870          | 19.937790       |</pre>"
       ],
       "metadata": {},
       "output_type": "display_data",
       "text": [
        "PROGRESS: | 10        | 2300     | 45196.779499 | 0.600870          | 19.937790       |"
       ]
      },
      {
       "html": [
        "<pre>PROGRESS: | 10        | 2600     | 45211.301923 | 0.600000          | 20.657705       |</pre>"
       ],
       "metadata": {},
       "output_type": "display_data",
       "text": [
        "PROGRESS: | 10        | 2600     | 45211.301923 | 0.600000          | 20.657705       |"
       ]
      },
      {
       "html": [
        "<pre>PROGRESS: | 10        | 2900     | 45225.209736 | 0.601034          | 21.570610       |</pre>"
       ],
       "metadata": {},
       "output_type": "display_data",
       "text": [
        "PROGRESS: | 10        | 2900     | 45225.209736 | 0.601034          | 21.570610       |"
       ]
      },
      {
       "html": [
        "<pre>PROGRESS: | 10        | 3200     | 45239.840478 | 0.601250          | 20.504770       |</pre>"
       ],
       "metadata": {},
       "output_type": "display_data",
       "text": [
        "PROGRESS: | 10        | 3200     | 45239.840478 | 0.601250          | 20.504770       |"
       ]
      },
      {
       "html": [
        "<pre>PROGRESS: | 10        | 3500     | 45254.147147 | 0.602571          | 20.969240       |</pre>"
       ],
       "metadata": {},
       "output_type": "display_data",
       "text": [
        "PROGRESS: | 10        | 3500     | 45254.147147 | 0.602571          | 20.969240       |"
       ]
      },
      {
       "html": [
        "<pre>PROGRESS: | 10        | 3800     | 45268.813096 | 0.604737          | 20.455555       |</pre>"
       ],
       "metadata": {},
       "output_type": "display_data",
       "text": [
        "PROGRESS: | 10        | 3800     | 45268.813096 | 0.604737          | 20.455555       |"
       ]
      },
      {
       "html": [
        "<pre>PROGRESS: | 10        | 4100     | 45283.078002 | 0.606098          | 21.030624       |</pre>"
       ],
       "metadata": {},
       "output_type": "display_data",
       "text": [
        "PROGRESS: | 10        | 4100     | 45283.078002 | 0.606098          | 21.030624       |"
       ]
      },
      {
       "html": [
        "<pre>PROGRESS: | 10        | 4400     | 45297.826248 | 0.606591          | 20.341425       |</pre>"
       ],
       "metadata": {},
       "output_type": "display_data",
       "text": [
        "PROGRESS: | 10        | 4400     | 45297.826248 | 0.606591          | 20.341425       |"
       ]
      },
      {
       "html": [
        "<pre>PROGRESS: | 10        | 4600     | 45307.952839 | 0.608913          | 19.749950       |</pre>"
       ],
       "metadata": {},
       "output_type": "display_data",
       "text": [
        "PROGRESS: | 10        | 4600     | 45307.952839 | 0.608913          | 19.749950       |"
       ]
      },
      {
       "html": [
        "<pre>PROGRESS: | 10        | 4900     | 45322.030822 | 0.613878          | 21.309872       |</pre>"
       ],
       "metadata": {},
       "output_type": "display_data",
       "text": [
        "PROGRESS: | 10        | 4900     | 45322.030822 | 0.613878          | 21.309872       |"
       ]
      },
      {
       "html": [
        "<pre>PROGRESS: | 10        | 5200     | 45335.989154 | 0.616154          | 21.492538       |</pre>"
       ],
       "metadata": {},
       "output_type": "display_data",
       "text": [
        "PROGRESS: | 10        | 5200     | 45335.989154 | 0.616154          | 21.492538       |"
       ]
      },
      {
       "html": [
        "<pre>PROGRESS: | 10        | 5500     | 45350.645021 | 0.620000          | 20.469622       |</pre>"
       ],
       "metadata": {},
       "output_type": "display_data",
       "text": [
        "PROGRESS: | 10        | 5500     | 45350.645021 | 0.620000          | 20.469622       |"
       ]
      },
      {
       "html": [
        "<pre>PROGRESS: | 10        | 5800     | 45365.199748 | 0.619828          | 20.611855       |</pre>"
       ],
       "metadata": {},
       "output_type": "display_data",
       "text": [
        "PROGRESS: | 10        | 5800     | 45365.199748 | 0.619828          | 20.611855       |"
       ]
      },
      {
       "html": [
        "<pre>PROGRESS: | 10        | 6100     | 45379.428441 | 0.622459          | 21.084162       |</pre>"
       ],
       "metadata": {},
       "output_type": "display_data",
       "text": [
        "PROGRESS: | 10        | 6100     | 45379.428441 | 0.622459          | 21.084162       |"
       ]
      },
      {
       "html": [
        "<pre>PROGRESS: | 10        | 6400     | 45394.040402 | 0.624844          | 20.531120       |</pre>"
       ],
       "metadata": {},
       "output_type": "display_data",
       "text": [
        "PROGRESS: | 10        | 6400     | 45394.040402 | 0.624844          | 20.531120       |"
       ]
      },
      {
       "html": [
        "<pre>PROGRESS: | 10        | 6700     | 45408.014962 | 0.625075          | 21.467583       |</pre>"
       ],
       "metadata": {},
       "output_type": "display_data",
       "text": [
        "PROGRESS: | 10        | 6700     | 45408.014962 | 0.625075          | 21.467583       |"
       ]
      },
      {
       "html": [
        "<pre>PROGRESS: | 10        | 7000     | 45422.415320 | 0.624286          | 20.832817       |</pre>"
       ],
       "metadata": {},
       "output_type": "display_data",
       "text": [
        "PROGRESS: | 10        | 7000     | 45422.415320 | 0.624286          | 20.832817       |"
       ]
      },
      {
       "html": [
        "<pre>PROGRESS: | 10        | 7300     | 45436.974001 | 0.622877          | 20.606266       |</pre>"
       ],
       "metadata": {},
       "output_type": "display_data",
       "text": [
        "PROGRESS: | 10        | 7300     | 45436.974001 | 0.622877          | 20.606266       |"
       ]
      },
      {
       "html": [
        "<pre>PROGRESS: | 10        | 7600     | 45451.303953 | 0.625132          | 20.935173       |</pre>"
       ],
       "metadata": {},
       "output_type": "display_data",
       "text": [
        "PROGRESS: | 10        | 7600     | 45451.303953 | 0.625132          | 20.935173       |"
       ]
      },
      {
       "html": [
        "<pre>PROGRESS: | 10        | 7900     | 45465.822200 | 0.625190          | 20.663652       |</pre>"
       ],
       "metadata": {},
       "output_type": "display_data",
       "text": [
        "PROGRESS: | 10        | 7900     | 45465.822200 | 0.625190          | 20.663652       |"
       ]
      },
      {
       "html": [
        "<pre>PROGRESS: | 10        | 8200     | 45480.124767 | 0.624634          | 20.975252       |</pre>"
       ],
       "metadata": {},
       "output_type": "display_data",
       "text": [
        "PROGRESS: | 10        | 8200     | 45480.124767 | 0.624634          | 20.975252       |"
       ]
      },
      {
       "html": [
        "<pre>PROGRESS: | 10        | 8500     | 45494.624619 | 0.624353          | 20.689871       |</pre>"
       ],
       "metadata": {},
       "output_type": "display_data",
       "text": [
        "PROGRESS: | 10        | 8500     | 45494.624619 | 0.624353          | 20.689871       |"
       ]
      },
      {
       "html": [
        "<pre>PROGRESS: | 10        | 8800     | 45509.387868 | 0.623409          | 20.320724       |</pre>"
       ],
       "metadata": {},
       "output_type": "display_data",
       "text": [
        "PROGRESS: | 10        | 8800     | 45509.387868 | 0.623409          | 20.320724       |"
       ]
      },
      {
       "html": [
        "<pre>PROGRESS: | 10        | 9100     | 45524.289225 | 0.621319          | 20.132397       |</pre>"
       ],
       "metadata": {},
       "output_type": "display_data",
       "text": [
        "PROGRESS: | 10        | 9100     | 45524.289225 | 0.621319          | 20.132397       |"
       ]
      },
      {
       "html": [
        "<pre>PROGRESS: | 10        | 9400     | 45538.425028 | 0.619894          | 21.222706       |</pre>"
       ],
       "metadata": {},
       "output_type": "display_data",
       "text": [
        "PROGRESS: | 10        | 9400     | 45538.425028 | 0.619894          | 21.222706       |"
       ]
      },
      {
       "html": [
        "<pre>PROGRESS: | 10        | 9600     | 45548.537800 | 0.619271          | 19.776987       |</pre>"
       ],
       "metadata": {},
       "output_type": "display_data",
       "text": [
        "PROGRESS: | 10        | 9600     | 45548.537800 | 0.619271          | 19.776987       |"
       ]
      },
      {
       "html": [
        "<pre>PROGRESS: | 10        | 9900     | 45562.892238 | 0.617879          | 20.899448       |</pre>"
       ],
       "metadata": {},
       "output_type": "display_data",
       "text": [
        "PROGRESS: | 10        | 9900     | 45562.892238 | 0.617879          | 20.899448       |"
       ]
      },
      {
       "html": [
        "<pre>PROGRESS: | 10        | 10200    | 45578.053757 | 0.616863          | 19.786940       |</pre>"
       ],
       "metadata": {},
       "output_type": "display_data",
       "text": [
        "PROGRESS: | 10        | 10200    | 45578.053757 | 0.616863          | 19.786940       |"
       ]
      },
      {
       "html": [
        "<pre>PROGRESS: | 10        | 10500    | 45591.918968 | 0.616381          | 21.636883       |</pre>"
       ],
       "metadata": {},
       "output_type": "display_data",
       "text": [
        "PROGRESS: | 10        | 10500    | 45591.918968 | 0.616381          | 21.636883       |"
       ]
      },
      {
       "html": [
        "<pre>PROGRESS: | 10        | 10800    | 45606.742653 | 0.616389          | 20.237883       |</pre>"
       ],
       "metadata": {},
       "output_type": "display_data",
       "text": [
        "PROGRESS: | 10        | 10800    | 45606.742653 | 0.616389          | 20.237883       |"
       ]
      },
      {
       "html": [
        "<pre>PROGRESS: | 10        | 11100    | 45621.329517 | 0.616757          | 20.566448       |</pre>"
       ],
       "metadata": {},
       "output_type": "display_data",
       "text": [
        "PROGRESS: | 10        | 11100    | 45621.329517 | 0.616757          | 20.566448       |"
       ]
      },
      {
       "html": [
        "<pre>PROGRESS: | 10        | 11400    | 45635.413763 | 0.614912          | 21.300394       |</pre>"
       ],
       "metadata": {},
       "output_type": "display_data",
       "text": [
        "PROGRESS: | 10        | 11400    | 45635.413763 | 0.614912          | 21.300394       |"
       ]
      },
      {
       "html": [
        "<pre>PROGRESS: | 10        | 11700    | 45649.925240 | 0.611795          | 20.673290       |</pre>"
       ],
       "metadata": {},
       "output_type": "display_data",
       "text": [
        "PROGRESS: | 10        | 11700    | 45649.925240 | 0.611795          | 20.673290       |"
       ]
      },
      {
       "html": [
        "<pre>PROGRESS: | 10        | 12000    | 45664.623760 | 0.611167          | 20.410221       |</pre>"
       ],
       "metadata": {},
       "output_type": "display_data",
       "text": [
        "PROGRESS: | 10        | 12000    | 45664.623760 | 0.611167          | 20.410221       |"
       ]
      },
      {
       "html": [
        "<pre>PROGRESS: | 10        | 12300    | 45679.571817 | 0.610732          | 20.069500       |</pre>"
       ],
       "metadata": {},
       "output_type": "display_data",
       "text": [
        "PROGRESS: | 10        | 12300    | 45679.571817 | 0.610732          | 20.069500       |"
       ]
      },
      {
       "html": [
        "<pre>PROGRESS: | 10        | 12600    | 45694.099299 | 0.609603          | 20.650515       |</pre>"
       ],
       "metadata": {},
       "output_type": "display_data",
       "text": [
        "PROGRESS: | 10        | 12600    | 45694.099299 | 0.609603          | 20.650515       |"
       ]
      },
      {
       "html": [
        "<pre>PROGRESS: | 10        | 12900    | 45708.756797 | 0.608450          | 20.467340       |</pre>"
       ],
       "metadata": {},
       "output_type": "display_data",
       "text": [
        "PROGRESS: | 10        | 12900    | 45708.756797 | 0.608450          | 20.467340       |"
       ]
      },
      {
       "html": [
        "<pre>PROGRESS: | 10        | 13200    | 45723.686149 | 0.606970          | 20.094646       |</pre>"
       ],
       "metadata": {},
       "output_type": "display_data",
       "text": [
        "PROGRESS: | 10        | 13200    | 45723.686149 | 0.606970          | 20.094646       |"
       ]
      },
      {
       "html": [
        "<pre>PROGRESS: | 10        | 13500    | 45738.097824 | 0.605778          | 20.816450       |</pre>"
       ],
       "metadata": {},
       "output_type": "display_data",
       "text": [
        "PROGRESS: | 10        | 13500    | 45738.097824 | 0.605778          | 20.816450       |"
       ]
      },
      {
       "html": [
        "<pre>PROGRESS: | 10        | 13800    | 45752.853491 | 0.606159          | 20.331175       |</pre>"
       ],
       "metadata": {},
       "output_type": "display_data",
       "text": [
        "PROGRESS: | 10        | 13800    | 45752.853491 | 0.606159          | 20.331175       |"
       ]
      },
      {
       "html": [
        "<pre>PROGRESS: | 10        | 14100    | 45766.902707 | 0.605887          | 21.353508       |</pre>"
       ],
       "metadata": {},
       "output_type": "display_data",
       "text": [
        "PROGRESS: | 10        | 14100    | 45766.902707 | 0.605887          | 21.353508       |"
       ]
      },
      {
       "html": [
        "<pre>PROGRESS: | 10        | 14400    | 45781.331083 | 0.605903          | 20.792362       |</pre>"
       ],
       "metadata": {},
       "output_type": "display_data",
       "text": [
        "PROGRESS: | 10        | 14400    | 45781.331083 | 0.605903          | 20.792362       |"
       ]
      },
      {
       "html": [
        "<pre>PROGRESS: | 10        | 14700    | 45796.322650 | 0.604898          | 20.011248       |</pre>"
       ],
       "metadata": {},
       "output_type": "display_data",
       "text": [
        "PROGRESS: | 10        | 14700    | 45796.322650 | 0.604898          | 20.011248       |"
       ]
      },
      {
       "html": [
        "<pre>PROGRESS: | 10        | 15000    | 45810.915485 | 0.605667          | 20.558035       |</pre>"
       ],
       "metadata": {},
       "output_type": "display_data",
       "text": [
        "PROGRESS: | 10        | 15000    | 45810.915485 | 0.605667          | 20.558035       |"
       ]
      },
      {
       "html": [
        "<pre>PROGRESS: | 10        | 15300    | 45824.985038 | 0.605556          | 21.322634       |</pre>"
       ],
       "metadata": {},
       "output_type": "display_data",
       "text": [
        "PROGRESS: | 10        | 15300    | 45824.985038 | 0.605556          | 21.322634       |"
       ]
      },
      {
       "html": [
        "<pre>PROGRESS: | 10        | 15600    | 45839.777986 | 0.604872          | 20.279932       |</pre>"
       ],
       "metadata": {},
       "output_type": "display_data",
       "text": [
        "PROGRESS: | 10        | 15600    | 45839.777986 | 0.604872          | 20.279932       |"
       ]
      },
      {
       "html": [
        "<pre>PROGRESS: | 10        | 15900    | 45854.106332 | 0.605597          | 20.937525       |</pre>"
       ],
       "metadata": {},
       "output_type": "display_data",
       "text": [
        "PROGRESS: | 10        | 15900    | 45854.106332 | 0.605597          | 20.937525       |"
       ]
      },
      {
       "html": [
        "<pre>PROGRESS: | 10        | 16200    | 45868.273287 | 0.605247          | 21.176037       |</pre>"
       ],
       "metadata": {},
       "output_type": "display_data",
       "text": [
        "PROGRESS: | 10        | 16200    | 45868.273287 | 0.605247          | 21.176037       |"
       ]
      },
      {
       "html": [
        "<pre>PROGRESS: | 10        | 16500    | 45883.124246 | 0.605394          | 20.200716       |</pre>"
       ],
       "metadata": {},
       "output_type": "display_data",
       "text": [
        "PROGRESS: | 10        | 16500    | 45883.124246 | 0.605394          | 20.200716       |"
       ]
      },
      {
       "html": [
        "<pre>PROGRESS: | 10        | 16800    | 45897.108422 | 0.605536          | 21.452820       |</pre>"
       ],
       "metadata": {},
       "output_type": "display_data",
       "text": [
        "PROGRESS: | 10        | 16800    | 45897.108422 | 0.605536          | 21.452820       |"
       ]
      },
      {
       "html": [
        "<pre>PROGRESS: | 10        | 17000    | 45907.554127 | 0.605471          | 19.146626       |</pre>"
       ],
       "metadata": {},
       "output_type": "display_data",
       "text": [
        "PROGRESS: | 10        | 17000    | 45907.554127 | 0.605471          | 19.146626       |"
       ]
      },
      {
       "html": [
        "<pre>PROGRESS: | 10        | 17300    | 45922.171776 | 0.604509          | 20.523138       |</pre>"
       ],
       "metadata": {},
       "output_type": "display_data",
       "text": [
        "PROGRESS: | 10        | 17300    | 45922.171776 | 0.604509          | 20.523138       |"
       ]
      },
      {
       "html": [
        "<pre>PROGRESS: | 10        | 17600    | 45936.488410 | 0.604034          | 20.954643       |</pre>"
       ],
       "metadata": {},
       "output_type": "display_data",
       "text": [
        "PROGRESS: | 10        | 17600    | 45936.488410 | 0.604034          | 20.954643       |"
       ]
      },
      {
       "html": [
        "<pre>PROGRESS: | 10        | 17900    | 45951.166793 | 0.603464          | 20.438219       |</pre>"
       ],
       "metadata": {},
       "output_type": "display_data",
       "text": [
        "PROGRESS: | 10        | 17900    | 45951.166793 | 0.603464          | 20.438219       |"
       ]
      },
      {
       "html": [
        "<pre>PROGRESS: | 10        | 18200    | 45965.753089 | 0.602747          | 20.567245       |</pre>"
       ],
       "metadata": {},
       "output_type": "display_data",
       "text": [
        "PROGRESS: | 10        | 18200    | 45965.753089 | 0.602747          | 20.567245       |"
       ]
      },
      {
       "html": [
        "<pre>PROGRESS: | 10        | 18500    | 45980.213504 | 0.602703          | 20.746296       |</pre>"
       ],
       "metadata": {},
       "output_type": "display_data",
       "text": [
        "PROGRESS: | 10        | 18500    | 45980.213504 | 0.602703          | 20.746296       |"
       ]
      },
      {
       "html": [
        "<pre>PROGRESS: | 10        | 18700    | 45990.261412 | 0.602567          | 19.904640       |</pre>"
       ],
       "metadata": {},
       "output_type": "display_data",
       "text": [
        "PROGRESS: | 10        | 18700    | 45990.261412 | 0.602567          | 19.904640       |"
       ]
      },
      {
       "html": [
        "<pre>PROGRESS: | 10        | 19000    | 46004.359620 | 0.601632          | 21.279301       |</pre>"
       ],
       "metadata": {},
       "output_type": "display_data",
       "text": [
        "PROGRESS: | 10        | 19000    | 46004.359620 | 0.601632          | 21.279301       |"
       ]
      },
      {
       "html": [
        "<pre>PROGRESS: | 10        | 19300    | 46018.854469 | 0.600155          | 20.697008       |</pre>"
       ],
       "metadata": {},
       "output_type": "display_data",
       "text": [
        "PROGRESS: | 10        | 19300    | 46018.854469 | 0.600155          | 20.697008       |"
       ]
      },
      {
       "html": [
        "<pre>PROGRESS: | 10        | 19600    | 46032.787925 | 0.599694          | 21.530910       |</pre>"
       ],
       "metadata": {},
       "output_type": "display_data",
       "text": [
        "PROGRESS: | 10        | 19600    | 46032.787925 | 0.599694          | 21.530910       |"
       ]
      },
      {
       "html": [
        "<pre>PROGRESS: | 10        | 19800    | 46043.392629 | 0.599192          | 18.873379       |</pre>"
       ],
       "metadata": {},
       "output_type": "display_data",
       "text": [
        "PROGRESS: | 10        | 19800    | 46043.392629 | 0.599192          | 18.873379       |"
       ]
      },
      {
       "html": [
        "<pre>PROGRESS: | 10        | 20100    | 46057.434649 | 0.598358          | 21.352634       |</pre>"
       ],
       "metadata": {},
       "output_type": "display_data",
       "text": [
        "PROGRESS: | 10        | 20100    | 46057.434649 | 0.598358          | 21.352634       |"
       ]
      },
      {
       "html": [
        "<pre>PROGRESS: | 10        | 20100    | 46057.434827 | 0.598358          | 21.352634       |</pre>"
       ],
       "metadata": {},
       "output_type": "display_data",
       "text": [
        "PROGRESS: | 10        | 20100    | 46057.434827 | 0.598358          | 21.352634       |"
       ]
      },
      {
       "html": [
        "<pre>PROGRESS: +-----------+----------+--------------+-------------------+-----------------+</pre>"
       ],
       "metadata": {},
       "output_type": "display_data",
       "text": [
        "PROGRESS: +-----------+----------+--------------+-------------------+-----------------+"
       ]
      },
      {
       "output_type": "stream",
       "stream": "stdout",
       "text": [
        "Using network:\n",
        "\n",
        "### network layers ###\n",
        "layer[0]: ConvolutionLayer\n",
        "  init_random = gaussian\n",
        "  padding = 0\n",
        "  stride = 2\n",
        "  num_channels = 10\n",
        "  num_groups = 1\n",
        "  kernel_size = 3\n",
        "layer[1]: MaxPoolingLayer\n",
        "  padding = 0\n",
        "  stride = 2\n",
        "  kernel_size = 3\n",
        "layer[2]: FlattenLayer\n",
        "layer[3]: FullConnectionLayer\n",
        "  init_sigma = 0.01\n",
        "  init_random = gaussian\n",
        "  init_bias = 0\n",
        "  num_hidden_units = 100\n",
        "layer[4]: RectifiedLinearLayer\n",
        "layer[5]: DropoutLayer\n",
        "  threshold = 0.5\n",
        "layer[6]: FullConnectionLayer\n",
        "  init_sigma = 0.01\n",
        "  init_random = gaussian\n",
        "  init_bias = 0\n",
        "  num_hidden_units = 2\n",
        "layer[7]: SoftmaxLayer\n",
        "### end network layers ###\n",
        "\n",
        "### network parameters ###\n",
        "learning_rate = 0.001\n",
        "momentum = 0.9\n",
        "### end network parameters ###\n",
        "\n"
       ]
      }
     ],
     "prompt_number": 22
    },
    {
     "cell_type": "code",
     "collapsed": false,
     "input": [
      "model.evaluate(cats_dogs_test)"
     ],
     "language": "python",
     "metadata": {},
     "outputs": [
      {
       "metadata": {},
       "output_type": "pyout",
       "prompt_number": 23,
       "text": [
        "{'accuracy': 0.5867999792098999, 'confusion_matrix': Columns:\n",
        " \ttarget_label\tint\n",
        " \tpredicted_label\tint\n",
        " \tcount\tint\n",
        " \n",
        " Rows: 4\n",
        " \n",
        " Data:\n",
        " +--------------+-----------------+-------+\n",
        " | target_label | predicted_label | count |\n",
        " +--------------+-----------------+-------+\n",
        " |      1       |        1        |  2194 |\n",
        " |      0       |        1        |  1752 |\n",
        " |      1       |        0        |  314  |\n",
        " |      0       |        0        |  740  |\n",
        " +--------------+-----------------+-------+\n",
        " [4 rows x 3 columns]}"
       ]
      }
     ],
     "prompt_number": 23
    },
    {
     "cell_type": "markdown",
     "metadata": {},
     "source": [
      "### Test the Pretrained Model on CiFar (another animal training set)\n",
      "\n",
      "    * Took about 20 hours to run (had other things running on computer in middle like video)\n",
      "    * Accuracy lower than the tutorial expected. Need to investigate further on difference"
     ]
    },
    {
     "cell_type": "code",
     "collapsed": false,
     "input": [
      "cifar_train = graphlab.SFrame('http://s3.amazonaws.com/GraphLab-Datasets/cifar_10/cifar_10_train_sframe')"
     ],
     "language": "python",
     "metadata": {},
     "outputs": [
      {
       "html": [
        "<pre>PROGRESS: Downloading http://s3.amazonaws.com/GraphLab-Datasets/cifar_10/cifar_10_train_sframe/dir_archive.ini to /var/tmp/graphlab-mwarrick/6034/000051.ini</pre>"
       ],
       "metadata": {},
       "output_type": "display_data",
       "text": [
        "PROGRESS: Downloading http://s3.amazonaws.com/GraphLab-Datasets/cifar_10/cifar_10_train_sframe/dir_archive.ini to /var/tmp/graphlab-mwarrick/6034/000051.ini"
       ]
      },
      {
       "html": [
        "<pre>PROGRESS: Downloading http://s3.amazonaws.com/GraphLab-Datasets/cifar_10/cifar_10_train_sframe/objects.bin to /var/tmp/graphlab-mwarrick/6034/000052.bin</pre>"
       ],
       "metadata": {},
       "output_type": "display_data",
       "text": [
        "PROGRESS: Downloading http://s3.amazonaws.com/GraphLab-Datasets/cifar_10/cifar_10_train_sframe/objects.bin to /var/tmp/graphlab-mwarrick/6034/000052.bin"
       ]
      },
      {
       "html": [
        "<pre>PROGRESS: Downloading http://s3.amazonaws.com/GraphLab-Datasets/cifar_10/cifar_10_train_sframe/m_4431b782.frame_idx to /var/tmp/graphlab-mwarrick/6034/000053.frame_idx</pre>"
       ],
       "metadata": {},
       "output_type": "display_data",
       "text": [
        "PROGRESS: Downloading http://s3.amazonaws.com/GraphLab-Datasets/cifar_10/cifar_10_train_sframe/m_4431b782.frame_idx to /var/tmp/graphlab-mwarrick/6034/000053.frame_idx"
       ]
      },
      {
       "html": [
        "<pre>PROGRESS: Downloading http://s3.amazonaws.com/GraphLab-Datasets/cifar_10/cifar_10_train_sframe/m_4431b782.sidx to /var/tmp/graphlab-mwarrick/6034/000054.sidx</pre>"
       ],
       "metadata": {},
       "output_type": "display_data",
       "text": [
        "PROGRESS: Downloading http://s3.amazonaws.com/GraphLab-Datasets/cifar_10/cifar_10_train_sframe/m_4431b782.sidx to /var/tmp/graphlab-mwarrick/6034/000054.sidx"
       ]
      },
      {
       "html": [
        "<pre>PROGRESS: Downloading http://s3.amazonaws.com/GraphLab-Datasets/cifar_10/cifar_10_train_sframe/m_4431b782.0000 to /var/tmp/graphlab-mwarrick/6034/000055.0000</pre>"
       ],
       "metadata": {},
       "output_type": "display_data",
       "text": [
        "PROGRESS: Downloading http://s3.amazonaws.com/GraphLab-Datasets/cifar_10/cifar_10_train_sframe/m_4431b782.0000 to /var/tmp/graphlab-mwarrick/6034/000055.0000"
       ]
      },
      {
       "html": [
        "<pre>PROGRESS: Downloading http://s3.amazonaws.com/GraphLab-Datasets/cifar_10/cifar_10_train_sframe/m_4431b782.0001 to /var/tmp/graphlab-mwarrick/6034/000056.0001</pre>"
       ],
       "metadata": {},
       "output_type": "display_data",
       "text": [
        "PROGRESS: Downloading http://s3.amazonaws.com/GraphLab-Datasets/cifar_10/cifar_10_train_sframe/m_4431b782.0001 to /var/tmp/graphlab-mwarrick/6034/000056.0001"
       ]
      },
      {
       "html": [
        "<pre>PROGRESS: Downloading http://s3.amazonaws.com/GraphLab-Datasets/cifar_10/cifar_10_train_sframe/m_4431b782.0002 to /var/tmp/graphlab-mwarrick/6034/000057.0002</pre>"
       ],
       "metadata": {},
       "output_type": "display_data",
       "text": [
        "PROGRESS: Downloading http://s3.amazonaws.com/GraphLab-Datasets/cifar_10/cifar_10_train_sframe/m_4431b782.0002 to /var/tmp/graphlab-mwarrick/6034/000057.0002"
       ]
      },
      {
       "html": [
        "<pre>PROGRESS: Downloading http://s3.amazonaws.com/GraphLab-Datasets/cifar_10/cifar_10_train_sframe/m_4431b782.0003 to /var/tmp/graphlab-mwarrick/6034/000058.0003</pre>"
       ],
       "metadata": {},
       "output_type": "display_data",
       "text": [
        "PROGRESS: Downloading http://s3.amazonaws.com/GraphLab-Datasets/cifar_10/cifar_10_train_sframe/m_4431b782.0003 to /var/tmp/graphlab-mwarrick/6034/000058.0003"
       ]
      }
     ],
     "prompt_number": 24
    },
    {
     "cell_type": "code",
     "collapsed": false,
     "input": [
      "cifar_test = graphlab.SFrame('http://s3.amazonaws.com/GraphLab-Datasets/cifar_10/cifar_10_test_sframe')"
     ],
     "language": "python",
     "metadata": {},
     "outputs": [
      {
       "html": [
        "<pre>PROGRESS: Downloading http://s3.amazonaws.com/GraphLab-Datasets/cifar_10/cifar_10_test_sframe/dir_archive.ini to /var/tmp/graphlab-mwarrick/6034/000059.ini</pre>"
       ],
       "metadata": {},
       "output_type": "display_data",
       "text": [
        "PROGRESS: Downloading http://s3.amazonaws.com/GraphLab-Datasets/cifar_10/cifar_10_test_sframe/dir_archive.ini to /var/tmp/graphlab-mwarrick/6034/000059.ini"
       ]
      },
      {
       "html": [
        "<pre>PROGRESS: Downloading http://s3.amazonaws.com/GraphLab-Datasets/cifar_10/cifar_10_test_sframe/objects.bin to /var/tmp/graphlab-mwarrick/6034/000060.bin</pre>"
       ],
       "metadata": {},
       "output_type": "display_data",
       "text": [
        "PROGRESS: Downloading http://s3.amazonaws.com/GraphLab-Datasets/cifar_10/cifar_10_test_sframe/objects.bin to /var/tmp/graphlab-mwarrick/6034/000060.bin"
       ]
      },
      {
       "html": [
        "<pre>PROGRESS: Downloading http://s3.amazonaws.com/GraphLab-Datasets/cifar_10/cifar_10_test_sframe/m_1c06dac8.frame_idx to /var/tmp/graphlab-mwarrick/6034/000061.frame_idx</pre>"
       ],
       "metadata": {},
       "output_type": "display_data",
       "text": [
        "PROGRESS: Downloading http://s3.amazonaws.com/GraphLab-Datasets/cifar_10/cifar_10_test_sframe/m_1c06dac8.frame_idx to /var/tmp/graphlab-mwarrick/6034/000061.frame_idx"
       ]
      },
      {
       "html": [
        "<pre>PROGRESS: Downloading http://s3.amazonaws.com/GraphLab-Datasets/cifar_10/cifar_10_test_sframe/m_1c06dac8.sidx to /var/tmp/graphlab-mwarrick/6034/000062.sidx</pre>"
       ],
       "metadata": {},
       "output_type": "display_data",
       "text": [
        "PROGRESS: Downloading http://s3.amazonaws.com/GraphLab-Datasets/cifar_10/cifar_10_test_sframe/m_1c06dac8.sidx to /var/tmp/graphlab-mwarrick/6034/000062.sidx"
       ]
      },
      {
       "html": [
        "<pre>PROGRESS: Downloading http://s3.amazonaws.com/GraphLab-Datasets/cifar_10/cifar_10_test_sframe/m_1c06dac8.0000 to /var/tmp/graphlab-mwarrick/6034/000063.0000</pre>"
       ],
       "metadata": {},
       "output_type": "display_data",
       "text": [
        "PROGRESS: Downloading http://s3.amazonaws.com/GraphLab-Datasets/cifar_10/cifar_10_test_sframe/m_1c06dac8.0000 to /var/tmp/graphlab-mwarrick/6034/000063.0000"
       ]
      },
      {
       "html": [
        "<pre>PROGRESS: Downloading http://s3.amazonaws.com/GraphLab-Datasets/cifar_10/cifar_10_test_sframe/m_1c06dac8.0001 to /var/tmp/graphlab-mwarrick/6034/000064.0001</pre>"
       ],
       "metadata": {},
       "output_type": "display_data",
       "text": [
        "PROGRESS: Downloading http://s3.amazonaws.com/GraphLab-Datasets/cifar_10/cifar_10_test_sframe/m_1c06dac8.0001 to /var/tmp/graphlab-mwarrick/6034/000064.0001"
       ]
      },
      {
       "html": [
        "<pre>PROGRESS: Downloading http://s3.amazonaws.com/GraphLab-Datasets/cifar_10/cifar_10_test_sframe/m_1c06dac8.0002 to /var/tmp/graphlab-mwarrick/6034/000065.0002</pre>"
       ],
       "metadata": {},
       "output_type": "display_data",
       "text": [
        "PROGRESS: Downloading http://s3.amazonaws.com/GraphLab-Datasets/cifar_10/cifar_10_test_sframe/m_1c06dac8.0002 to /var/tmp/graphlab-mwarrick/6034/000065.0002"
       ]
      },
      {
       "html": [
        "<pre>PROGRESS: Downloading http://s3.amazonaws.com/GraphLab-Datasets/cifar_10/cifar_10_test_sframe/m_1c06dac8.0003 to /var/tmp/graphlab-mwarrick/6034/000066.0003</pre>"
       ],
       "metadata": {},
       "output_type": "display_data",
       "text": [
        "PROGRESS: Downloading http://s3.amazonaws.com/GraphLab-Datasets/cifar_10/cifar_10_test_sframe/m_1c06dac8.0003 to /var/tmp/graphlab-mwarrick/6034/000066.0003"
       ]
      }
     ],
     "prompt_number": 25
    },
    {
     "cell_type": "code",
     "collapsed": false,
     "input": [
      "cifar_train['image'] = graphlab.image_analysis.resize(cifar_train['image'], 256, 256, 3)\n",
      "cifar_test['image'] = graphlab.image_analysis.resize(cifar_test['image'], 256, 256, 3)"
     ],
     "language": "python",
     "metadata": {},
     "outputs": [],
     "prompt_number": 26
    },
    {
     "cell_type": "code",
     "collapsed": false,
     "input": [
      "cifar_train['features'] = pretrained_model.extract_features(cifar_train)\n",
      "cifar_test['features'] = pretrained_model.extract_features(cifar_test)"
     ],
     "language": "python",
     "metadata": {},
     "outputs": [],
     "prompt_number": 27
    },
    {
     "cell_type": "code",
     "collapsed": false,
     "input": [
      " classifier = graphlab.classifier.create(cifar_train, features=['features'], target='label')"
     ],
     "language": "python",
     "metadata": {},
     "outputs": [
      {
       "html": [
        "<pre>PROGRESS: WARNING: Detected extremely low variance for feature(s) 'features[855]', 'features[865]', 'features[869]', 'features[879]', 'features[933]', 'features[1658]', 'features[2964]', 'features[3011]', 'features[4048]' because all entries are nearly the same.\n",
        "Proceeding with model training using all features. If the model does not provide results of adequate quality, exclude the above mentioned feature(s) from the input dataset.</pre>"
       ],
       "metadata": {},
       "output_type": "display_data",
       "text": [
        "PROGRESS: WARNING: Detected extremely low variance for feature(s) 'features[855]', 'features[865]', 'features[869]', 'features[879]', 'features[933]', 'features[1658]', 'features[2964]', 'features[3011]', 'features[4048]' because all entries are nearly the same.\n",
        "Proceeding with model training using all features. If the model does not provide results of adequate quality, exclude the above mentioned feature(s) from the input dataset."
       ]
      },
      {
       "html": [
        "<pre>PROGRESS: Boosted trees classifier:</pre>"
       ],
       "metadata": {},
       "output_type": "display_data",
       "text": [
        "PROGRESS: Boosted trees classifier:"
       ]
      },
      {
       "html": [
        "<pre>PROGRESS: --------------------------------------------------------</pre>"
       ],
       "metadata": {},
       "output_type": "display_data",
       "text": [
        "PROGRESS: --------------------------------------------------------"
       ]
      },
      {
       "html": [
        "<pre>PROGRESS: Number of examples          : 50000</pre>"
       ],
       "metadata": {},
       "output_type": "display_data",
       "text": [
        "PROGRESS: Number of examples          : 50000"
       ]
      },
      {
       "html": [
        "<pre>PROGRESS: Number of classes           : 10</pre>"
       ],
       "metadata": {},
       "output_type": "display_data",
       "text": [
        "PROGRESS: Number of classes           : 10"
       ]
      },
      {
       "html": [
        "<pre>PROGRESS: Number of feature columns   : 1</pre>"
       ],
       "metadata": {},
       "output_type": "display_data",
       "text": [
        "PROGRESS: Number of feature columns   : 1"
       ]
      },
      {
       "html": [
        "<pre>PROGRESS: Number of unpacked features : 4096</pre>"
       ],
       "metadata": {},
       "output_type": "display_data",
       "text": [
        "PROGRESS: Number of unpacked features : 4096"
       ]
      },
      {
       "html": [
        "<pre>PROGRESS: Starting Boosted Trees</pre>"
       ],
       "metadata": {},
       "output_type": "display_data",
       "text": [
        "PROGRESS: Starting Boosted Trees"
       ]
      },
      {
       "html": [
        "<pre>PROGRESS: --------------------------------------------------------</pre>"
       ],
       "metadata": {},
       "output_type": "display_data",
       "text": [
        "PROGRESS: --------------------------------------------------------"
       ]
      },
      {
       "html": [
        "<pre>PROGRESS:   Iter    Accuracy Elapsed time</pre>"
       ],
       "metadata": {},
       "output_type": "display_data",
       "text": [
        "PROGRESS:   Iter    Accuracy Elapsed time"
       ]
      },
      {
       "html": [
        "<pre>PROGRESS:      0   6.600e-01      241.73s</pre>"
       ],
       "metadata": {},
       "output_type": "display_data",
       "text": [
        "PROGRESS:      0   6.600e-01      241.73s"
       ]
      },
      {
       "html": [
        "<pre>PROGRESS:      1   7.181e-01      451.47s</pre>"
       ],
       "metadata": {},
       "output_type": "display_data",
       "text": [
        "PROGRESS:      1   7.181e-01      451.47s"
       ]
      },
      {
       "html": [
        "<pre>PROGRESS:      2   7.473e-01      644.25s</pre>"
       ],
       "metadata": {},
       "output_type": "display_data",
       "text": [
        "PROGRESS:      2   7.473e-01      644.25s"
       ]
      },
      {
       "html": [
        "<pre>PROGRESS:      3   7.671e-01      832.81s</pre>"
       ],
       "metadata": {},
       "output_type": "display_data",
       "text": [
        "PROGRESS:      3   7.671e-01      832.81s"
       ]
      },
      {
       "html": [
        "<pre>PROGRESS:      4   7.814e-01    11124.03s</pre>"
       ],
       "metadata": {},
       "output_type": "display_data",
       "text": [
        "PROGRESS:      4   7.814e-01    11124.03s"
       ]
      },
      {
       "html": [
        "<pre>PROGRESS:      5   7.931e-01    34166.01s</pre>"
       ],
       "metadata": {},
       "output_type": "display_data",
       "text": [
        "PROGRESS:      5   7.931e-01    34166.01s"
       ]
      },
      {
       "html": [
        "<pre>PROGRESS:      6   8.050e-01    34365.50s</pre>"
       ],
       "metadata": {},
       "output_type": "display_data",
       "text": [
        "PROGRESS:      6   8.050e-01    34365.50s"
       ]
      },
      {
       "html": [
        "<pre>PROGRESS:      7   8.152e-01    34555.69s</pre>"
       ],
       "metadata": {},
       "output_type": "display_data",
       "text": [
        "PROGRESS:      7   8.152e-01    34555.69s"
       ]
      },
      {
       "html": [
        "<pre>PROGRESS:      8   8.252e-01    34740.51s</pre>"
       ],
       "metadata": {},
       "output_type": "display_data",
       "text": [
        "PROGRESS:      8   8.252e-01    34740.51s"
       ]
      },
      {
       "html": [
        "<pre>PROGRESS:      9   8.350e-01    34926.22s</pre>"
       ],
       "metadata": {},
       "output_type": "display_data",
       "text": [
        "PROGRESS:      9   8.350e-01    34926.22s"
       ]
      }
     ],
     "prompt_number": 28
    },
    {
     "cell_type": "code",
     "collapsed": false,
     "input": [
      "classifier.evaluate(cifar_test)"
     ],
     "language": "python",
     "metadata": {},
     "outputs": [
      {
       "metadata": {},
       "output_type": "pyout",
       "prompt_number": 29,
       "text": [
        "{'accuracy': 0.7112, 'confusion_matrix': Columns:\n",
        " \ttarget_label\tint\n",
        " \tpredicted_label\tint\n",
        " \tcount\tint\n",
        " \n",
        " Rows: 100\n",
        " \n",
        " Data:\n",
        " +--------------+-----------------+-------+\n",
        " | target_label | predicted_label | count |\n",
        " +--------------+-----------------+-------+\n",
        " |      0       |        0        |  737  |\n",
        " |      0       |        1        |   31  |\n",
        " |      0       |        2        |   40  |\n",
        " |      0       |        3        |   22  |\n",
        " |      0       |        4        |   12  |\n",
        " |      0       |        5        |   7   |\n",
        " |      0       |        6        |   9   |\n",
        " |      0       |        7        |   9   |\n",
        " |      0       |        8        |   98  |\n",
        " |      0       |        9        |   35  |\n",
        " |     ...      |       ...       |  ...  |\n",
        " +--------------+-----------------+-------+\n",
        " [100 rows x 3 columns]\n",
        " Note: Only the head of the SFrame is printed.\n",
        " You can use print_rows(num_rows=m, num_columns=n) to print more rows and columns.}"
       ]
      }
     ],
     "prompt_number": 29
    },
    {
     "cell_type": "code",
     "collapsed": false,
     "input": [
      "import time\n",
      "print time.time()"
     ],
     "language": "python",
     "metadata": {},
     "outputs": [
      {
       "output_type": "stream",
       "stream": "stdout",
       "text": [
        "1421076805.69\n"
       ]
      }
     ],
     "prompt_number": 30
    },
    {
     "cell_type": "code",
     "collapsed": false,
     "input": [],
     "language": "python",
     "metadata": {},
     "outputs": []
    }
   ],
   "metadata": {}
  }
 ]
}