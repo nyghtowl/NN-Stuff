{
 "metadata": {
  "name": "",
  "signature": "sha256:5c812b560b4a40e4b6b26ea174e540c8fdf993d5af0f1aa1abf12565ff8327ff"
 },
 "nbformat": 3,
 "nbformat_minor": 0,
 "worksheets": [
  {
   "cells": [
    {
     "cell_type": "code",
     "collapsed": false,
     "input": [
      "import numpy as np\n",
      "import matplotlib.pyplot as plt\n",
      "import theano\n",
      "# By convention, the tensor submodule is loaded as T\n",
      "import theano.tensor as T"
     ],
     "language": "python",
     "metadata": {},
     "outputs": [],
     "prompt_number": 7
    },
    {
     "cell_type": "markdown",
     "metadata": {},
     "source": [
      "Site intial theano explore\n"
     ]
    },
    {
     "cell_type": "code",
     "collapsed": false,
     "input": [
      "a = T.dscalar()"
     ],
     "language": "python",
     "metadata": {},
     "outputs": [],
     "prompt_number": 9
    },
    {
     "cell_type": "code",
     "collapsed": false,
     "input": [
      "theano.pp(a)"
     ],
     "language": "python",
     "metadata": {},
     "outputs": [
      {
       "metadata": {},
       "output_type": "pyout",
       "prompt_number": 11,
       "text": [
        "'<TensorType(float64, scalar)>'"
       ]
      }
     ],
     "prompt_number": 11
    },
    {
     "cell_type": "code",
     "collapsed": false,
     "input": [
      "b = T.dscalar()"
     ],
     "language": "python",
     "metadata": {},
     "outputs": [],
     "prompt_number": 12
    },
    {
     "cell_type": "code",
     "collapsed": false,
     "input": [
      "b.type"
     ],
     "language": "python",
     "metadata": {},
     "outputs": [
      {
       "metadata": {},
       "output_type": "pyout",
       "prompt_number": 13,
       "text": [
        "TensorType(float64, scalar)"
       ]
      }
     ],
     "prompt_number": 13
    },
    {
     "cell_type": "code",
     "collapsed": false,
     "input": [
      "c = a + b"
     ],
     "language": "python",
     "metadata": {},
     "outputs": [],
     "prompt_number": 14
    },
    {
     "cell_type": "code",
     "collapsed": false,
     "input": [
      "c"
     ],
     "language": "python",
     "metadata": {},
     "outputs": [
      {
       "metadata": {},
       "output_type": "pyout",
       "prompt_number": 15,
       "text": [
        "Elemwise{add,no_inplace}.0"
       ]
      }
     ],
     "prompt_number": 15
    },
    {
     "cell_type": "code",
     "collapsed": false,
     "input": [
      "f = theano.function([a,b],c)"
     ],
     "language": "python",
     "metadata": {},
     "outputs": [],
     "prompt_number": 16
    },
    {
     "cell_type": "code",
     "collapsed": false,
     "input": [
      "assert(4.0 == f(1.5,2.5))"
     ],
     "language": "python",
     "metadata": {},
     "outputs": [],
     "prompt_number": 28
    },
    {
     "cell_type": "code",
     "collapsed": false,
     "input": [
      "theano.pp(c)"
     ],
     "language": "python",
     "metadata": {},
     "outputs": [
      {
       "metadata": {},
       "output_type": "pyout",
       "prompt_number": 19,
       "text": [
        "'(<TensorType(float64, scalar)> + <TensorType(float64, scalar)>)'"
       ]
      }
     ],
     "prompt_number": 19
    },
    {
     "cell_type": "markdown",
     "metadata": {},
     "source": [
      "Colin Raffell Tutorial - http://nbviewer.ipython.org/github/craffel/theano-tutorial/blob/master/Theano%20Tutorial.ipynb"
     ]
    },
    {
     "cell_type": "code",
     "collapsed": false,
     "input": [
      "foo = T.scalar('foo')"
     ],
     "language": "python",
     "metadata": {},
     "outputs": [],
     "prompt_number": 20
    },
    {
     "cell_type": "code",
     "collapsed": false,
     "input": [
      "bar = foo**2"
     ],
     "language": "python",
     "metadata": {},
     "outputs": [],
     "prompt_number": 21
    },
    {
     "cell_type": "code",
     "collapsed": false,
     "input": [
      "print type(bar)\n",
      "print bar.type\n",
      "print theano.pp(bar)"
     ],
     "language": "python",
     "metadata": {},
     "outputs": [
      {
       "output_type": "stream",
       "stream": "stdout",
       "text": [
        "<class 'theano.tensor.var.TensorVariable'>\n",
        "TensorType(float64, scalar)\n",
        "(foo ** TensorConstant{2})\n"
       ]
      }
     ],
     "prompt_number": 23
    },
    {
     "cell_type": "code",
     "collapsed": false,
     "input": [
      "print f(1.5,2.5)"
     ],
     "language": "python",
     "metadata": {},
     "outputs": [
      {
       "output_type": "stream",
       "stream": "stdout",
       "text": [
        "4.0\n"
       ]
      }
     ],
     "prompt_number": 25
    },
    {
     "cell_type": "code",
     "collapsed": false,
     "input": [
      "g = theano.function([foo], bar)"
     ],
     "language": "python",
     "metadata": {},
     "outputs": [],
     "prompt_number": 29
    },
    {
     "cell_type": "code",
     "collapsed": false,
     "input": [
      "print g(3)"
     ],
     "language": "python",
     "metadata": {},
     "outputs": [
      {
       "output_type": "stream",
       "stream": "stdout",
       "text": [
        "9.0\n"
       ]
      }
     ],
     "prompt_number": 32
    },
    {
     "cell_type": "code",
     "collapsed": false,
     "input": [
      "print bar.eval({foo: 3})"
     ],
     "language": "python",
     "metadata": {},
     "outputs": [
      {
       "output_type": "stream",
       "stream": "stdout",
       "text": [
        "9.0\n"
       ]
      }
     ],
     "prompt_number": 34
    },
    {
     "cell_type": "markdown",
     "metadata": {},
     "source": [
      "Layer Class - most of the functionality is contained below"
     ]
    },
    {
     "cell_type": "code",
     "collapsed": false,
     "input": [
      "class Layer(object):\n",
      "    def __init__(self, W_init, b_init, activation):\n",
      "        n_output, n_input = W_init.shape\n",
      "        assert b_init.shape == (n_output,)\n",
      "        self.W = theano.shared(value=W_init.astype(theano.config.floatX), name='W', borrow=True)\n",
      "        self.b = theano.shared(value=b_init.reshape(-1,1).astype(theano.config.floatX), name='b', borrow=True, broadcastable=(False,True))\n",
      "        self.activation = activation\n",
      "        self.params = [self.W, self.b]\n",
      "\n",
      "    def output(self, x): \n",
      "        lin_output = T.dot(self.W, x) + self.b \n",
      "        return (lin_output if self.activation is None else self.activation(lin_output))\n",
      "    \n"
     ],
     "language": "python",
     "metadata": {},
     "outputs": [],
     "prompt_number": 40
    },
    {
     "cell_type": "code",
     "collapsed": false,
     "input": [
      "# Below helps set cost function to help min cost when training\n",
      "class MLP(object):\n",
      "    def __init__(self, W_init, b_init, activations):\n",
      "        assert len(W_init) == len(b_init) == len(activation)\n",
      "        self.layers = []\n",
      "        for W, b, activation in zip(W_init, b_init, activations):\n",
      "            self.layers.append(Layer(W, b, activation))\n",
      "            \n",
      "        self.params = []\n",
      "        for layer in self.layers:\n",
      "            self.params += layer.params\n",
      "            \n",
      "    def output(self, x): # recursively computes output for each layer\n",
      "        for layer in self. layers:\n",
      "            x = layer.output(x)\n",
      "\n",
      "    def squared_error(self, x, y): # Euclidean distance between input and desired output\n",
      "            return T.sum((self.output(x) - y)**2)"
     ],
     "language": "python",
     "metadata": {},
     "outputs": [],
     "prompt_number": 41
    },
    {
     "cell_type": "code",
     "collapsed": false,
     "input": [],
     "language": "python",
     "metadata": {},
     "outputs": []
    }
   ],
   "metadata": {}
  }
 ]
}